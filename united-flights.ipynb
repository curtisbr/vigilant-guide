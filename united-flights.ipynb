{
 "cells": [
  {
   "cell_type": "code",
   "execution_count": 1,
   "id": "81893e84-ff02-431b-aec5-3de810d2ce93",
   "metadata": {},
   "outputs": [],
   "source": [
    "import pandas as pd"
   ]
  },
  {
   "cell_type": "code",
   "execution_count": 2,
   "id": "af3185d9-6ebd-4ab1-8415-cb94ba3d4a90",
   "metadata": {
    "tags": []
   },
   "outputs": [],
   "source": [
    "df = pd.read_excel('raw-data/united/united-flights-2018-2019.xlsx')"
   ]
  },
  {
   "cell_type": "code",
   "execution_count": 3,
   "id": "168637f0-532a-48b6-a884-04ea16c55b3f",
   "metadata": {},
   "outputs": [],
   "source": [
    "df.to_csv('outputs/united-test.csv')"
   ]
  },
  {
   "cell_type": "code",
   "execution_count": null,
   "id": "4a10aba4-d02b-4ea4-9166-56ded318a89a",
   "metadata": {},
   "outputs": [],
   "source": []
  }
 ],
 "metadata": {
  "kernelspec": {
   "display_name": "Python 3 (ipykernel)",
   "language": "python",
   "name": "python3"
  },
  "language_info": {
   "codemirror_mode": {
    "name": "ipython",
    "version": 3
   },
   "file_extension": ".py",
   "mimetype": "text/x-python",
   "name": "python",
   "nbconvert_exporter": "python",
   "pygments_lexer": "ipython3",
   "version": "3.11.1"
  }
 },
 "nbformat": 4,
 "nbformat_minor": 5
}
