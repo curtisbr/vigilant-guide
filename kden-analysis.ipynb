{
 "cells": [
  {
   "cell_type": "code",
   "execution_count": 1,
   "id": "60e14334-1d1b-402b-a66d-b69797798139",
   "metadata": {},
   "outputs": [],
   "source": [
    "import pandas as pd\n",
    "import os\n",
    "import datetime as dt\n",
    "import numpy as np"
   ]
  },
  {
   "cell_type": "code",
   "execution_count": 2,
   "id": "38ad2ab9-6c63-4c22-97fe-99202009412d",
   "metadata": {},
   "outputs": [],
   "source": [
    "airport = 'DEN'\n",
    "station = 72565003017"
   ]
  },
  {
   "cell_type": "markdown",
   "id": "9d748350-44c3-431d-936b-d8c4cac3aaad",
   "metadata": {},
   "source": [
    "# flights"
   ]
  },
  {
   "cell_type": "code",
   "execution_count": 3,
   "id": "cdb0244c-64de-4166-aac6-12814d693f03",
   "metadata": {
    "tags": []
   },
   "outputs": [],
   "source": [
    "root = 'data/kden/flights/2018/'\n",
    "file_list = []\n",
    "csv_data = []"
   ]
  },
  {
   "cell_type": "code",
   "execution_count": 4,
   "id": "a3d11ac3-340c-41a9-b9cb-ff7ad710b901",
   "metadata": {
    "tags": []
   },
   "outputs": [],
   "source": [
    "for path, subdirs, files in os.walk(root):\n",
    "    for name in files:\n",
    "        if name.endswith('.csv'):\n",
    "            file_list.append(os.path.join(path, name))"
   ]
  },
  {
   "cell_type": "code",
   "execution_count": 5,
   "id": "393048c1-f3d8-4179-bd4a-7e5f0261a5ef",
   "metadata": {
    "tags": []
   },
   "outputs": [],
   "source": [
    "flight_cols = ['FlightDate',\n",
    "       'Marketing_Airline_Network',\n",
    "       'Flight_Number_Marketing_Airline',\n",
    "       'Tail_Number',\n",
    "       'Origin',\n",
    "       'Dest',\n",
    "       'CRSDepTime',\n",
    "       'DepTime',\n",
    "       'DepDelay',\n",
    "       'TaxiOut',\n",
    "       'WheelsOff',\n",
    "        'AirTime',\n",
    "       'WheelsOn',\n",
    "       'TaxiIn',\n",
    "       'CRSArrTime',\n",
    "       'ArrTime',\n",
    "       'ArrDelay',\n",
    "        'Cancelled',\n",
    "        'CancellationCode',\n",
    "        'Diverted',\n",
    "        'CarrierDelay',\n",
    "        'WeatherDelay',\n",
    "        'NASDelay',\n",
    "        'SecurityDelay',\n",
    "        'LateAircraftDelay'\n",
    "       ]"
   ]
  },
  {
   "cell_type": "code",
   "execution_count": 6,
   "id": "2bd98c42-74f2-442c-8a8d-ce9d5962304c",
   "metadata": {
    "tags": []
   },
   "outputs": [],
   "source": [
    "flight_dtypes = {'Marketing_Airline_Network': object,\n",
    "       'Flight_Number_Marketing_Airline': int,\n",
    "       'Tail_Number': object,\n",
    "       'Origin': object,\n",
    "       'Dest': object,\n",
    "       'CRSDepTime': int,\n",
    "       'DepTime': int,\n",
    "       'DepDelay': float,\n",
    "       'TaxiOut': int,\n",
    "       'WheelsOff': int,\n",
    "       'WheelsOn': int,\n",
    "       'TaxiIn': int,\n",
    "       'CRSArrTime': int,\n",
    "       'ArrTime': int,\n",
    "       'ArrDelay': float,\n",
    "        'Cancelled': int,\n",
    "        'CancellationCode': object,\n",
    "        'Diverted': int,\n",
    "        'CarrierDelay': float,\n",
    "        'WeatherDelay': float,\n",
    "        'NASDelay': float,\n",
    "        'SecurityDelay': float,\n",
    "        'LateAircraftDelay': float}"
   ]
  },
  {
   "cell_type": "code",
   "execution_count": 7,
   "id": "bf2e3001-b3b1-40cb-beed-500b7d79dd88",
   "metadata": {},
   "outputs": [],
   "source": [
    "for file in sorted(file_list):\n",
    "    csv_file = pd.read_csv(file, usecols=lambda c: c in flight_cols, parse_dates=['FlightDate'], encoding_errors='ignore', index_col=None, header=0, low_memory=False)\n",
    "    csv_data.append(csv_file)"
   ]
  },
  {
   "cell_type": "code",
   "execution_count": 8,
   "id": "a80a743c-40ab-4229-88b7-8b7aa2fb97c4",
   "metadata": {},
   "outputs": [],
   "source": [
    "flights = pd.concat(csv_data, ignore_index=True)"
   ]
  },
  {
   "cell_type": "code",
   "execution_count": 9,
   "id": "640fbba9-b062-491a-bf42-76cd2339a492",
   "metadata": {
    "tags": []
   },
   "outputs": [],
   "source": [
    "flights = flights[(flights.Dest == airport)]"
   ]
  },
  {
   "cell_type": "code",
   "execution_count": 10,
   "id": "a6e5bbe2-bf56-4967-b27a-f1acf01d0aa5",
   "metadata": {},
   "outputs": [],
   "source": [
    "flights.CRSArrTime = flights.CRSArrTime.astype(str).str.zfill(4)"
   ]
  },
  {
   "cell_type": "code",
   "execution_count": 11,
   "id": "24d1d1b6-027a-4279-ba8a-ea50ae40986b",
   "metadata": {},
   "outputs": [],
   "source": [
    "flights.CRSArrTime = pd.to_datetime(flights.CRSArrTime,format= '%H%M' ).dt.time"
   ]
  },
  {
   "cell_type": "code",
   "execution_count": 12,
   "id": "6bee21a2-e772-4257-b25b-70523fa70a62",
   "metadata": {},
   "outputs": [],
   "source": [
    "flights.CRSArrTime = pd.to_datetime(flights.astype(str).FlightDate + flights.astype(str).CRSArrTime, format='%Y-%m-%d%H:%M:%S')"
   ]
  },
  {
   "cell_type": "code",
   "execution_count": 13,
   "id": "9155bb40-b7bc-4d38-8c76-cfd9eb3109b3",
   "metadata": {},
   "outputs": [],
   "source": [
    "flights.CRSArrTime = flights.CRSArrTime.dt.tz_localize('US/Mountain', ambiguous=np.array([False] * flights.shape[0]))\n",
    "# all False -> every row considered DT, alternative is True to indicate DST."
   ]
  },
  {
   "cell_type": "code",
   "execution_count": 14,
   "id": "ca9ec147-f74e-4bbb-92a7-400ef66fe115",
   "metadata": {},
   "outputs": [],
   "source": [
    "flights['CRSArrTimeUTC'] = flights.CRSArrTime.dt.tz_convert('UTC')"
   ]
  },
  {
   "cell_type": "code",
   "execution_count": 15,
   "id": "e61219c1-f8c1-478b-8115-8d4493f4e3cb",
   "metadata": {},
   "outputs": [],
   "source": [
    "# print(flights[['CRSArrTime', 'CRSArrTimeUTC']])"
   ]
  },
  {
   "cell_type": "code",
   "execution_count": 16,
   "id": "97dc8cf6-6ccc-4082-8710-a8ab79aeb6c0",
   "metadata": {},
   "outputs": [],
   "source": [
    "flights = flights.sort_values(by='CRSArrTimeUTC')"
   ]
  },
  {
   "cell_type": "markdown",
   "id": "9d8aba82-2ab9-4e94-ae2c-d558d3c6e098",
   "metadata": {},
   "source": [
    "# weather"
   ]
  },
  {
   "cell_type": "code",
   "execution_count": 17,
   "id": "ad5f1f33-69e0-4493-b2ee-e05b303277bd",
   "metadata": {},
   "outputs": [],
   "source": [
    "root = 'data/kden/weather/2018/'\n",
    "file_list = []\n",
    "csv_data = []"
   ]
  },
  {
   "cell_type": "code",
   "execution_count": 18,
   "id": "68f87620-e0b7-4a0b-8366-a1fc850a153c",
   "metadata": {},
   "outputs": [],
   "source": [
    "weather_cols = [\n",
    "    'DATE',\n",
    "    'REPORT_TYPE',\n",
    "    'CALL_SIGN',\n",
    "    'VIS',\n",
    "    'REM']"
   ]
  },
  {
   "cell_type": "code",
   "execution_count": 19,
   "id": "e313c506-fcd5-4321-9966-6f7ed1b44e0e",
   "metadata": {},
   "outputs": [],
   "source": [
    "for path, subdirs, files in os.walk(root):\n",
    "    for name in files:\n",
    "        if name.endswith('.csv'):\n",
    "            file_list.append(os.path.join(path, name))"
   ]
  },
  {
   "cell_type": "code",
   "execution_count": 20,
   "id": "e69f8d43-db60-4eb0-9639-45f829478c45",
   "metadata": {},
   "outputs": [],
   "source": [
    "for file in sorted(file_list):\n",
    "    csv_file = pd.read_csv(file, usecols=lambda c: c in weather_cols, parse_dates=['DATE'], encoding_errors='ignore', index_col=None, header=0, low_memory=False)\n",
    "    csv_data.append(csv_file)"
   ]
  },
  {
   "cell_type": "code",
   "execution_count": 21,
   "id": "a768b0ca-8f41-43ed-891c-71e1d180eb87",
   "metadata": {},
   "outputs": [],
   "source": [
    "weather = pd.concat(csv_data, ignore_index=True)"
   ]
  },
  {
   "cell_type": "code",
   "execution_count": 22,
   "id": "f43341ad-b9f6-40ec-add3-69ddf8f12e35",
   "metadata": {},
   "outputs": [],
   "source": [
    "weather = weather[(weather.REPORT_TYPE == 'FM-15') | (weather.REPORT_TYPE == 'FM-16')]"
   ]
  },
  {
   "cell_type": "code",
   "execution_count": 23,
   "id": "8756e780-7304-423f-bffc-ad252ce867c5",
   "metadata": {},
   "outputs": [],
   "source": [
    "weather = pd.concat([weather, weather.VIS.str.split(',', expand=True)], axis=1)\n",
    "weather = weather.rename(columns={0: 'VIS_METERS', 1: 'VIS_Q', 2: 'VIS_V', 3: 'VIS_QV'})\n",
    "weather = weather.drop(columns={'VIS', 'VIS_Q', 'VIS_QV'})\n",
    "weather.VIS_METERS = pd.to_numeric(weather.VIS_METERS)"
   ]
  },
  {
   "cell_type": "code",
   "execution_count": 24,
   "id": "37244b68-b361-4fb4-8339-55be2deb455a",
   "metadata": {},
   "outputs": [],
   "source": [
    "weather.DATE = pd.to_datetime(weather.DATE, utc='True')"
   ]
  },
  {
   "cell_type": "code",
   "execution_count": 25,
   "id": "5f6a624b-0908-4dba-94eb-63d6b9dcf5f5",
   "metadata": {},
   "outputs": [],
   "source": [
    "weather = weather[['DATE', 'VIS_METERS', 'REM']]"
   ]
  },
  {
   "cell_type": "markdown",
   "id": "43e07563-5ce8-4df9-8b34-87856e08453c",
   "metadata": {},
   "source": [
    "# merge flights & weather"
   ]
  },
  {
   "cell_type": "code",
   "execution_count": 26,
   "id": "5fa7dc0b-17b5-4b85-a641-e07a0ce534c8",
   "metadata": {},
   "outputs": [],
   "source": [
    "data = pd.merge_asof(left=flights, right=weather, left_on='CRSArrTimeUTC', right_on='DATE', direction='nearest')"
   ]
  },
  {
   "cell_type": "code",
   "execution_count": 27,
   "id": "ead50b9c-9412-4947-b0fa-7ef8a16791e4",
   "metadata": {},
   "outputs": [
    {
     "name": "stdout",
     "output_type": "stream",
     "text": [
      "<class 'pandas.core.frame.DataFrame'>\n",
      "Int64Index: 274216 entries, 0 to 274215\n",
      "Data columns (total 29 columns):\n",
      " #   Column                           Non-Null Count   Dtype                      \n",
      "---  ------                           --------------   -----                      \n",
      " 0   FlightDate                       274216 non-null  datetime64[ns]             \n",
      " 1   Marketing_Airline_Network        274216 non-null  object                     \n",
      " 2   Flight_Number_Marketing_Airline  274216 non-null  int64                      \n",
      " 3   Tail_Number                      273016 non-null  object                     \n",
      " 4   Origin                           274216 non-null  object                     \n",
      " 5   Dest                             274216 non-null  object                     \n",
      " 6   CRSDepTime                       274216 non-null  int64                      \n",
      " 7   DepTime                          271876 non-null  float64                    \n",
      " 8   DepDelay                         271866 non-null  float64                    \n",
      " 9   TaxiOut                          271819 non-null  float64                    \n",
      " 10  WheelsOff                        271819 non-null  float64                    \n",
      " 11  WheelsOn                         271798 non-null  float64                    \n",
      " 12  TaxiIn                           271798 non-null  float64                    \n",
      " 13  CRSArrTime                       274216 non-null  datetime64[ns, US/Mountain]\n",
      " 14  ArrTime                          271798 non-null  float64                    \n",
      " 15  ArrDelay                         271007 non-null  float64                    \n",
      " 16  Cancelled                        274216 non-null  float64                    \n",
      " 17  CancellationCode                 2401 non-null    object                     \n",
      " 18  Diverted                         274216 non-null  float64                    \n",
      " 19  AirTime                          271007 non-null  float64                    \n",
      " 20  CarrierDelay                     45432 non-null   float64                    \n",
      " 21  WeatherDelay                     45432 non-null   float64                    \n",
      " 22  NASDelay                         45432 non-null   float64                    \n",
      " 23  SecurityDelay                    45432 non-null   float64                    \n",
      " 24  LateAircraftDelay                45432 non-null   float64                    \n",
      " 25  CRSArrTimeUTC                    274216 non-null  datetime64[ns, UTC]        \n",
      " 26  DATE                             274216 non-null  datetime64[ns, UTC]        \n",
      " 27  VIS_METERS                       274216 non-null  int64                      \n",
      " 28  REM                              274216 non-null  object                     \n",
      "dtypes: datetime64[ns, US/Mountain](1), datetime64[ns, UTC](2), datetime64[ns](1), float64(16), int64(3), object(6)\n",
      "memory usage: 62.8+ MB\n"
     ]
    }
   ],
   "source": [
    "data.info()"
   ]
  },
  {
   "cell_type": "code",
   "execution_count": 28,
   "id": "9df56ef6-688b-4d66-92c6-2f6d80cfefcd",
   "metadata": {},
   "outputs": [],
   "source": [
    "data.to_csv('outputs/test.csv')"
   ]
  }
 ],
 "metadata": {
  "kernelspec": {
   "display_name": "Python 3 (ipykernel)",
   "language": "python",
   "name": "python3"
  },
  "language_info": {
   "codemirror_mode": {
    "name": "ipython",
    "version": 3
   },
   "file_extension": ".py",
   "mimetype": "text/x-python",
   "name": "python",
   "nbconvert_exporter": "python",
   "pygments_lexer": "ipython3",
   "version": "3.11.1"
  }
 },
 "nbformat": 4,
 "nbformat_minor": 5
}
