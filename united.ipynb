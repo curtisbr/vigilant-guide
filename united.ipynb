{
 "cells": [
  {
   "cell_type": "code",
   "execution_count": 1,
   "id": "052c9924-1ed0-4c5a-b833-8265575ae92a",
   "metadata": {},
   "outputs": [],
   "source": [
    "import pandas as pd"
   ]
  },
  {
   "cell_type": "code",
   "execution_count": 2,
   "id": "d65354cf-df61-4e96-9d78-c51001dad932",
   "metadata": {},
   "outputs": [],
   "source": [
    "metar = pd.read_csv('data/united/united-metar-data.csv', dtype={0: str})"
   ]
  },
  {
   "cell_type": "code",
   "execution_count": 3,
   "id": "cde60c26-0ddf-4782-879f-9888c6857ddf",
   "metadata": {},
   "outputs": [],
   "source": [
    "metar['DATE'] = pd.to_datetime(metar['DATE'], utc='True')"
   ]
  },
  {
   "cell_type": "code",
   "execution_count": 4,
   "id": "dca5bd8a-7171-465b-a47e-7e37fea3735f",
   "metadata": {},
   "outputs": [],
   "source": [
    "metar['STATION'] = metar['STATION'].str.zfill(11)"
   ]
  },
  {
   "cell_type": "code",
   "execution_count": 5,
   "id": "b1197c66-d2b5-4e42-9812-642bb35cadc4",
   "metadata": {},
   "outputs": [],
   "source": [
    "metar = metar.sort_values(by='DATE')"
   ]
  },
  {
   "cell_type": "code",
   "execution_count": 6,
   "id": "c883b269-fde9-4a5e-b2aa-e4b1910509ee",
   "metadata": {},
   "outputs": [],
   "source": [
    "metar = pd.concat([metar, metar.VIS.str.split(',', expand=True)], axis=1)\n",
    "metar = metar.drop([1, 2, 3], axis=1)\n",
    "metar = metar.rename(\n",
    "    columns={\n",
    "        0: 'VIS_METERS'})\n",
    "metar.VIS_METERS = pd.to_numeric(metar.VIS_METERS)"
   ]
  },
  {
   "cell_type": "code",
   "execution_count": 7,
   "id": "931906f8-679d-4439-88ee-90eb1de3e7d5",
   "metadata": {},
   "outputs": [],
   "source": [
    "metar = pd.concat([metar, metar.WND.str.split(',', expand=True)], axis=1)\n",
    "metar = metar.drop([1, 2, 4], axis=1)\n",
    "metar = metar.rename(\n",
    "    columns={\n",
    "        0: 'WND_ANGLE',  \n",
    "        3: 'WND_SPEED'})\n",
    "metar.WND_ANGLE = pd.to_numeric(metar.WND_ANGLE)\n",
    "metar.WND_SPEED = pd.to_numeric(metar.WND_SPEED)"
   ]
  },
  {
   "cell_type": "code",
   "execution_count": 8,
   "id": "2d25b31b-ad26-4783-b271-a0b061dd2046",
   "metadata": {},
   "outputs": [],
   "source": [
    "metar = pd.concat([metar, metar.CIG.str.split(',', expand=True)], axis=1)\n",
    "metar = metar.drop([1, 2, 3], axis=1)\n",
    "metar = metar.rename(\n",
    "    columns={\n",
    "        0: 'CIG_HEIGHT'})\n",
    "metar.CIG_HEIGHT = pd.to_numeric(metar.CIG_HEIGHT)"
   ]
  },
  {
   "cell_type": "code",
   "execution_count": 9,
   "id": "0bfed00e-4d02-4dfc-9b65-86bcf331c39f",
   "metadata": {},
   "outputs": [],
   "source": [
    "metar = pd.concat([metar, metar.TMP.str.split(',', expand=True)], axis=1)\n",
    "metar = metar.drop([1], axis=1)\n",
    "metar = metar.rename(\n",
    "    columns={\n",
    "        0: 'TMP_DEG_C'})\n",
    "metar.TMP_DEG_C = pd.to_numeric(metar.TMP_DEG_C)"
   ]
  },
  {
   "cell_type": "code",
   "execution_count": 10,
   "id": "1a9e2044-7243-4fd8-a999-0710400a1c02",
   "metadata": {},
   "outputs": [],
   "source": [
    "metar = pd.concat([metar, metar.DEW.str.split(',', expand=True)], axis=1)\n",
    "metar = metar.drop([1], axis=1)\n",
    "metar = metar.rename(\n",
    "    columns={\n",
    "        0: 'DEW_DEG_C'})\n",
    "metar.DEW_DEG_C = pd.to_numeric(metar.DEW_DEG_C)"
   ]
  },
  {
   "cell_type": "code",
   "execution_count": 11,
   "id": "fd6a7b54-f0e0-4292-9fc9-6fa48fd10c30",
   "metadata": {},
   "outputs": [
    {
     "data": {
      "text/html": [
       "<div>\n",
       "<style scoped>\n",
       "    .dataframe tbody tr th:only-of-type {\n",
       "        vertical-align: middle;\n",
       "    }\n",
       "\n",
       "    .dataframe tbody tr th {\n",
       "        vertical-align: top;\n",
       "    }\n",
       "\n",
       "    .dataframe thead th {\n",
       "        text-align: right;\n",
       "    }\n",
       "</style>\n",
       "<table border=\"1\" class=\"dataframe\">\n",
       "  <thead>\n",
       "    <tr style=\"text-align: right;\">\n",
       "      <th></th>\n",
       "      <th>STATION</th>\n",
       "      <th>DATE</th>\n",
       "      <th>REPORT_TYPE</th>\n",
       "      <th>WND</th>\n",
       "      <th>CIG</th>\n",
       "      <th>VIS</th>\n",
       "      <th>TMP</th>\n",
       "      <th>DEW</th>\n",
       "      <th>SLP</th>\n",
       "      <th>REM</th>\n",
       "      <th>VIS_METERS</th>\n",
       "      <th>WND_ANGLE</th>\n",
       "      <th>WND_SPEED</th>\n",
       "      <th>CIG_HEIGHT</th>\n",
       "      <th>TMP_DEG_C</th>\n",
       "      <th>DEW_DEG_C</th>\n",
       "    </tr>\n",
       "  </thead>\n",
       "  <tbody>\n",
       "    <tr>\n",
       "      <th>1488931</th>\n",
       "      <td>78762099999</td>\n",
       "      <td>2018-01-01 00:00:00+00:00</td>\n",
       "      <td>FM-15</td>\n",
       "      <td>120,1,N,0051,1</td>\n",
       "      <td>99999,9,9,Y</td>\n",
       "      <td>009900,1,9,9</td>\n",
       "      <td>+0210,1</td>\n",
       "      <td>+0130,1</td>\n",
       "      <td>99999,9</td>\n",
       "      <td>MET051METAR MROC 010000Z 12010KT CAVOK 21/13 A...</td>\n",
       "      <td>9900</td>\n",
       "      <td>120</td>\n",
       "      <td>51</td>\n",
       "      <td>99999</td>\n",
       "      <td>210</td>\n",
       "      <td>130</td>\n",
       "    </tr>\n",
       "    <tr>\n",
       "      <th>1473919</th>\n",
       "      <td>78583099999</td>\n",
       "      <td>2018-01-01 00:00:00+00:00</td>\n",
       "      <td>FM-15</td>\n",
       "      <td>999,9,C,0000,1</td>\n",
       "      <td>99999,9,9,N</td>\n",
       "      <td>009999,1,9,9</td>\n",
       "      <td>+0240,1</td>\n",
       "      <td>+0230,1</td>\n",
       "      <td>99999,9</td>\n",
       "      <td>MET063METAR MZBZ 010000Z 00000KT 9999 FEW018 2...</td>\n",
       "      <td>9999</td>\n",
       "      <td>999</td>\n",
       "      <td>0</td>\n",
       "      <td>99999</td>\n",
       "      <td>240</td>\n",
       "      <td>230</td>\n",
       "    </tr>\n",
       "    <tr>\n",
       "      <th>381935</th>\n",
       "      <td>46686099999</td>\n",
       "      <td>2018-01-01 00:00:00+00:00</td>\n",
       "      <td>FM-15</td>\n",
       "      <td>060,1,N,0067,1</td>\n",
       "      <td>01829,1,C,N</td>\n",
       "      <td>009999,1,9,9</td>\n",
       "      <td>+0170,1</td>\n",
       "      <td>+0120,1</td>\n",
       "      <td>99999,9</td>\n",
       "      <td>MET074METAR RCTP 010000Z 06013KT 9999 FEW020 S...</td>\n",
       "      <td>9999</td>\n",
       "      <td>60</td>\n",
       "      <td>67</td>\n",
       "      <td>1829</td>\n",
       "      <td>170</td>\n",
       "      <td>120</td>\n",
       "    </tr>\n",
       "    <tr>\n",
       "      <th>1479807</th>\n",
       "      <td>78720099999</td>\n",
       "      <td>2018-01-01 00:00:00+00:00</td>\n",
       "      <td>FM-15</td>\n",
       "      <td>040,1,N,0021,1</td>\n",
       "      <td>99999,9,9,N</td>\n",
       "      <td>009999,1,9,9</td>\n",
       "      <td>+0210,1</td>\n",
       "      <td>+0140,1</td>\n",
       "      <td>99999,9</td>\n",
       "      <td>MET063METAR MHTG 010000Z 04004KT 9999 FEW030 2...</td>\n",
       "      <td>9999</td>\n",
       "      <td>40</td>\n",
       "      <td>21</td>\n",
       "      <td>99999</td>\n",
       "      <td>210</td>\n",
       "      <td>140</td>\n",
       "    </tr>\n",
       "    <tr>\n",
       "      <th>365008</th>\n",
       "      <td>42181099999</td>\n",
       "      <td>2018-01-01 00:00:00+00:00</td>\n",
       "      <td>FM-15</td>\n",
       "      <td>260,1,N,0015,1</td>\n",
       "      <td>99999,9,9,N</td>\n",
       "      <td>000050,1,9,9</td>\n",
       "      <td>+0080,1</td>\n",
       "      <td>+0070,1</td>\n",
       "      <td>99999,9</td>\n",
       "      <td>MET077METAR VIDP 010000Z 26003KT 0050 R28/0950...</td>\n",
       "      <td>50</td>\n",
       "      <td>260</td>\n",
       "      <td>15</td>\n",
       "      <td>99999</td>\n",
       "      <td>80</td>\n",
       "      <td>70</td>\n",
       "    </tr>\n",
       "  </tbody>\n",
       "</table>\n",
       "</div>"
      ],
      "text/plain": [
       "             STATION                      DATE REPORT_TYPE             WND  \\\n",
       "1488931  78762099999 2018-01-01 00:00:00+00:00       FM-15  120,1,N,0051,1   \n",
       "1473919  78583099999 2018-01-01 00:00:00+00:00       FM-15  999,9,C,0000,1   \n",
       "381935   46686099999 2018-01-01 00:00:00+00:00       FM-15  060,1,N,0067,1   \n",
       "1479807  78720099999 2018-01-01 00:00:00+00:00       FM-15  040,1,N,0021,1   \n",
       "365008   42181099999 2018-01-01 00:00:00+00:00       FM-15  260,1,N,0015,1   \n",
       "\n",
       "                 CIG           VIS      TMP      DEW      SLP  \\\n",
       "1488931  99999,9,9,Y  009900,1,9,9  +0210,1  +0130,1  99999,9   \n",
       "1473919  99999,9,9,N  009999,1,9,9  +0240,1  +0230,1  99999,9   \n",
       "381935   01829,1,C,N  009999,1,9,9  +0170,1  +0120,1  99999,9   \n",
       "1479807  99999,9,9,N  009999,1,9,9  +0210,1  +0140,1  99999,9   \n",
       "365008   99999,9,9,N  000050,1,9,9  +0080,1  +0070,1  99999,9   \n",
       "\n",
       "                                                       REM  VIS_METERS  \\\n",
       "1488931  MET051METAR MROC 010000Z 12010KT CAVOK 21/13 A...        9900   \n",
       "1473919  MET063METAR MZBZ 010000Z 00000KT 9999 FEW018 2...        9999   \n",
       "381935   MET074METAR RCTP 010000Z 06013KT 9999 FEW020 S...        9999   \n",
       "1479807  MET063METAR MHTG 010000Z 04004KT 9999 FEW030 2...        9999   \n",
       "365008   MET077METAR VIDP 010000Z 26003KT 0050 R28/0950...          50   \n",
       "\n",
       "         WND_ANGLE  WND_SPEED  CIG_HEIGHT  TMP_DEG_C  DEW_DEG_C  \n",
       "1488931        120         51       99999        210        130  \n",
       "1473919        999          0       99999        240        230  \n",
       "381935          60         67        1829        170        120  \n",
       "1479807         40         21       99999        210        140  \n",
       "365008         260         15       99999         80         70  "
      ]
     },
     "execution_count": 11,
     "metadata": {},
     "output_type": "execute_result"
    }
   ],
   "source": [
    "metar.head()"
   ]
  },
  {
   "cell_type": "code",
   "execution_count": 12,
   "id": "cb2680ba-1ecb-4a84-b9ab-dd7914fa4a2a",
   "metadata": {},
   "outputs": [
    {
     "name": "stdout",
     "output_type": "stream",
     "text": [
      "<class 'pandas.core.frame.DataFrame'>\n",
      "Int64Index: 3254284 entries, 1488931 to 2852720\n",
      "Data columns (total 16 columns):\n",
      " #   Column       Dtype              \n",
      "---  ------       -----              \n",
      " 0   STATION      object             \n",
      " 1   DATE         datetime64[ns, UTC]\n",
      " 2   REPORT_TYPE  object             \n",
      " 3   WND          object             \n",
      " 4   CIG          object             \n",
      " 5   VIS          object             \n",
      " 6   TMP          object             \n",
      " 7   DEW          object             \n",
      " 8   SLP          object             \n",
      " 9   REM          object             \n",
      " 10  VIS_METERS   int64              \n",
      " 11  WND_ANGLE    int64              \n",
      " 12  WND_SPEED    int64              \n",
      " 13  CIG_HEIGHT   int64              \n",
      " 14  TMP_DEG_C    int64              \n",
      " 15  DEW_DEG_C    int64              \n",
      "dtypes: datetime64[ns, UTC](1), int64(6), object(9)\n",
      "memory usage: 422.1+ MB\n"
     ]
    }
   ],
   "source": [
    "metar.info()"
   ]
  },
  {
   "cell_type": "code",
   "execution_count": 13,
   "id": "2e3d61c3-f7c1-42d4-bc43-dcf5c293356d",
   "metadata": {},
   "outputs": [],
   "source": [
    "stations = pd.read_csv('data/united/station-list.csv', header=None, dtype={0: str, 1: str}, names=['DEST', 'STATION'])"
   ]
  },
  {
   "cell_type": "code",
   "execution_count": 14,
   "id": "15877e86-3bae-4f43-bc39-1cf89f215e5d",
   "metadata": {},
   "outputs": [],
   "source": [
    "stations['STATION'] = stations['STATION'].str.zfill(11)"
   ]
  },
  {
   "cell_type": "code",
   "execution_count": 15,
   "id": "cb459549-7f87-4b3e-933c-e2aa5421c7d6",
   "metadata": {},
   "outputs": [
    {
     "data": {
      "text/html": [
       "<div>\n",
       "<style scoped>\n",
       "    .dataframe tbody tr th:only-of-type {\n",
       "        vertical-align: middle;\n",
       "    }\n",
       "\n",
       "    .dataframe tbody tr th {\n",
       "        vertical-align: top;\n",
       "    }\n",
       "\n",
       "    .dataframe thead th {\n",
       "        text-align: right;\n",
       "    }\n",
       "</style>\n",
       "<table border=\"1\" class=\"dataframe\">\n",
       "  <thead>\n",
       "    <tr style=\"text-align: right;\">\n",
       "      <th></th>\n",
       "      <th>DEST</th>\n",
       "      <th>STATION</th>\n",
       "    </tr>\n",
       "  </thead>\n",
       "  <tbody>\n",
       "    <tr>\n",
       "      <th>0</th>\n",
       "      <td>SAN</td>\n",
       "      <td>72290023188</td>\n",
       "    </tr>\n",
       "    <tr>\n",
       "      <th>1</th>\n",
       "      <td>OMA</td>\n",
       "      <td>72550014942</td>\n",
       "    </tr>\n",
       "    <tr>\n",
       "      <th>2</th>\n",
       "      <td>PTY</td>\n",
       "      <td>78792099999</td>\n",
       "    </tr>\n",
       "    <tr>\n",
       "      <th>3</th>\n",
       "      <td>MAD</td>\n",
       "      <td>08221099999</td>\n",
       "    </tr>\n",
       "    <tr>\n",
       "      <th>4</th>\n",
       "      <td>DEL</td>\n",
       "      <td>42181099999</td>\n",
       "    </tr>\n",
       "  </tbody>\n",
       "</table>\n",
       "</div>"
      ],
      "text/plain": [
       "  DEST      STATION\n",
       "0  SAN  72290023188\n",
       "1  OMA  72550014942\n",
       "2  PTY  78792099999\n",
       "3  MAD  08221099999\n",
       "4  DEL  42181099999"
      ]
     },
     "execution_count": 15,
     "metadata": {},
     "output_type": "execute_result"
    }
   ],
   "source": [
    "stations.head()"
   ]
  },
  {
   "cell_type": "code",
   "execution_count": 16,
   "id": "466006b0-6697-4f49-b2cd-b4337a82db0e",
   "metadata": {},
   "outputs": [
    {
     "name": "stdout",
     "output_type": "stream",
     "text": [
      "<class 'pandas.core.frame.DataFrame'>\n",
      "RangeIndex: 132 entries, 0 to 131\n",
      "Data columns (total 2 columns):\n",
      " #   Column   Non-Null Count  Dtype \n",
      "---  ------   --------------  ----- \n",
      " 0   DEST     132 non-null    object\n",
      " 1   STATION  132 non-null    object\n",
      "dtypes: object(2)\n",
      "memory usage: 2.2+ KB\n"
     ]
    }
   ],
   "source": [
    "stations.info()"
   ]
  },
  {
   "cell_type": "code",
   "execution_count": 17,
   "id": "2d3401f5-70de-4347-85b6-c10acaad4cdf",
   "metadata": {},
   "outputs": [],
   "source": [
    "flights = pd.read_csv('data/united/united-flights.csv')"
   ]
  },
  {
   "cell_type": "code",
   "execution_count": 18,
   "id": "231942ba-f99a-4033-a652-2c2b419ca001",
   "metadata": {},
   "outputs": [],
   "source": [
    "del flights[flights.columns[0]]"
   ]
  },
  {
   "cell_type": "code",
   "execution_count": 19,
   "id": "24da8b34-fa1c-4d1c-a299-f4bbbf82a6c6",
   "metadata": {},
   "outputs": [],
   "source": [
    "flights['DEST'] = flights['DEST'].str.replace(' ', '')"
   ]
  },
  {
   "cell_type": "code",
   "execution_count": 20,
   "id": "f344b6a9-d9d6-449b-83d7-7dbd9063a8e5",
   "metadata": {},
   "outputs": [],
   "source": [
    "flights['DATE'] = pd.to_datetime(flights['DESTOBSERVATIONTIME'], utc='True')"
   ]
  },
  {
   "cell_type": "code",
   "execution_count": 21,
   "id": "6016ae04-f654-4466-8e38-bfae31fc7492",
   "metadata": {},
   "outputs": [],
   "source": [
    "flights = flights.drop(columns='DESTOBSERVATIONTIME')"
   ]
  },
  {
   "cell_type": "code",
   "execution_count": 22,
   "id": "f406a39b-c48c-400c-af4d-33332d5adb47",
   "metadata": {},
   "outputs": [],
   "source": [
    "flights = pd.merge(flights, stations, how='left', on=['DEST'])"
   ]
  },
  {
   "cell_type": "code",
   "execution_count": 23,
   "id": "80e68809-7f9e-403d-9035-2bc44485b3ae",
   "metadata": {},
   "outputs": [
    {
     "name": "stdout",
     "output_type": "stream",
     "text": [
      "<class 'pandas.core.frame.DataFrame'>\n",
      "Int64Index: 5769 entries, 0 to 5768\n",
      "Data columns (total 4 columns):\n",
      " #   Column      Non-Null Count  Dtype              \n",
      "---  ------      --------------  -----              \n",
      " 0   FLIGHTDATE  5769 non-null   int64              \n",
      " 1   DEST        5769 non-null   object             \n",
      " 2   DATE        5769 non-null   datetime64[ns, UTC]\n",
      " 3   STATION     5769 non-null   object             \n",
      "dtypes: datetime64[ns, UTC](1), int64(1), object(2)\n",
      "memory usage: 225.4+ KB\n"
     ]
    }
   ],
   "source": [
    "flights.info()"
   ]
  },
  {
   "cell_type": "code",
   "execution_count": 24,
   "id": "8e129ae1-8bb0-43cd-8ae3-7ae3203023f7",
   "metadata": {},
   "outputs": [],
   "source": [
    "flights = flights.sort_values(by='DATE')"
   ]
  },
  {
   "cell_type": "code",
   "execution_count": 25,
   "id": "79799cdf-d3d3-4490-a402-5003b87bae9e",
   "metadata": {},
   "outputs": [
    {
     "data": {
      "text/html": [
       "<div>\n",
       "<style scoped>\n",
       "    .dataframe tbody tr th:only-of-type {\n",
       "        vertical-align: middle;\n",
       "    }\n",
       "\n",
       "    .dataframe tbody tr th {\n",
       "        vertical-align: top;\n",
       "    }\n",
       "\n",
       "    .dataframe thead th {\n",
       "        text-align: right;\n",
       "    }\n",
       "</style>\n",
       "<table border=\"1\" class=\"dataframe\">\n",
       "  <thead>\n",
       "    <tr style=\"text-align: right;\">\n",
       "      <th></th>\n",
       "      <th>FLIGHTDATE</th>\n",
       "      <th>DEST</th>\n",
       "      <th>DATE</th>\n",
       "      <th>STATION</th>\n",
       "    </tr>\n",
       "  </thead>\n",
       "  <tbody>\n",
       "    <tr>\n",
       "      <th>3</th>\n",
       "      <td>20180101</td>\n",
       "      <td>SAN</td>\n",
       "      <td>2018-01-01 15:51:00+00:00</td>\n",
       "      <td>72290023188</td>\n",
       "    </tr>\n",
       "    <tr>\n",
       "      <th>0</th>\n",
       "      <td>20180101</td>\n",
       "      <td>SAN</td>\n",
       "      <td>2018-01-01 17:20:00+00:00</td>\n",
       "      <td>72290023188</td>\n",
       "    </tr>\n",
       "    <tr>\n",
       "      <th>1</th>\n",
       "      <td>20180101</td>\n",
       "      <td>SAN</td>\n",
       "      <td>2018-01-01 17:20:00+00:00</td>\n",
       "      <td>72290023188</td>\n",
       "    </tr>\n",
       "    <tr>\n",
       "      <th>2</th>\n",
       "      <td>20180101</td>\n",
       "      <td>OMA</td>\n",
       "      <td>2018-01-02 06:26:00+00:00</td>\n",
       "      <td>72550014942</td>\n",
       "    </tr>\n",
       "    <tr>\n",
       "      <th>6</th>\n",
       "      <td>20180102</td>\n",
       "      <td>PTY</td>\n",
       "      <td>2018-01-02 19:00:00+00:00</td>\n",
       "      <td>78792099999</td>\n",
       "    </tr>\n",
       "  </tbody>\n",
       "</table>\n",
       "</div>"
      ],
      "text/plain": [
       "   FLIGHTDATE DEST                      DATE      STATION\n",
       "3    20180101  SAN 2018-01-01 15:51:00+00:00  72290023188\n",
       "0    20180101  SAN 2018-01-01 17:20:00+00:00  72290023188\n",
       "1    20180101  SAN 2018-01-01 17:20:00+00:00  72290023188\n",
       "2    20180101  OMA 2018-01-02 06:26:00+00:00  72550014942\n",
       "6    20180102  PTY 2018-01-02 19:00:00+00:00  78792099999"
      ]
     },
     "execution_count": 25,
     "metadata": {},
     "output_type": "execute_result"
    }
   ],
   "source": [
    "flights.head()"
   ]
  },
  {
   "cell_type": "code",
   "execution_count": 26,
   "id": "10244a70-b78c-4781-aee9-8ecc6ecd635a",
   "metadata": {
    "tags": []
   },
   "outputs": [],
   "source": [
    "data = pd.merge_asof(left=flights, right=metar, on='DATE', direction='nearest', by='STATION')"
   ]
  },
  {
   "cell_type": "code",
   "execution_count": 27,
   "id": "634f4ec1-e820-4fc0-a261-456c2bd0cb3c",
   "metadata": {},
   "outputs": [
    {
     "name": "stdout",
     "output_type": "stream",
     "text": [
      "<class 'pandas.core.frame.DataFrame'>\n",
      "Int64Index: 5769 entries, 0 to 5768\n",
      "Data columns (total 18 columns):\n",
      " #   Column       Non-Null Count  Dtype              \n",
      "---  ------       --------------  -----              \n",
      " 0   FLIGHTDATE   5769 non-null   int64              \n",
      " 1   DEST         5769 non-null   object             \n",
      " 2   DATE         5769 non-null   datetime64[ns, UTC]\n",
      " 3   STATION      5769 non-null   object             \n",
      " 4   REPORT_TYPE  5769 non-null   object             \n",
      " 5   WND          5769 non-null   object             \n",
      " 6   CIG          5769 non-null   object             \n",
      " 7   VIS          5769 non-null   object             \n",
      " 8   TMP          5769 non-null   object             \n",
      " 9   DEW          5769 non-null   object             \n",
      " 10  SLP          5769 non-null   object             \n",
      " 11  REM          5769 non-null   object             \n",
      " 12  VIS_METERS   5769 non-null   int64              \n",
      " 13  WND_ANGLE    5769 non-null   int64              \n",
      " 14  WND_SPEED    5769 non-null   int64              \n",
      " 15  CIG_HEIGHT   5769 non-null   int64              \n",
      " 16  TMP_DEG_C    5769 non-null   int64              \n",
      " 17  DEW_DEG_C    5769 non-null   int64              \n",
      "dtypes: datetime64[ns, UTC](1), int64(7), object(10)\n",
      "memory usage: 856.3+ KB\n"
     ]
    }
   ],
   "source": [
    "data.info()"
   ]
  },
  {
   "cell_type": "code",
   "execution_count": 28,
   "id": "bf7b2cd1-9468-4b72-843f-01f3ef5932ed",
   "metadata": {},
   "outputs": [
    {
     "data": {
      "text/html": [
       "<div>\n",
       "<style scoped>\n",
       "    .dataframe tbody tr th:only-of-type {\n",
       "        vertical-align: middle;\n",
       "    }\n",
       "\n",
       "    .dataframe tbody tr th {\n",
       "        vertical-align: top;\n",
       "    }\n",
       "\n",
       "    .dataframe thead th {\n",
       "        text-align: right;\n",
       "    }\n",
       "</style>\n",
       "<table border=\"1\" class=\"dataframe\">\n",
       "  <thead>\n",
       "    <tr style=\"text-align: right;\">\n",
       "      <th></th>\n",
       "      <th>FLIGHTDATE</th>\n",
       "      <th>DEST</th>\n",
       "      <th>DATE</th>\n",
       "      <th>STATION</th>\n",
       "      <th>REPORT_TYPE</th>\n",
       "      <th>WND</th>\n",
       "      <th>CIG</th>\n",
       "      <th>VIS</th>\n",
       "      <th>TMP</th>\n",
       "      <th>DEW</th>\n",
       "      <th>SLP</th>\n",
       "      <th>REM</th>\n",
       "      <th>VIS_METERS</th>\n",
       "      <th>WND_ANGLE</th>\n",
       "      <th>WND_SPEED</th>\n",
       "      <th>CIG_HEIGHT</th>\n",
       "      <th>TMP_DEG_C</th>\n",
       "      <th>DEW_DEG_C</th>\n",
       "    </tr>\n",
       "  </thead>\n",
       "  <tbody>\n",
       "    <tr>\n",
       "      <th>0</th>\n",
       "      <td>20180101</td>\n",
       "      <td>SAN</td>\n",
       "      <td>2018-01-01 15:51:00+00:00</td>\n",
       "      <td>72290023188</td>\n",
       "      <td>FM-15</td>\n",
       "      <td>100,5,N,0015,5</td>\n",
       "      <td>00061,5,W,N</td>\n",
       "      <td>000000,A,N,A</td>\n",
       "      <td>+0106,5</td>\n",
       "      <td>+0106,5</td>\n",
       "      <td>10221,5</td>\n",
       "      <td>MET11801/01/18 07:51:02 METAR KSAN 011551Z 100...</td>\n",
       "      <td>0</td>\n",
       "      <td>100</td>\n",
       "      <td>15</td>\n",
       "      <td>61</td>\n",
       "      <td>106</td>\n",
       "      <td>106</td>\n",
       "    </tr>\n",
       "    <tr>\n",
       "      <th>1</th>\n",
       "      <td>20180101</td>\n",
       "      <td>SAN</td>\n",
       "      <td>2018-01-01 17:20:00+00:00</td>\n",
       "      <td>72290023188</td>\n",
       "      <td>FM-16</td>\n",
       "      <td>999,9,C,0000,5</td>\n",
       "      <td>00061,5,W,N</td>\n",
       "      <td>000000,A,N,A</td>\n",
       "      <td>+0117,5</td>\n",
       "      <td>+0117,5</td>\n",
       "      <td>99999,9</td>\n",
       "      <td>MET11101/01/18 09:20:02 SPECI KSAN 011720Z 000...</td>\n",
       "      <td>0</td>\n",
       "      <td>999</td>\n",
       "      <td>0</td>\n",
       "      <td>61</td>\n",
       "      <td>117</td>\n",
       "      <td>117</td>\n",
       "    </tr>\n",
       "    <tr>\n",
       "      <th>2</th>\n",
       "      <td>20180101</td>\n",
       "      <td>SAN</td>\n",
       "      <td>2018-01-01 17:20:00+00:00</td>\n",
       "      <td>72290023188</td>\n",
       "      <td>FM-16</td>\n",
       "      <td>999,9,C,0000,5</td>\n",
       "      <td>00061,5,W,N</td>\n",
       "      <td>000000,A,N,A</td>\n",
       "      <td>+0117,5</td>\n",
       "      <td>+0117,5</td>\n",
       "      <td>99999,9</td>\n",
       "      <td>MET11101/01/18 09:20:02 SPECI KSAN 011720Z 000...</td>\n",
       "      <td>0</td>\n",
       "      <td>999</td>\n",
       "      <td>0</td>\n",
       "      <td>61</td>\n",
       "      <td>117</td>\n",
       "      <td>117</td>\n",
       "    </tr>\n",
       "    <tr>\n",
       "      <th>3</th>\n",
       "      <td>20180101</td>\n",
       "      <td>OMA</td>\n",
       "      <td>2018-01-02 06:26:00+00:00</td>\n",
       "      <td>72550014942</td>\n",
       "      <td>FM-16</td>\n",
       "      <td>999,9,C,0000,5</td>\n",
       "      <td>00030,5,W,N</td>\n",
       "      <td>000201,A,N,A</td>\n",
       "      <td>-0244,5</td>\n",
       "      <td>-0289,5</td>\n",
       "      <td>99999,9</td>\n",
       "      <td>MET11101/02/18 00:26:02 SPECI KOMA 020626Z 000...</td>\n",
       "      <td>201</td>\n",
       "      <td>999</td>\n",
       "      <td>0</td>\n",
       "      <td>30</td>\n",
       "      <td>-244</td>\n",
       "      <td>-289</td>\n",
       "    </tr>\n",
       "    <tr>\n",
       "      <th>4</th>\n",
       "      <td>20180102</td>\n",
       "      <td>PTY</td>\n",
       "      <td>2018-01-02 19:00:00+00:00</td>\n",
       "      <td>78792099999</td>\n",
       "      <td>FM-15</td>\n",
       "      <td>090,1,N,0015,1</td>\n",
       "      <td>00366,1,9,N</td>\n",
       "      <td>000500,1,9,9</td>\n",
       "      <td>+0250,1</td>\n",
       "      <td>+0230,1</td>\n",
       "      <td>99999,9</td>\n",
       "      <td>MET100METAR MPTO 021900Z 09003KT 0500 +TSRA SC...</td>\n",
       "      <td>500</td>\n",
       "      <td>90</td>\n",
       "      <td>15</td>\n",
       "      <td>366</td>\n",
       "      <td>250</td>\n",
       "      <td>230</td>\n",
       "    </tr>\n",
       "  </tbody>\n",
       "</table>\n",
       "</div>"
      ],
      "text/plain": [
       "   FLIGHTDATE DEST                      DATE      STATION REPORT_TYPE  \\\n",
       "0    20180101  SAN 2018-01-01 15:51:00+00:00  72290023188       FM-15   \n",
       "1    20180101  SAN 2018-01-01 17:20:00+00:00  72290023188       FM-16   \n",
       "2    20180101  SAN 2018-01-01 17:20:00+00:00  72290023188       FM-16   \n",
       "3    20180101  OMA 2018-01-02 06:26:00+00:00  72550014942       FM-16   \n",
       "4    20180102  PTY 2018-01-02 19:00:00+00:00  78792099999       FM-15   \n",
       "\n",
       "              WND          CIG           VIS      TMP      DEW      SLP  \\\n",
       "0  100,5,N,0015,5  00061,5,W,N  000000,A,N,A  +0106,5  +0106,5  10221,5   \n",
       "1  999,9,C,0000,5  00061,5,W,N  000000,A,N,A  +0117,5  +0117,5  99999,9   \n",
       "2  999,9,C,0000,5  00061,5,W,N  000000,A,N,A  +0117,5  +0117,5  99999,9   \n",
       "3  999,9,C,0000,5  00030,5,W,N  000201,A,N,A  -0244,5  -0289,5  99999,9   \n",
       "4  090,1,N,0015,1  00366,1,9,N  000500,1,9,9  +0250,1  +0230,1  99999,9   \n",
       "\n",
       "                                                 REM  VIS_METERS  WND_ANGLE  \\\n",
       "0  MET11801/01/18 07:51:02 METAR KSAN 011551Z 100...           0        100   \n",
       "1  MET11101/01/18 09:20:02 SPECI KSAN 011720Z 000...           0        999   \n",
       "2  MET11101/01/18 09:20:02 SPECI KSAN 011720Z 000...           0        999   \n",
       "3  MET11101/02/18 00:26:02 SPECI KOMA 020626Z 000...         201        999   \n",
       "4  MET100METAR MPTO 021900Z 09003KT 0500 +TSRA SC...         500         90   \n",
       "\n",
       "   WND_SPEED  CIG_HEIGHT  TMP_DEG_C  DEW_DEG_C  \n",
       "0         15          61        106        106  \n",
       "1          0          61        117        117  \n",
       "2          0          61        117        117  \n",
       "3          0          30       -244       -289  \n",
       "4         15         366        250        230  "
      ]
     },
     "execution_count": 28,
     "metadata": {},
     "output_type": "execute_result"
    }
   ],
   "source": [
    "data.head()"
   ]
  },
  {
   "cell_type": "code",
   "execution_count": 29,
   "id": "94d0ff53-4046-4693-b4bc-c06874eff521",
   "metadata": {},
   "outputs": [],
   "source": [
    "data.to_csv('data/united/united-flights-metar.csv', index=False)"
   ]
  }
 ],
 "metadata": {
  "kernelspec": {
   "display_name": "Python 3 (ipykernel)",
   "language": "python",
   "name": "python3"
  },
  "language_info": {
   "codemirror_mode": {
    "name": "ipython",
    "version": 3
   },
   "file_extension": ".py",
   "mimetype": "text/x-python",
   "name": "python",
   "nbconvert_exporter": "python",
   "pygments_lexer": "ipython3",
   "version": "3.10.7"
  }
 },
 "nbformat": 4,
 "nbformat_minor": 5
}
