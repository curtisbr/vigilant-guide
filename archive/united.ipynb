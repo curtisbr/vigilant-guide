{
 "cells": [
  {
   "cell_type": "code",
   "execution_count": 1,
   "id": "052c9924-1ed0-4c5a-b833-8265575ae92a",
   "metadata": {},
   "outputs": [],
   "source": [
    "import pandas as pd"
   ]
  },
  {
   "cell_type": "markdown",
   "id": "b501414d-70ca-4bf6-94c4-e78468bd65ef",
   "metadata": {},
   "source": [
    "# Load assembled METAR station data from predefined station list (united-weather-combine.py)"
   ]
  },
  {
   "cell_type": "code",
   "execution_count": 2,
   "id": "d65354cf-df61-4e96-9d78-c51001dad932",
   "metadata": {},
   "outputs": [],
   "source": [
    "metar = pd.read_csv('data/united/united-metar-data.csv', dtype={0: str})"
   ]
  },
  {
   "cell_type": "code",
   "execution_count": 3,
   "id": "7c50225a-548a-4b6c-ae5a-50cf9024a60e",
   "metadata": {},
   "outputs": [],
   "source": [
    "metar['DATE'] = pd.to_datetime(metar['DATE'], utc='True')\n",
    "\n",
    "metar['STATION'] = metar['STATION'].str.zfill(11)\n",
    "\n",
    "metar = metar.sort_values(by='DATE')"
   ]
  },
  {
   "cell_type": "code",
   "execution_count": 4,
   "id": "c883b269-fde9-4a5e-b2aa-e4b1910509ee",
   "metadata": {
    "tags": []
   },
   "outputs": [],
   "source": [
    "metar = pd.concat([metar, metar.VIS.str.split(',', expand=True)], axis=1)\n",
    "metar = metar.drop([1, 2, 3], axis=1)\n",
    "metar = metar.rename(\n",
    "    columns={\n",
    "        0: 'VIS_METERS'})\n",
    "metar.VIS_METERS = pd.to_numeric(metar.VIS_METERS)"
   ]
  },
  {
   "cell_type": "code",
   "execution_count": 5,
   "id": "66c2b31f-5192-420d-b0f3-b2113ea14a26",
   "metadata": {},
   "outputs": [],
   "source": [
    "metar = metar.drop(columns=['WND', 'CIG', 'VIS', 'TMP', 'DEW', 'SLP'])"
   ]
  },
  {
   "cell_type": "code",
   "execution_count": 6,
   "id": "cb2680ba-1ecb-4a84-b9ab-dd7914fa4a2a",
   "metadata": {},
   "outputs": [
    {
     "name": "stdout",
     "output_type": "stream",
     "text": [
      "<class 'pandas.core.frame.DataFrame'>\n",
      "Int64Index: 4388321 entries, 530059 to 3809503\n",
      "Data columns (total 5 columns):\n",
      " #   Column       Dtype              \n",
      "---  ------       -----              \n",
      " 0   STATION      object             \n",
      " 1   DATE         datetime64[ns, UTC]\n",
      " 2   REPORT_TYPE  object             \n",
      " 3   REM          object             \n",
      " 4   VIS_METERS   int64              \n",
      "dtypes: datetime64[ns, UTC](1), int64(1), object(3)\n",
      "memory usage: 200.9+ MB\n"
     ]
    }
   ],
   "source": [
    "metar.info()"
   ]
  },
  {
   "cell_type": "markdown",
   "id": "3db6ddcb-41be-4839-a006-42fc63f0e6da",
   "metadata": {},
   "source": [
    "# load reference table - airport codes & stationid"
   ]
  },
  {
   "cell_type": "code",
   "execution_count": 7,
   "id": "2e3d61c3-f7c1-42d4-bc43-dcf5c293356d",
   "metadata": {},
   "outputs": [],
   "source": [
    "stations = pd.read_csv('data/united/station-list.csv', header=None, dtype={0: str, 1: str}, names=['AIRPORT', 'STATION'])"
   ]
  },
  {
   "cell_type": "code",
   "execution_count": 8,
   "id": "15877e86-3bae-4f43-bc39-1cf89f215e5d",
   "metadata": {},
   "outputs": [],
   "source": [
    "stations['STATION'] = stations['STATION'].str.zfill(11)"
   ]
  },
  {
   "cell_type": "code",
   "execution_count": 9,
   "id": "466006b0-6697-4f49-b2cd-b4337a82db0e",
   "metadata": {},
   "outputs": [
    {
     "name": "stdout",
     "output_type": "stream",
     "text": [
      "<class 'pandas.core.frame.DataFrame'>\n",
      "RangeIndex: 184 entries, 0 to 183\n",
      "Data columns (total 2 columns):\n",
      " #   Column   Non-Null Count  Dtype \n",
      "---  ------   --------------  ----- \n",
      " 0   AIRPORT  184 non-null    object\n",
      " 1   STATION  184 non-null    object\n",
      "dtypes: object(2)\n",
      "memory usage: 3.0+ KB\n"
     ]
    }
   ],
   "source": [
    "stations.info()"
   ]
  },
  {
   "cell_type": "markdown",
   "id": "a0644e95-d87d-4ebd-97d0-8998b55bc12c",
   "metadata": {},
   "source": [
    "# load united flight data"
   ]
  },
  {
   "cell_type": "code",
   "execution_count": 10,
   "id": "2d3401f5-70de-4347-85b6-c10acaad4cdf",
   "metadata": {},
   "outputs": [],
   "source": [
    "flights = pd.read_csv('data/united/united-flights.csv')"
   ]
  },
  {
   "cell_type": "code",
   "execution_count": 11,
   "id": "bea71454-778d-4b02-bfe1-a55118d5ac4b",
   "metadata": {},
   "outputs": [],
   "source": [
    "flights['DEST'] = flights['DEST'].str.replace(' ', '')\n",
    "\n",
    "flights['ORIGIN'] = flights['ORIGIN'].str.replace(' ', '')\n",
    "\n",
    "flights = flights.rename(columns={'Unnamed: 0': 'INDEX'})"
   ]
  },
  {
   "cell_type": "code",
   "execution_count": 12,
   "id": "2f0ef96b-d197-4a02-b3f2-86e6c8b32e1d",
   "metadata": {},
   "outputs": [],
   "source": [
    "flights['DESTOBSERVATIONTIME'] = pd.to_datetime(flights['DESTOBSERVATIONTIME'], utc='True', errors='coerce')\n",
    "\n",
    "flights['ORIGINOBSERVATIONTIME'] = pd.to_datetime(flights['ORIGINOBSERVATIONTIME'], utc='True', errors='coerce')\n",
    "\n",
    "flights['DEPARTUREDATE_ZULU'] = pd.to_datetime(flights['DEPARTUREDATE_ZULU'], utc='True', errors='coerce')\n",
    "\n",
    "flights['ARRIVALDATE_ZULU'] = pd.to_datetime(flights['ARRIVALDATE_ZULU'], utc='True', errors='coerce')\n",
    "\n",
    "flights['OUT_ZULU'] = pd.to_datetime(flights['OUT_ZULU'], utc='True', errors='coerce')\n",
    "\n",
    "flights['IN_ZULU'] = pd.to_datetime(flights['IN_ZULU'], utc='True', errors='coerce')"
   ]
  },
  {
   "cell_type": "code",
   "execution_count": 13,
   "id": "5528e2bb-a58a-4fa5-883a-6583d5078e87",
   "metadata": {},
   "outputs": [
    {
     "name": "stdout",
     "output_type": "stream",
     "text": [
      "<class 'pandas.core.frame.DataFrame'>\n",
      "RangeIndex: 5769 entries, 0 to 5768\n",
      "Data columns (total 11 columns):\n",
      " #   Column                 Non-Null Count  Dtype              \n",
      "---  ------                 --------------  -----              \n",
      " 0   INDEX                  5769 non-null   int64              \n",
      " 1   FLIGHTDATE             5769 non-null   int64              \n",
      " 2   FLIGHTNO               5769 non-null   int64              \n",
      " 3   ORIGIN                 5769 non-null   object             \n",
      " 4   DEST                   5769 non-null   object             \n",
      " 5   DEPARTUREDATE_ZULU     5769 non-null   datetime64[ns, UTC]\n",
      " 6   ARRIVALDATE_ZULU       5769 non-null   datetime64[ns, UTC]\n",
      " 7   ORIGINOBSERVATIONTIME  5593 non-null   datetime64[ns, UTC]\n",
      " 8   DESTOBSERVATIONTIME    5769 non-null   datetime64[ns, UTC]\n",
      " 9   OUT_ZULU               5764 non-null   datetime64[ns, UTC]\n",
      " 10  IN_ZULU                5745 non-null   datetime64[ns, UTC]\n",
      "dtypes: datetime64[ns, UTC](6), int64(3), object(2)\n",
      "memory usage: 495.9+ KB\n"
     ]
    }
   ],
   "source": [
    "flights.info()"
   ]
  },
  {
   "cell_type": "markdown",
   "id": "7f02c544-2c94-4a4f-9ec7-aefa6f6e71d0",
   "metadata": {},
   "source": [
    "# combine flight data and weather stationid"
   ]
  },
  {
   "cell_type": "code",
   "execution_count": 14,
   "id": "f406a39b-c48c-400c-af4d-33332d5adb47",
   "metadata": {},
   "outputs": [],
   "source": [
    "flights = pd.merge(flights, stations, how='left', left_on=['DEST'], right_on=['AIRPORT'])"
   ]
  },
  {
   "cell_type": "code",
   "execution_count": 15,
   "id": "e16eddae-1510-4440-8fcb-cfd7de68d83f",
   "metadata": {},
   "outputs": [],
   "source": [
    "flights = flights.rename(\n",
    "    columns={\n",
    "        'STATION': 'DEST_STATION'})\n",
    "\n",
    "flights = flights.drop(columns=['AIRPORT'])\n",
    "\n",
    "flights = pd.merge(flights, stations, how='left', left_on=['ORIGIN'], right_on=['AIRPORT'])\n",
    "\n",
    "flights = flights.drop(columns=['AIRPORT'])\n",
    "\n",
    "flights = flights.rename(\n",
    "    columns={\n",
    "        'STATION': 'ORIGIN_STATION'})"
   ]
  },
  {
   "cell_type": "code",
   "execution_count": 16,
   "id": "80e68809-7f9e-403d-9035-2bc44485b3ae",
   "metadata": {},
   "outputs": [
    {
     "name": "stdout",
     "output_type": "stream",
     "text": [
      "<class 'pandas.core.frame.DataFrame'>\n",
      "Int64Index: 5769 entries, 0 to 5768\n",
      "Data columns (total 13 columns):\n",
      " #   Column                 Non-Null Count  Dtype              \n",
      "---  ------                 --------------  -----              \n",
      " 0   INDEX                  5769 non-null   int64              \n",
      " 1   FLIGHTDATE             5769 non-null   int64              \n",
      " 2   FLIGHTNO               5769 non-null   int64              \n",
      " 3   ORIGIN                 5769 non-null   object             \n",
      " 4   DEST                   5769 non-null   object             \n",
      " 5   DEPARTUREDATE_ZULU     5769 non-null   datetime64[ns, UTC]\n",
      " 6   ARRIVALDATE_ZULU       5769 non-null   datetime64[ns, UTC]\n",
      " 7   ORIGINOBSERVATIONTIME  5593 non-null   datetime64[ns, UTC]\n",
      " 8   DESTOBSERVATIONTIME    5769 non-null   datetime64[ns, UTC]\n",
      " 9   OUT_ZULU               5764 non-null   datetime64[ns, UTC]\n",
      " 10  IN_ZULU                5745 non-null   datetime64[ns, UTC]\n",
      " 11  DEST_STATION           5769 non-null   object             \n",
      " 12  ORIGIN_STATION         5769 non-null   object             \n",
      "dtypes: datetime64[ns, UTC](6), int64(3), object(4)\n",
      "memory usage: 631.0+ KB\n"
     ]
    }
   ],
   "source": [
    "flights.info()"
   ]
  },
  {
   "cell_type": "markdown",
   "id": "c5f6c0e9-0486-4791-b925-9eed333f2053",
   "metadata": {},
   "source": [
    "## create separate df for each date column"
   ]
  },
  {
   "cell_type": "code",
   "execution_count": 17,
   "id": "6016ae04-f654-4466-8e38-bfae31fc7492",
   "metadata": {},
   "outputs": [],
   "source": [
    "ddz = flights[['INDEX', 'FLIGHTDATE', 'FLIGHTNO', 'ORIGIN', 'ORIGIN_STATION', 'DEPARTUREDATE_ZULU']]\n",
    "#ddz.info()"
   ]
  },
  {
   "cell_type": "code",
   "execution_count": 18,
   "id": "c2df6912-3218-4e26-8760-960be36bed12",
   "metadata": {},
   "outputs": [],
   "source": [
    "ddz = ddz.dropna(subset=['DEPARTUREDATE_ZULU'])\n",
    "ddz = ddz.sort_values(by='DEPARTUREDATE_ZULU')\n",
    "#ddz.shape"
   ]
  },
  {
   "cell_type": "code",
   "execution_count": 19,
   "id": "e399c5e5-2581-444c-8c2d-06c24386585a",
   "metadata": {},
   "outputs": [],
   "source": [
    "adz = flights[['INDEX', 'FLIGHTDATE', 'FLIGHTNO', 'DEST', 'DEST_STATION', 'ARRIVALDATE_ZULU']]\n",
    "#adz.info()"
   ]
  },
  {
   "cell_type": "code",
   "execution_count": 20,
   "id": "1223ac72-f95e-4f64-b8d8-01dce4bd2fbe",
   "metadata": {},
   "outputs": [],
   "source": [
    "adz = adz.dropna(subset='ARRIVALDATE_ZULU')\n",
    "adz = adz.sort_values(by='ARRIVALDATE_ZULU')\n",
    "#adz.shape"
   ]
  },
  {
   "cell_type": "code",
   "execution_count": 21,
   "id": "05b5cdbc-33aa-46b1-8847-ba11c5e25e7f",
   "metadata": {},
   "outputs": [],
   "source": [
    "oot = flights[['INDEX', 'FLIGHTDATE', 'FLIGHTNO', 'ORIGIN', 'ORIGIN_STATION', 'ORIGINOBSERVATIONTIME']]\n",
    "#oot.info()"
   ]
  },
  {
   "cell_type": "code",
   "execution_count": 22,
   "id": "627b9871-c69b-4bcb-bb5f-42b4c6aee17a",
   "metadata": {},
   "outputs": [],
   "source": [
    "oot = oot.dropna(subset='ORIGINOBSERVATIONTIME')\n",
    "oot = oot.sort_values(by='ORIGINOBSERVATIONTIME')\n",
    "#oot.shape"
   ]
  },
  {
   "cell_type": "code",
   "execution_count": 23,
   "id": "b4755d34-f08d-48ef-b27d-702909de3239",
   "metadata": {},
   "outputs": [],
   "source": [
    "dot = flights[['INDEX', 'FLIGHTDATE', 'FLIGHTNO', 'DEST', 'DEST_STATION', 'DESTOBSERVATIONTIME']]\n",
    "#dot.info()"
   ]
  },
  {
   "cell_type": "code",
   "execution_count": 24,
   "id": "34c69fe0-7940-435e-8aeb-fefdd064566b",
   "metadata": {},
   "outputs": [],
   "source": [
    "dot = dot.dropna(subset='DESTOBSERVATIONTIME')\n",
    "dot = dot.sort_values(by='DESTOBSERVATIONTIME')\n",
    "#dot.shape"
   ]
  },
  {
   "cell_type": "code",
   "execution_count": 25,
   "id": "882b64c3-216f-4ddc-935a-77a6f766d4f6",
   "metadata": {},
   "outputs": [],
   "source": [
    "otz = flights[['INDEX', 'FLIGHTDATE', 'FLIGHTNO', 'ORIGIN', 'ORIGIN_STATION', 'OUT_ZULU']]\n",
    "#otz.info()"
   ]
  },
  {
   "cell_type": "code",
   "execution_count": 26,
   "id": "a9fb286e-2b5c-4d37-b6f1-9e6e7605ff82",
   "metadata": {},
   "outputs": [],
   "source": [
    "otz = otz.dropna(subset='OUT_ZULU')\n",
    "otz = otz.sort_values(by='OUT_ZULU')\n",
    "#otz.shape"
   ]
  },
  {
   "cell_type": "code",
   "execution_count": 27,
   "id": "02cdab39-5958-4713-af20-59e6751c78d9",
   "metadata": {},
   "outputs": [],
   "source": [
    "inz = flights[['INDEX', 'FLIGHTDATE', 'FLIGHTNO', 'DEST', 'DEST_STATION', 'IN_ZULU']]\n",
    "#inz.info()"
   ]
  },
  {
   "cell_type": "code",
   "execution_count": 28,
   "id": "1f049813-145e-4e15-a35d-8122caf5210c",
   "metadata": {},
   "outputs": [],
   "source": [
    "inz = inz.dropna(subset='IN_ZULU')\n",
    "inz = inz.sort_values(by='IN_ZULU')\n",
    "#inz.shape"
   ]
  },
  {
   "cell_type": "markdown",
   "id": "2cba8ad0-8186-4da2-a1c2-832433c07e74",
   "metadata": {
    "tags": []
   },
   "source": [
    "## merge METAR data by 'DESTOBSERVATIONTIME'"
   ]
  },
  {
   "cell_type": "code",
   "execution_count": 29,
   "id": "c0fcd07f-12b0-4c8b-a30f-34d231407125",
   "metadata": {},
   "outputs": [],
   "source": [
    "dot1 = pd.merge_asof(\n",
    "    left=dot, \n",
    "    right=metar, \n",
    "    left_on='DESTOBSERVATIONTIME', \n",
    "    right_on='DATE', \n",
    "    direction='nearest', \n",
    "    left_by='DEST_STATION', \n",
    "    right_by='STATION')\n",
    "\n",
    "dot1 = dot1.rename(\n",
    "    columns={\n",
    "        'REM': 'DEST_UA_OBS'})"
   ]
  },
  {
   "cell_type": "markdown",
   "id": "8436106b-d30d-4345-9705-42c7cce30f51",
   "metadata": {},
   "source": [
    "## merge METAR data by 'ORIGINOBSERVATIONTIME'"
   ]
  },
  {
   "cell_type": "code",
   "execution_count": 30,
   "id": "54f71cd8-041a-42d1-a7b9-ca6e51407716",
   "metadata": {},
   "outputs": [],
   "source": [
    "oot1 = pd.merge_asof(\n",
    "    left=oot, \n",
    "    right=metar, \n",
    "    left_on='ORIGINOBSERVATIONTIME', \n",
    "    right_on='DATE', \n",
    "    direction='nearest', \n",
    "    left_by='ORIGIN_STATION', \n",
    "    right_by='STATION')\n",
    "\n",
    "oot1 = oot1.rename(\n",
    "    columns={\n",
    "        'REM': 'ORIGIN_UA_OBS'})"
   ]
  },
  {
   "cell_type": "markdown",
   "id": "ff8177fd-2b39-403b-9efd-023ab2eac3ef",
   "metadata": {},
   "source": [
    "## merge METAR data by 'DEPARTUREDATE_ZULU'"
   ]
  },
  {
   "cell_type": "code",
   "execution_count": 31,
   "id": "1416c838-d070-45b6-a134-19250376d72d",
   "metadata": {},
   "outputs": [],
   "source": [
    "ddz1 = pd.merge_asof(\n",
    "    left=ddz, \n",
    "    right=metar, \n",
    "    left_on='DEPARTUREDATE_ZULU', \n",
    "    right_on='DATE', \n",
    "    direction='nearest', \n",
    "    left_by='ORIGIN_STATION', \n",
    "    right_by='STATION')\n",
    "\n",
    "ddz1 = ddz1.rename(\n",
    "    columns={\n",
    "        'REM': 'SCH_DEPARTURE'})"
   ]
  },
  {
   "cell_type": "markdown",
   "id": "137fdb3e-7e69-43c9-a08e-8807542ad134",
   "metadata": {},
   "source": [
    "## merge METAR data by 'ARRIVALDATE_ZULU'"
   ]
  },
  {
   "cell_type": "code",
   "execution_count": 32,
   "id": "45729870-10b6-47c6-9a58-7646c7029d04",
   "metadata": {},
   "outputs": [],
   "source": [
    "adz1 = pd.merge_asof(\n",
    "    left=adz, \n",
    "    right=metar, \n",
    "    left_on='ARRIVALDATE_ZULU', \n",
    "    right_on='DATE', \n",
    "    direction='nearest', \n",
    "    left_by='DEST_STATION', \n",
    "    right_by='STATION')\n",
    "\n",
    "adz1 = adz1.rename(\n",
    "    columns={\n",
    "        'REM': 'SCH_ARRIVAL'})"
   ]
  },
  {
   "cell_type": "markdown",
   "id": "4f8e3ae3-f241-4b3f-bc1d-54478bf5dd85",
   "metadata": {},
   "source": [
    "## merge METAR data by 'OUT_ZULU'"
   ]
  },
  {
   "cell_type": "code",
   "execution_count": 33,
   "id": "cb1a50d4-05d0-473a-baa7-c10defa7acb6",
   "metadata": {},
   "outputs": [
    {
     "name": "stdout",
     "output_type": "stream",
     "text": [
      "<class 'pandas.core.frame.DataFrame'>\n",
      "Int64Index: 5764 entries, 0 to 5763\n",
      "Data columns (total 11 columns):\n",
      " #   Column          Non-Null Count  Dtype              \n",
      "---  ------          --------------  -----              \n",
      " 0   INDEX           5764 non-null   int64              \n",
      " 1   FLIGHTDATE      5764 non-null   int64              \n",
      " 2   FLIGHTNO        5764 non-null   int64              \n",
      " 3   ORIGIN          5764 non-null   object             \n",
      " 4   ORIGIN_STATION  5764 non-null   object             \n",
      " 5   OUT_ZULU        5764 non-null   datetime64[ns, UTC]\n",
      " 6   STATION         5741 non-null   object             \n",
      " 7   DATE            5741 non-null   datetime64[ns, UTC]\n",
      " 8   REPORT_TYPE     5741 non-null   object             \n",
      " 9   ACT_DEPARTURE   5741 non-null   object             \n",
      " 10  VIS_METERS      5741 non-null   float64            \n",
      "dtypes: datetime64[ns, UTC](2), float64(1), int64(3), object(5)\n",
      "memory usage: 540.4+ KB\n"
     ]
    }
   ],
   "source": [
    "otz1 = pd.merge_asof(\n",
    "    left=otz, \n",
    "    right=metar, \n",
    "    left_on='OUT_ZULU', \n",
    "    right_on='DATE', \n",
    "    direction='nearest', \n",
    "    left_by='ORIGIN_STATION', \n",
    "    right_by='STATION')\n",
    "\n",
    "otz1 = otz1.rename(\n",
    "    columns={\n",
    "        'REM': 'ACT_DEPARTURE'})\n",
    "otz1.info()"
   ]
  },
  {
   "cell_type": "markdown",
   "id": "d851303f-2780-4859-9641-afadcc448b7b",
   "metadata": {},
   "source": [
    "## merge METAR data by 'IN_ZULU'"
   ]
  },
  {
   "cell_type": "code",
   "execution_count": 34,
   "id": "2e49ae18-0f96-4d82-bf13-5c85e8185476",
   "metadata": {},
   "outputs": [],
   "source": [
    "inz1 = pd.merge_asof(\n",
    "    left=inz, \n",
    "    right=metar, \n",
    "    left_on='IN_ZULU', \n",
    "    right_on='DATE', \n",
    "    direction='nearest', \n",
    "    left_by='DEST_STATION', \n",
    "    right_by='STATION')\n",
    "\n",
    "inz1 = inz1.rename(\n",
    "    columns={\n",
    "        'REM': 'ACT_ARRIVAL'})"
   ]
  },
  {
   "cell_type": "code",
   "execution_count": 35,
   "id": "20c5373a-ec95-4c87-82af-d2fa17434f05",
   "metadata": {},
   "outputs": [],
   "source": [
    "dot1.to_csv('data/united/united-flights-metar-dot.csv', index=False) # DEST OBSERVATION TIME\n",
    "\n",
    "oot1.to_csv('data/united/united-flights-metar-oot.csv', index=False) # ORIGIN OBSERVATION TIME\n",
    "\n",
    "ddz1.to_csv('data/united/united-flights-metar-ddz.csv', index=False) # DEPARTURE (ORIGIN) DATE ZULU\n",
    "\n",
    "adz1.to_csv('data/united/united-flights-metar-adz.csv', index=False) # ARRIVAL (DEST) DATE ZULU\n",
    "\n",
    "otz1.to_csv('data/united/united-flights-metar-otz.csv', index=False) # OUT ZULU\n",
    "\n",
    "inz1.to_csv('data/united/united-flights-metar-inz.csv', index=False) # IN ZULU"
   ]
  },
  {
   "cell_type": "code",
   "execution_count": null,
   "id": "3e0a54d6-d910-43c9-aa9f-f886f765c3b3",
   "metadata": {},
   "outputs": [],
   "source": []
  }
 ],
 "metadata": {
  "kernelspec": {
   "display_name": "Python 3 (ipykernel)",
   "language": "python",
   "name": "python3"
  },
  "language_info": {
   "codemirror_mode": {
    "name": "ipython",
    "version": 3
   },
   "file_extension": ".py",
   "mimetype": "text/x-python",
   "name": "python",
   "nbconvert_exporter": "python",
   "pygments_lexer": "ipython3",
   "version": "3.11.1"
  }
 },
 "nbformat": 4,
 "nbformat_minor": 5
}
