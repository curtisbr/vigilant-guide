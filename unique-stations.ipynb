{
 "cells": [
  {
   "cell_type": "code",
   "execution_count": 1,
   "id": "1bccc321-eb35-4cd7-b2a9-366f5e8e0913",
   "metadata": {},
   "outputs": [],
   "source": [
    "import numpy as np\n",
    "import pandas as pd\n",
    "import matplotlib.pyplot as plt\n",
    "import glob\n",
    "import os\n",
    "\n",
    "%matplotlib inline"
   ]
  },
  {
   "cell_type": "code",
   "execution_count": 2,
   "id": "1d868970-81bf-4bc1-9318-71067451f51c",
   "metadata": {},
   "outputs": [
    {
     "name": "stderr",
     "output_type": "stream",
     "text": [
      "/var/folders/g7/8crg6v9j4pxf3v63yzxxst4c0000gn/T/ipykernel_84216/2106659723.py:1: DtypeWarning: Columns (0,1,2) have mixed types. Specify dtype option on import or set low_memory=False.\n",
      "  data = pd.read_csv('data/unique-stations.csv', encoding_errors='ignore', index_col=None, header=0)\n"
     ]
    }
   ],
   "source": [
    "data = pd.read_csv('data/unique-stations.csv', encoding_errors='ignore', index_col=None, header=0)"
   ]
  },
  {
   "cell_type": "code",
   "execution_count": 3,
   "id": "0ae46590-4182-4abd-8180-31f8d09aef9e",
   "metadata": {},
   "outputs": [
    {
     "name": "stdout",
     "output_type": "stream",
     "text": [
      "<class 'pandas.core.frame.DataFrame'>\n",
      "RangeIndex: 129058255 entries, 0 to 129058254\n",
      "Data columns (total 3 columns):\n",
      " #   Column     Dtype \n",
      "---  ------     ----- \n",
      " 0   STATION    object\n",
      " 1   NAME       object\n",
      " 2   CALL_SIGN  object\n",
      "dtypes: object(3)\n",
      "memory usage: 2.9+ GB\n"
     ]
    }
   ],
   "source": [
    "data.info()"
   ]
  },
  {
   "cell_type": "code",
   "execution_count": 5,
   "id": "6f98d2e6-1f9a-4f60-a88e-3a6551de21f8",
   "metadata": {},
   "outputs": [],
   "source": [
    "unique = data.groupby(['STATION','CALL_SIGN']).size().reset_index().rename(columns={0:'count'})"
   ]
  },
  {
   "cell_type": "code",
   "execution_count": 6,
   "id": "cf72b25a-22fa-4e7f-84f2-958a5b831eba",
   "metadata": {},
   "outputs": [],
   "source": [
    "unique = unique[(unique.CALL_SIGN != 99999) & (unique.CALL_SIGN != '99999')].reset_index(drop='True')"
   ]
  },
  {
   "cell_type": "code",
   "execution_count": 7,
   "id": "f57d3d3c-fc82-40c6-b885-d38faff750b1",
   "metadata": {},
   "outputs": [
    {
     "data": {
      "text/html": [
       "<div>\n",
       "<style scoped>\n",
       "    .dataframe tbody tr th:only-of-type {\n",
       "        vertical-align: middle;\n",
       "    }\n",
       "\n",
       "    .dataframe tbody tr th {\n",
       "        vertical-align: top;\n",
       "    }\n",
       "\n",
       "    .dataframe thead th {\n",
       "        text-align: right;\n",
       "    }\n",
       "</style>\n",
       "<table border=\"1\" class=\"dataframe\">\n",
       "  <thead>\n",
       "    <tr style=\"text-align: right;\">\n",
       "      <th></th>\n",
       "      <th>STATION</th>\n",
       "      <th>CALL_SIGN</th>\n",
       "      <th>count</th>\n",
       "    </tr>\n",
       "  </thead>\n",
       "  <tbody>\n",
       "    <tr>\n",
       "      <th>0</th>\n",
       "      <td>69015093121</td>\n",
       "      <td>KNXP</td>\n",
       "      <td>8717</td>\n",
       "    </tr>\n",
       "    <tr>\n",
       "      <th>1</th>\n",
       "      <td>70000126492</td>\n",
       "      <td>PATO</td>\n",
       "      <td>13834</td>\n",
       "    </tr>\n",
       "    <tr>\n",
       "      <th>2</th>\n",
       "      <td>70019726558</td>\n",
       "      <td>PASK</td>\n",
       "      <td>11621</td>\n",
       "    </tr>\n",
       "    <tr>\n",
       "      <th>3</th>\n",
       "      <td>70026027502</td>\n",
       "      <td>PABR</td>\n",
       "      <td>16328</td>\n",
       "    </tr>\n",
       "    <tr>\n",
       "      <th>4</th>\n",
       "      <td>70030027503</td>\n",
       "      <td>PAWI</td>\n",
       "      <td>10383</td>\n",
       "    </tr>\n",
       "  </tbody>\n",
       "</table>\n",
       "</div>"
      ],
      "text/plain": [
       "       STATION CALL_SIGN  count\n",
       "0  69015093121     KNXP    8717\n",
       "1  70000126492     PATO   13834\n",
       "2  70019726558     PASK   11621\n",
       "3  70026027502     PABR   16328\n",
       "4  70030027503     PAWI   10383"
      ]
     },
     "execution_count": 7,
     "metadata": {},
     "output_type": "execute_result"
    }
   ],
   "source": [
    "unique.head()"
   ]
  },
  {
   "cell_type": "code",
   "execution_count": 8,
   "id": "adec1894-559f-418d-b8ee-b088a722cb99",
   "metadata": {},
   "outputs": [
    {
     "name": "stdout",
     "output_type": "stream",
     "text": [
      "<class 'pandas.core.frame.DataFrame'>\n",
      "RangeIndex: 2163 entries, 0 to 2162\n",
      "Data columns (total 3 columns):\n",
      " #   Column     Non-Null Count  Dtype \n",
      "---  ------     --------------  ----- \n",
      " 0   STATION    2163 non-null   object\n",
      " 1   CALL_SIGN  2163 non-null   object\n",
      " 2   count      2163 non-null   int64 \n",
      "dtypes: int64(1), object(2)\n",
      "memory usage: 50.8+ KB\n"
     ]
    }
   ],
   "source": [
    "unique.info()"
   ]
  },
  {
   "cell_type": "code",
   "execution_count": 10,
   "id": "2a48acbd-f26f-46b4-8a04-67c14cc6e4d8",
   "metadata": {},
   "outputs": [],
   "source": [
    "unique.to_csv('data/unique-stations.csv', index='False')"
   ]
  },
  {
   "cell_type": "code",
   "execution_count": null,
   "id": "982f09cb-e705-406a-93d0-87235abf319d",
   "metadata": {},
   "outputs": [],
   "source": []
  }
 ],
 "metadata": {
  "kernelspec": {
   "display_name": "Python 3 (ipykernel)",
   "language": "python",
   "name": "python3"
  },
  "language_info": {
   "codemirror_mode": {
    "name": "ipython",
    "version": 3
   },
   "file_extension": ".py",
   "mimetype": "text/x-python",
   "name": "python",
   "nbconvert_exporter": "python",
   "pygments_lexer": "ipython3",
   "version": "3.10.4"
  }
 },
 "nbformat": 4,
 "nbformat_minor": 5
}
