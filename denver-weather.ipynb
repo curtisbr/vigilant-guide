{
 "cells": [
  {
   "cell_type": "code",
   "execution_count": 1,
   "id": "1bccc321-eb35-4cd7-b2a9-366f5e8e0913",
   "metadata": {},
   "outputs": [],
   "source": [
    "import numpy as np\n",
    "import pandas as pd\n",
    "import matplotlib.pyplot as plt\n",
    "\n",
    "%matplotlib inline"
   ]
  },
  {
   "cell_type": "code",
   "execution_count": 2,
   "id": "45eeaa1c-b5ea-48d8-82d4-0cb04f6400a2",
   "metadata": {
    "tags": []
   },
   "outputs": [
    {
     "name": "stdout",
     "output_type": "stream",
     "text": [
      "\"STATION\",\"DATE\",\"SOURCE\",\"LATITUDE\",\"LONGITUDE\",\"ELEVATION\",\"NAME\",\"REPORT_TYPE\",\"CALL_SIGN\",\"QUALITY_CONTROL\",\"WND\",\"CIG\",\"VIS\",\"TMP\",\"DEW\",\"SLP\",\"AA1\",\"AA2\",\"AA3\",\"AB1\",\"AD1\",\"AE1\",\"AH1\",\"AH2\",\"AH3\",\"AH4\",\"AH5\",\"AH6\",\"AI1\",\"AI2\",\"AI3\",\"AI4\",\"AI5\",\"AI6\",\"AJ1\",\"AK1\",\"AM1\",\"AN1\",\"AT1\",\"AT2\",\"AT3\",\"AT4\",\"AT5\",\"AT6\",\"AU1\",\"AU2\",\"AU3\",\"AW1\",\"AW2\",\"AW3\",\"AW4\",\"AX1\",\"AX2\",\"AX3\",\"AX4\",\"ED1\",\"GA1\",\"GA2\",\"GA3\",\"GD1\",\"GD2\",\"GD3\",\"GD4\",\"GE1\",\"GF1\",\"KA1\",\"KA2\",\"KB1\",\"KB2\",\"KB3\",\"KC1\",\"KC2\",\"KD1\",\"KD2\",\"KE1\",\"KG1\",\"KG2\",\"MA1\",\"MD1\",\"MF1\",\"MG1\",\"MH1\",\"MK1\",\"MV1\",\"MW1\",\"MW2\",\"OC1\",\"OD1\",\"OE1\",\"OE2\",\"OE3\",\"RH1\",\"RH2\",\"RH3\",\"WA1\",\"REM\",\"EQD\"\n",
      "\"72565003017\",\"2021-01-01T00:00:00\",\"4\",\"39.84657\",\"-104.65623\",\"1647.2\",\"DENVER INTERNATIONAL AIRPORT, CO US\",\"FM-12\",\"99999\",\"V020\",\"340,1,N,0021,1\",\"99999,9,9,N\",\"016000,1,9,9\",\"+0000,1\",\"-0056,1\",\"10162,1\",,,,,,,,,,,,,,,,,,,,,,,,,,,,,,,,,,,,,,,,,\"99,9,+02250,1,99,9\",,,,,,,\"9,MSL   ,+99999,+99999\",\"06,99,1,99,9,99,9,02250,1,99,9,99,9\",\"120,M,+0061,1\",\"120,N,-0071,1\",,,,,,,,,,,\"99999,9,08317,1\",\"1,1,017,1,+999,9\",,,,,,,,,,,,,,,,,\"SYN08072565 32866 63404 10000 21056 38317 40162 51017 92353 333 10061 21071 555 90100=\",\n",
      "\"72565003017\",\"2021-01-01T00:53:00\",\"7\",\"39.84657\",\"-104.65623\",\"1647.2\",\"DENVER INTERNATIONAL AIRPORT, CO US\",\"FM-15\",\"KDEN \",\"V030\",\"340,5,N,0026,5\",\"03353,5,M,N\",\"016093,5,N,5\",\"+0000,5\",\"-0067,5\",\"10179,5\",\"01,0000,9,5\",,,,,,,,,,,,,,,,,,,,,,,,,,,,,,,,,,,,,,,,\"07,5,+03353,5,99,9\",\"07,5,+06706,5,99,9\",,\"3,99,1,+03353,5,9\",\"3,99,1,+06706,5,9\",,,\"9,MSL   ,+99999,+99999\",\"99,99,9,99,9,99,9,03353,1,99,9,99,9\",,,,,,,,,,,,,\"10152,5,08312,5\",,,,,,,,,,,,,,,,,,\"MET10712/31/20 17:53:03 METAR KDEN 010053Z 34005KT 10SM BKN110 BKN220 00/M07 A2998 RMK AO2 SLP179 T00001067 (PJM)\",\n",
      "\"72565003017\",\"2021-01-01T01:53:00\",\"7\",\"39.84657\",\"-104.65623\",\"1647.2\",\"DENVER INTERNATIONAL AIRPORT, CO US\",\"FM-15\",\"KDEN \",\"V030\",\"340,5,N,0026,5\",\"03658,5,M,N\",\"016093,5,N,5\",\"-0006,5\",\"-0061,5\",\"10188,5\",\"01,0000,9,5\",,,,,,,,,,,,,,,,,,,,,,,,,,,,,,,,,,,,,,,,\"07,5,+03658,5,99,9\",\"07,5,+06706,5,99,9\",,\"3,99,1,+03658,5,9\",\"3,99,1,+06706,5,9\",,,\"9,MSL   ,+99999,+99999\",\"99,99,9,99,9,99,9,03658,1,99,9,99,9\",,,,,,,,,,,,,\"10166,5,08323,5\",,,,,,,,,,,,,,,,,,\"MET10812/31/20 18:53:03 METAR KDEN 010153Z 34005KT 10SM BKN120 BKN220 M01/M06 A3002 RMK AO2 SLP188 T10061061 (PJM)\",\n",
      "\"72565003017\",\"2021-01-01T02:53:00\",\"7\",\"39.84657\",\"-104.65623\",\"1647.2\",\"DENVER INTERNATIONAL AIRPORT, CO US\",\"FM-15\",\"KDEN \",\"V030\",\"999,9,C,0000,5\",\"03658,5,M,N\",\"016093,5,N,5\",\"+0000,5\",\"-0078,5\",\"10189,5\",\"01,0000,9,5\",,,,,,,,,,,,,,,,,,,,,,,,,,,,,,,,,,,,,,,,\"07,5,+03658,5,99,9\",,,\"3,99,1,+03658,5,9\",,,,\"9,MSL   ,+99999,+99999\",\"99,99,9,99,9,99,9,03658,1,99,9,99,9\",,,,,,,,,,,,,\"10169,5,08326,5\",\"1,9,024,9,+999,9\",,,,,,,,,,,,,,,,,\"MET10612/31/20 19:53:03 METAR KDEN 010253Z 00000KT 10SM BKN120 00/M08 A3003 RMK AO2 SLP189 T00001078 51024 (PJM)\",\n",
      "\"72565003017\",\"2021-01-01T03:00:00\",\"4\",\"39.84657\",\"-104.65623\",\"1647.2\",\"DENVER INTERNATIONAL AIRPORT, CO US\",\"FM-12\",\"99999\",\"V020\",\"999,9,C,0000,1\",\"99999,9,9,N\",\"016000,1,9,9\",\"+0000,1\",\"-0078,1\",\"10189,1\",,,,,,,,,,,,,,,,,,,,,,,,,,,,,,,,,,,,,,,,,,,,,,,,\"9,MSL   ,+99999,+99999\",\"06,99,1,99,9,99,9,99999,9,99,9,99,9\",,,,,,,,,,,,,\"99999,9,08343,1\",\"1,1,024,1,+999,9\",,,,,,,,,,,,,,,,,\"SYN06472565 32966 60000 10000 21078 38343 40189 51024 90253 555 90103=\",\n",
      "\"72565003017\",\"2021-01-01T03:53:00\",\"7\",\"39.84657\",\"-104.65623\",\"1647.2\",\"DENVER INTERNATIONAL AIRPORT, CO US\",\"FM-15\",\"KDEN \",\"V030\",\"999,9,C,0000,5\",\"03658,5,M,N\",\"016093,5,N,5\",\"+0000,5\",\"-0067,5\",\"10188,5\",\"01,0000,9,5\",,,,,,,,,,,,,,,,,,,,,,,,,,,,,,,,,,,,,,,,\"02,5,+02743,5,99,9\",\"07,5,+03658,5,99,9\",\"07,5,+06706,5,99,9\",\"1,99,1,+02743,5,9\",\"3,99,1,+03658,5,9\",\"3,99,1,+06706,5,9\",,\"9,MSL   ,+99999,+99999\",\"99,99,9,99,9,99,9,02743,1,99,9,99,9\",,,,,,,,,,,,,\"10173,5,08329,5\",,,,,,,,,,,,,,,,,,\"MET11412/31/20 20:53:03 METAR KDEN 010353Z 00000KT 10SM FEW090 BKN120 BKN220 00/M07 A3004 RMK AO2 SLP188 T00001067 (PJM)\",\n",
      "\"72565003017\",\"2021-01-01T04:53:00\",\"7\",\"39.84657\",\"-104.65623\",\"1647.2\",\"DENVER INTERNATIONAL AIRPORT, CO US\",\"FM-15\",\"KDEN \",\"V030\",\"010,5,N,0015,5\",\"06706,5,M,N\",\"016093,5,N,5\",\"+0000,5\",\"-0089,5\",\"10184,5\",\"01,0000,9,5\",,,,,,,,,,,,,,,,,,,,,,,,,,,,,,,,,,,,,,,,\"04,5,+03658,5,99,9\",\"07,5,+06706,5,99,9\",,\"2,99,1,+03658,5,9\",\"3,99,1,+06706,5,9\",,,\"9,MSL   ,+99999,+99999\",\"99,99,9,99,9,99,9,03658,1,99,9,99,9\",,,,,,,,,,,,,\"10176,5,08332,5\",,,,,,,,,,,,,,,,,,\"MET10712/31/20 21:53:03 METAR KDEN 010453Z 01003KT 10SM SCT120 BKN220 00/M09 A3005 RMK AO2 SLP184 T00001089 (PJM)\",\n",
      "\"72565003017\",\"2021-01-01T05:53:00\",\"7\",\"39.84657\",\"-104.65623\",\"1647.2\",\"DENVER INTERNATIONAL AIRPORT, CO US\",\"FM-15\",\"KDEN \",\"V030\",\"330,5,N,0031,5\",\"03658,5,M,N\",\"016093,5,N,5\",\"-0011,5\",\"-0083,5\",\"10188,5\",\"01,0000,9,5\",,,,,,,,,,,,,,,,,,,,,,,,,,,,,,,,,,,,,,,,\"07,5,+03658,5,99,9\",\"07,5,+06706,5,99,9\",,\"3,99,1,+03658,5,9\",\"3,99,1,+06706,5,9\",,,\"9,MSL   ,+99999,+99999\",\"99,99,9,99,9,99,9,03658,1,99,9,99,9\",\"060,M,+0011,1\",\"060,N,-0011,1\",,,,,,,,,,,\"10176,5,08332,5\",\"1,9,007,9,+999,9\",,,,,,,,,,,,,,,,,\"MET12612/31/20 22:53:03 METAR KDEN 010553Z 33006KT 10SM BKN120 BKN220 M01/M08 A3005 RMK AO2 SLP188 T10111083 10011 21011 51007 (SLK)\",\n",
      "\"72565003017\",\"2021-01-01T06:00:00\",\"4\",\"39.84657\",\"-104.65623\",\"1647.2\",\"DENVER INTERNATIONAL AIRPORT, CO US\",\"FM-12\",\"99999\",\"V020\",\"330,1,N,0031,1\",\"99999,9,9,N\",\"016000,1,9,9\",\"-0011,1\",\"-0083,1\",\"10188,1\",,,,,,,,,,,,,,,,,,,,,,,,,,,,,,,,,,,,,,,,,,,,,,,,\"9,MSL   ,+99999,+99999\",\"06,99,1,99,9,99,9,99999,9,99,9,99,9\",\"240,M,+0011,1\",\"240,N,-0072,1\",,,,,,,,,,,\"99999,9,08348,1\",\"1,1,007,1,+999,9\",,,,,,,,,,,,,,,,,\"SYN08072565 32966 63306 11011 21083 38348 40188 51007 90553 333 10011 21072 555 90106=\",\n"
     ]
    }
   ],
   "source": [
    "!head data/72565003017.csv"
   ]
  },
  {
   "cell_type": "code",
   "execution_count": 3,
   "id": "783ec8a3-b2ed-4778-a099-acefd6781728",
   "metadata": {
    "tags": []
   },
   "outputs": [],
   "source": [
    "denver = pd.read_csv(\n",
    "    'data/72565003017.csv',\n",
    "    parse_dates=['DATE'],\n",
    "    usecols=['STATION',\n",
    "             'SOURCE', \n",
    "             'DATE',\n",
    "            'LATITUDE',\n",
    "            'LONGITUDE',\n",
    "            'ELEVATION',\n",
    "            'NAME',\n",
    "            'REPORT_TYPE',\n",
    "            'WND',\n",
    "            'CIG',\n",
    "            'VIS',\n",
    "            'TMP',\n",
    "            'DEW',\n",
    "            'SLP',\n",
    "            'AA1', # PRECIPITATION PERIOD QUANTITY\n",
    "            'AA2', # PRECIPITATION DEPTH\n",
    "            'AA3', # PRECIPITATION CONDITION\n",
    "            'AJ1', # SNOW\n",
    "            'AT1', # WEATHER OBSERVATION\n",
    "            'AT2',\n",
    "            'AT3',\n",
    "            'AT4',\n",
    "            'AT5',\n",
    "            'AT6',\n",
    "#            'AT7',\n",
    "#            'AT8',\n",
    "            'AW1',\n",
    "            'AW2',\n",
    "            'AW3',\n",
    "            'AW4',\n",
    "            'REM'],\n",
    "    dtype={'AT5':object, 'AT6':object})"
   ]
  },
  {
   "cell_type": "code",
   "execution_count": 4,
   "id": "c08e1ebf-a31f-485b-877b-0e4aa6f53452",
   "metadata": {
    "tags": []
   },
   "outputs": [
    {
     "data": {
      "text/plain": [
       "(13426, 29)"
      ]
     },
     "execution_count": 4,
     "metadata": {},
     "output_type": "execute_result"
    }
   ],
   "source": [
    "denver.shape"
   ]
  },
  {
   "cell_type": "code",
   "execution_count": 5,
   "id": "d3519a93-b1bc-4626-94ae-bf4e29e4251e",
   "metadata": {},
   "outputs": [
    {
     "name": "stdout",
     "output_type": "stream",
     "text": [
      "<class 'pandas.core.frame.DataFrame'>\n",
      "RangeIndex: 13426 entries, 0 to 13425\n",
      "Data columns (total 29 columns):\n",
      " #   Column       Non-Null Count  Dtype         \n",
      "---  ------       --------------  -----         \n",
      " 0   STATION      13426 non-null  int64         \n",
      " 1   DATE         13426 non-null  datetime64[ns]\n",
      " 2   SOURCE       13426 non-null  int64         \n",
      " 3   LATITUDE     13426 non-null  float64       \n",
      " 4   LONGITUDE    13426 non-null  float64       \n",
      " 5   ELEVATION    13426 non-null  float64       \n",
      " 6   NAME         13426 non-null  object        \n",
      " 7   REPORT_TYPE  13426 non-null  object        \n",
      " 8   WND          13426 non-null  object        \n",
      " 9   CIG          13426 non-null  object        \n",
      " 10  VIS          13426 non-null  object        \n",
      " 11  TMP          13426 non-null  object        \n",
      " 12  DEW          13426 non-null  object        \n",
      " 13  SLP          13426 non-null  object        \n",
      " 14  AA1          10031 non-null  object        \n",
      " 15  AA2          440 non-null    object        \n",
      " 16  AA3          32 non-null     object        \n",
      " 17  AJ1          365 non-null    object        \n",
      " 18  AT1          145 non-null    object        \n",
      " 19  AT2          91 non-null     object        \n",
      " 20  AT3          45 non-null     object        \n",
      " 21  AT4          25 non-null     object        \n",
      " 22  AT5          8 non-null      object        \n",
      " 23  AT6          2 non-null      object        \n",
      " 24  AW1          1653 non-null   object        \n",
      " 25  AW2          752 non-null    object        \n",
      " 26  AW3          57 non-null     object        \n",
      " 27  AW4          21 non-null     object        \n",
      " 28  REM          13426 non-null  object        \n",
      "dtypes: datetime64[ns](1), float64(3), int64(2), object(23)\n",
      "memory usage: 3.0+ MB\n"
     ]
    }
   ],
   "source": [
    "denver.info()"
   ]
  },
  {
   "cell_type": "markdown",
   "id": "11e95b28-3989-4ab8-92e1-f3336da30fa4",
   "metadata": {},
   "source": [
    "# Expand and rename visibility data"
   ]
  },
  {
   "cell_type": "code",
   "execution_count": 6,
   "id": "85f11b15-1c93-4808-a211-b04a59e240bc",
   "metadata": {},
   "outputs": [],
   "source": [
    "denver = pd.concat([denver, denver.VIS.str.split(',', expand=True)], axis=1)"
   ]
  },
  {
   "cell_type": "code",
   "execution_count": 7,
   "id": "6f98d2e6-1f9a-4f60-a88e-3a6551de21f8",
   "metadata": {},
   "outputs": [],
   "source": [
    "denver = denver.rename(\n",
    "    columns={\n",
    "        0: 'VIS_METERS', \n",
    "        1: 'VIS_Q', \n",
    "        2: 'VIS_V', \n",
    "        3: 'VIS_QV'})"
   ]
  },
  {
   "cell_type": "code",
   "execution_count": 8,
   "id": "5224d6a4-8b25-49a2-97ee-43d5ad34a3b6",
   "metadata": {},
   "outputs": [],
   "source": [
    "denver.VIS_METERS = pd.to_numeric(denver.VIS_METERS)"
   ]
  },
  {
   "cell_type": "code",
   "execution_count": 9,
   "id": "75b21318-77a2-48ea-9cb5-b9df825ec6a3",
   "metadata": {},
   "outputs": [],
   "source": [
    "denver = pd.concat(\n",
    "    [denver, denver.WND.str.split(\n",
    "        ',', expand=True)], axis=1\n",
    ")"
   ]
  },
  {
   "cell_type": "code",
   "execution_count": 10,
   "id": "a477fa57-1ba4-4fed-a21e-39a46aa5c9f4",
   "metadata": {},
   "outputs": [],
   "source": [
    "denver = denver.rename(\n",
    "    columns={\n",
    "        0: 'WND_ANGLE', \n",
    "        1: 'WND_QC', \n",
    "        2: 'WND_TYPE', \n",
    "        3: 'WND_SPEED',\n",
    "        4: 'WND_SPEED_QC'})"
   ]
  },
  {
   "cell_type": "code",
   "execution_count": 11,
   "id": "282070e7-0864-4806-ba44-3193772eec36",
   "metadata": {},
   "outputs": [],
   "source": [
    "denver.WND_ANGLE = pd.to_numeric(denver.WND_ANGLE)"
   ]
  },
  {
   "cell_type": "code",
   "execution_count": 12,
   "id": "2816df33-6aa1-4430-8ff8-ca7675c37eb0",
   "metadata": {},
   "outputs": [],
   "source": [
    "denver.WND_SPEED = pd.to_numeric(denver.WND_SPEED)"
   ]
  },
  {
   "cell_type": "code",
   "execution_count": 13,
   "id": "39ecb1c6-a6e8-4d13-884a-e5afc4c5b60a",
   "metadata": {},
   "outputs": [],
   "source": [
    "denver = pd.concat([denver, denver.CIG.str.split(',', expand=True)], axis=1)"
   ]
  },
  {
   "cell_type": "code",
   "execution_count": 14,
   "id": "61c05f59-b2e1-438f-aa13-61f91aae75fb",
   "metadata": {},
   "outputs": [],
   "source": [
    "denver = denver.rename(\n",
    "    columns={\n",
    "        0: 'CIG_HEIGHT', \n",
    "        1: 'CIG_QC', \n",
    "        2: 'CIG_DC', # Determination Code \n",
    "        3: 'CIG_CAVOK'})"
   ]
  },
  {
   "cell_type": "code",
   "execution_count": 15,
   "id": "ddf459cc-054b-489e-9e66-399399efd30a",
   "metadata": {},
   "outputs": [],
   "source": [
    "denver.CIG_HEIGHT = pd.to_numeric(denver.CIG_HEIGHT)"
   ]
  },
  {
   "cell_type": "code",
   "execution_count": 16,
   "id": "7e00eefb-c3fd-4fba-a5b7-901f8a35578a",
   "metadata": {},
   "outputs": [],
   "source": [
    "denver = pd.concat([denver, denver.TMP.str.split(',', expand=True)], axis=1)"
   ]
  },
  {
   "cell_type": "code",
   "execution_count": 21,
   "id": "7f70e8c8-8c2f-4012-810b-bb1285b516b0",
   "metadata": {},
   "outputs": [],
   "source": [
    "denver = denver.rename(\n",
    "    columns={\n",
    "        0: 'TMP_DEG_C', \n",
    "        1: 'TMP_QC'})"
   ]
  },
  {
   "cell_type": "code",
   "execution_count": 22,
   "id": "9f29d158-c555-4df2-b669-813a89e2b4e9",
   "metadata": {},
   "outputs": [],
   "source": [
    "denver.TMP_DEG_C = pd.to_numeric(denver.TMP_DEG_C)"
   ]
  },
  {
   "cell_type": "code",
   "execution_count": 25,
   "id": "6dcc25b3-625d-4ac8-822c-00a8b6b90aca",
   "metadata": {},
   "outputs": [],
   "source": [
    "denver = pd.concat([denver, denver.DEW.str.split(',', expand=True)], axis=1)"
   ]
  },
  {
   "cell_type": "code",
   "execution_count": 27,
   "id": "f7bd668c-ab36-4b4a-bcd8-f9d49bae9eb7",
   "metadata": {},
   "outputs": [],
   "source": [
    "denver = denver.rename(\n",
    "    columns={\n",
    "        0: 'DEW_DEG_C', \n",
    "        1: 'DEW_QC'})"
   ]
  },
  {
   "cell_type": "code",
   "execution_count": 29,
   "id": "21daa9cd-8539-48ec-ae3d-d766cd022946",
   "metadata": {},
   "outputs": [],
   "source": [
    "denver.DEW_DEG_C = pd.to_numeric(denver.DEW_DEG_C)"
   ]
  },
  {
   "cell_type": "code",
   "execution_count": 31,
   "id": "a0643fa4-9cba-4549-b8b3-26c6f26e5553",
   "metadata": {
    "tags": []
   },
   "outputs": [
    {
     "data": {
      "text/html": [
       "<div>\n",
       "<style scoped>\n",
       "    .dataframe tbody tr th:only-of-type {\n",
       "        vertical-align: middle;\n",
       "    }\n",
       "\n",
       "    .dataframe tbody tr th {\n",
       "        vertical-align: top;\n",
       "    }\n",
       "\n",
       "    .dataframe thead th {\n",
       "        text-align: right;\n",
       "    }\n",
       "</style>\n",
       "<table border=\"1\" class=\"dataframe\">\n",
       "  <thead>\n",
       "    <tr style=\"text-align: right;\">\n",
       "      <th></th>\n",
       "      <th>STATION</th>\n",
       "      <th>SOURCE</th>\n",
       "      <th>LATITUDE</th>\n",
       "      <th>LONGITUDE</th>\n",
       "      <th>ELEVATION</th>\n",
       "      <th>VIS_METERS</th>\n",
       "      <th>WND_ANGLE</th>\n",
       "      <th>WND_SPEED</th>\n",
       "      <th>CIG_HEIGHT</th>\n",
       "      <th>TMP_DEG_C</th>\n",
       "      <th>DEW_DEG_C</th>\n",
       "    </tr>\n",
       "  </thead>\n",
       "  <tbody>\n",
       "    <tr>\n",
       "      <th>count</th>\n",
       "      <td>1.342600e+04</td>\n",
       "      <td>13426.000000</td>\n",
       "      <td>1.342600e+04</td>\n",
       "      <td>1.342600e+04</td>\n",
       "      <td>1.342600e+04</td>\n",
       "      <td>13426.000000</td>\n",
       "      <td>13426.000000</td>\n",
       "      <td>13426.000000</td>\n",
       "      <td>13426.000000</td>\n",
       "      <td>13426.000000</td>\n",
       "      <td>13426.000000</td>\n",
       "    </tr>\n",
       "    <tr>\n",
       "      <th>mean</th>\n",
       "      <td>7.256500e+10</td>\n",
       "      <td>6.302622</td>\n",
       "      <td>3.984657e+01</td>\n",
       "      <td>-1.046562e+02</td>\n",
       "      <td>1.647200e+03</td>\n",
       "      <td>42256.284597</td>\n",
       "      <td>271.493371</td>\n",
       "      <td>345.070460</td>\n",
       "      <td>26456.573886</td>\n",
       "      <td>386.282437</td>\n",
       "      <td>270.503501</td>\n",
       "    </tr>\n",
       "    <tr>\n",
       "      <th>std</th>\n",
       "      <td>0.000000e+00</td>\n",
       "      <td>1.221638</td>\n",
       "      <td>7.105692e-15</td>\n",
       "      <td>4.263415e-14</td>\n",
       "      <td>4.547643e-13</td>\n",
       "      <td>163065.762690</td>\n",
       "      <td>269.345231</td>\n",
       "      <td>1704.977679</td>\n",
       "      <td>31528.681951</td>\n",
       "      <td>1640.207088</td>\n",
       "      <td>1660.416822</td>\n",
       "    </tr>\n",
       "    <tr>\n",
       "      <th>min</th>\n",
       "      <td>7.256500e+10</td>\n",
       "      <td>4.000000</td>\n",
       "      <td>3.984657e+01</td>\n",
       "      <td>-1.046562e+02</td>\n",
       "      <td>1.647200e+03</td>\n",
       "      <td>0.000000</td>\n",
       "      <td>10.000000</td>\n",
       "      <td>0.000000</td>\n",
       "      <td>30.000000</td>\n",
       "      <td>-267.000000</td>\n",
       "      <td>-294.000000</td>\n",
       "    </tr>\n",
       "    <tr>\n",
       "      <th>25%</th>\n",
       "      <td>7.256500e+10</td>\n",
       "      <td>6.000000</td>\n",
       "      <td>3.984657e+01</td>\n",
       "      <td>-1.046562e+02</td>\n",
       "      <td>1.647200e+03</td>\n",
       "      <td>16000.000000</td>\n",
       "      <td>120.000000</td>\n",
       "      <td>31.000000</td>\n",
       "      <td>4572.000000</td>\n",
       "      <td>22.000000</td>\n",
       "      <td>-78.000000</td>\n",
       "    </tr>\n",
       "    <tr>\n",
       "      <th>50%</th>\n",
       "      <td>7.256500e+10</td>\n",
       "      <td>7.000000</td>\n",
       "      <td>3.984657e+01</td>\n",
       "      <td>-1.046562e+02</td>\n",
       "      <td>1.647200e+03</td>\n",
       "      <td>16093.000000</td>\n",
       "      <td>210.000000</td>\n",
       "      <td>41.000000</td>\n",
       "      <td>22000.000000</td>\n",
       "      <td>111.000000</td>\n",
       "      <td>-17.000000</td>\n",
       "    </tr>\n",
       "    <tr>\n",
       "      <th>75%</th>\n",
       "      <td>7.256500e+10</td>\n",
       "      <td>7.000000</td>\n",
       "      <td>3.984657e+01</td>\n",
       "      <td>-1.046562e+02</td>\n",
       "      <td>1.647200e+03</td>\n",
       "      <td>16093.000000</td>\n",
       "      <td>290.000000</td>\n",
       "      <td>57.000000</td>\n",
       "      <td>22000.000000</td>\n",
       "      <td>206.000000</td>\n",
       "      <td>67.000000</td>\n",
       "    </tr>\n",
       "    <tr>\n",
       "      <th>max</th>\n",
       "      <td>7.256500e+10</td>\n",
       "      <td>7.000000</td>\n",
       "      <td>3.984657e+01</td>\n",
       "      <td>-1.046562e+02</td>\n",
       "      <td>1.647200e+03</td>\n",
       "      <td>999999.000000</td>\n",
       "      <td>999.000000</td>\n",
       "      <td>9999.000000</td>\n",
       "      <td>99999.000000</td>\n",
       "      <td>9999.000000</td>\n",
       "      <td>9999.000000</td>\n",
       "    </tr>\n",
       "  </tbody>\n",
       "</table>\n",
       "</div>"
      ],
      "text/plain": [
       "            STATION        SOURCE      LATITUDE     LONGITUDE     ELEVATION  \\\n",
       "count  1.342600e+04  13426.000000  1.342600e+04  1.342600e+04  1.342600e+04   \n",
       "mean   7.256500e+10      6.302622  3.984657e+01 -1.046562e+02  1.647200e+03   \n",
       "std    0.000000e+00      1.221638  7.105692e-15  4.263415e-14  4.547643e-13   \n",
       "min    7.256500e+10      4.000000  3.984657e+01 -1.046562e+02  1.647200e+03   \n",
       "25%    7.256500e+10      6.000000  3.984657e+01 -1.046562e+02  1.647200e+03   \n",
       "50%    7.256500e+10      7.000000  3.984657e+01 -1.046562e+02  1.647200e+03   \n",
       "75%    7.256500e+10      7.000000  3.984657e+01 -1.046562e+02  1.647200e+03   \n",
       "max    7.256500e+10      7.000000  3.984657e+01 -1.046562e+02  1.647200e+03   \n",
       "\n",
       "          VIS_METERS     WND_ANGLE     WND_SPEED    CIG_HEIGHT     TMP_DEG_C  \\\n",
       "count   13426.000000  13426.000000  13426.000000  13426.000000  13426.000000   \n",
       "mean    42256.284597    271.493371    345.070460  26456.573886    386.282437   \n",
       "std    163065.762690    269.345231   1704.977679  31528.681951   1640.207088   \n",
       "min         0.000000     10.000000      0.000000     30.000000   -267.000000   \n",
       "25%     16000.000000    120.000000     31.000000   4572.000000     22.000000   \n",
       "50%     16093.000000    210.000000     41.000000  22000.000000    111.000000   \n",
       "75%     16093.000000    290.000000     57.000000  22000.000000    206.000000   \n",
       "max    999999.000000    999.000000   9999.000000  99999.000000   9999.000000   \n",
       "\n",
       "          DEW_DEG_C  \n",
       "count  13426.000000  \n",
       "mean     270.503501  \n",
       "std     1660.416822  \n",
       "min     -294.000000  \n",
       "25%      -78.000000  \n",
       "50%      -17.000000  \n",
       "75%       67.000000  \n",
       "max     9999.000000  "
      ]
     },
     "execution_count": 31,
     "metadata": {},
     "output_type": "execute_result"
    }
   ],
   "source": [
    "denver.describe()"
   ]
  },
  {
   "cell_type": "code",
   "execution_count": 68,
   "id": "aab9829c-db15-4bc8-8233-ee4cf2777498",
   "metadata": {},
   "outputs": [
    {
     "data": {
      "image/png": "[encoded data removed]",
      "text/plain": [
       "<Figure size 200x200 with 1 Axes>"
      ]
     },
     "metadata": {},
     "output_type": "display_data"
    }
   ],
   "source": [
    "x = denver.DATE\n",
    "y = denver.VIS_METERS\n",
    "\n",
    "fig, ax = plt.subplots()\n",
    "ax.plot(x, y)\n",
    "\n",
    "ax.set(ylim=(0, 16000))\n",
    "\n",
    "plt.show()"
   ]
  },
  {
   "cell_type": "code",
   "execution_count": null,
   "id": "a23cf9fb-9a5c-4b7b-8b0d-b8b62a456947",
   "metadata": {},
   "outputs": [],
   "source": []
  }
 ],
 "metadata": {
  "kernelspec": {
   "display_name": "Python 3 (ipykernel)",
   "language": "python",
   "name": "python3"
  },
  "language_info": {
   "codemirror_mode": {
    "name": "ipython",
    "version": 3
   },
   "file_extension": ".py",
   "mimetype": "text/x-python",
   "name": "python",
   "nbconvert_exporter": "python",
   "pygments_lexer": "ipython3",
   "version": "3.10.4"
  }
 },
 "nbformat": 4,
 "nbformat_minor": 5
}
