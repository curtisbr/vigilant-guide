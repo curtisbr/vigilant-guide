{
 "cells": [
  {
   "cell_type": "code",
   "execution_count": 1,
   "id": "1bccc321-eb35-4cd7-b2a9-366f5e8e0913",
   "metadata": {},
   "outputs": [],
   "source": [
    "import numpy as np\n",
    "import pandas as pd\n",
    "import matplotlib.pyplot as plt\n",
    "import glob\n",
    "import os\n",
    "\n",
    "%matplotlib inline"
   ]
  },
  {
   "cell_type": "code",
   "execution_count": 21,
   "id": "ef8347e5-ff7a-4b7d-a054-3bc27c33566d",
   "metadata": {},
   "outputs": [
    {
     "ename": "KeyboardInterrupt",
     "evalue": "",
     "output_type": "error",
     "traceback": [
      "\u001b[0;31m---------------------------------------------------------------------------\u001b[0m",
      "\u001b[0;31mKeyboardInterrupt\u001b[0m                         Traceback (most recent call last)",
      "    \u001b[0;31m[... skipping hidden 1 frame]\u001b[0m\n",
      "Input \u001b[0;32mIn [21]\u001b[0m, in \u001b[0;36m<cell line: 50>\u001b[0;34m()\u001b[0m\n\u001b[1;32m     49\u001b[0m     li\u001b[38;5;241m.\u001b[39mappend(df)\n\u001b[0;32m---> 50\u001b[0m df \u001b[38;5;241m=\u001b[39m \u001b[43mpd\u001b[49m\u001b[38;5;241;43m.\u001b[39;49m\u001b[43mconcat\u001b[49m\u001b[43m(\u001b[49m\u001b[43mli\u001b[49m\u001b[43m,\u001b[49m\u001b[43m \u001b[49m\u001b[43maxis\u001b[49m\u001b[38;5;241;43m=\u001b[39;49m\u001b[38;5;241;43m0\u001b[39;49m\u001b[43m,\u001b[49m\u001b[43m \u001b[49m\u001b[43mignore_index\u001b[49m\u001b[38;5;241;43m=\u001b[39;49m\u001b[38;5;28;43;01mTrue\u001b[39;49;00m\u001b[43m)\u001b[49m\n\u001b[1;32m     51\u001b[0m \u001b[38;5;28mprint\u001b[39m(\u001b[38;5;124m'\u001b[39m\u001b[38;5;124mall rows =\u001b[39m\u001b[38;5;124m'\u001b[39m,df\u001b[38;5;241m.\u001b[39mshape)\n",
      "File \u001b[0;32m/Library/Frameworks/Python.framework/Versions/3.10/lib/python3.10/site-packages/pandas/util/_decorators.py:311\u001b[0m, in \u001b[0;36mdeprecate_nonkeyword_arguments.<locals>.decorate.<locals>.wrapper\u001b[0;34m(*args, **kwargs)\u001b[0m\n\u001b[1;32m    306\u001b[0m     warnings\u001b[38;5;241m.\u001b[39mwarn(\n\u001b[1;32m    307\u001b[0m         msg\u001b[38;5;241m.\u001b[39mformat(arguments\u001b[38;5;241m=\u001b[39marguments),\n\u001b[1;32m    308\u001b[0m         \u001b[38;5;167;01mFutureWarning\u001b[39;00m,\n\u001b[1;32m    309\u001b[0m         stacklevel\u001b[38;5;241m=\u001b[39mstacklevel,\n\u001b[1;32m    310\u001b[0m     )\n\u001b[0;32m--> 311\u001b[0m \u001b[38;5;28;01mreturn\u001b[39;00m \u001b[43mfunc\u001b[49m\u001b[43m(\u001b[49m\u001b[38;5;241;43m*\u001b[39;49m\u001b[43margs\u001b[49m\u001b[43m,\u001b[49m\u001b[43m \u001b[49m\u001b[38;5;241;43m*\u001b[39;49m\u001b[38;5;241;43m*\u001b[39;49m\u001b[43mkwargs\u001b[49m\u001b[43m)\u001b[49m\n",
      "File \u001b[0;32m/Library/Frameworks/Python.framework/Versions/3.10/lib/python3.10/site-packages/pandas/core/reshape/concat.py:360\u001b[0m, in \u001b[0;36mconcat\u001b[0;34m(objs, axis, join, ignore_index, keys, levels, names, verify_integrity, sort, copy)\u001b[0m\n\u001b[1;32m    347\u001b[0m op \u001b[38;5;241m=\u001b[39m _Concatenator(\n\u001b[1;32m    348\u001b[0m     objs,\n\u001b[1;32m    349\u001b[0m     axis\u001b[38;5;241m=\u001b[39maxis,\n\u001b[0;32m   (...)\u001b[0m\n\u001b[1;32m    357\u001b[0m     sort\u001b[38;5;241m=\u001b[39msort,\n\u001b[1;32m    358\u001b[0m )\n\u001b[0;32m--> 360\u001b[0m \u001b[38;5;28;01mreturn\u001b[39;00m \u001b[43mop\u001b[49m\u001b[38;5;241;43m.\u001b[39;49m\u001b[43mget_result\u001b[49m\u001b[43m(\u001b[49m\u001b[43m)\u001b[49m\n",
      "File \u001b[0;32m/Library/Frameworks/Python.framework/Versions/3.10/lib/python3.10/site-packages/pandas/core/reshape/concat.py:595\u001b[0m, in \u001b[0;36m_Concatenator.get_result\u001b[0;34m(self)\u001b[0m\n\u001b[1;32m    593\u001b[0m     mgrs_indexers\u001b[38;5;241m.\u001b[39mappend((obj\u001b[38;5;241m.\u001b[39m_mgr, indexers))\n\u001b[0;32m--> 595\u001b[0m new_data \u001b[38;5;241m=\u001b[39m \u001b[43mconcatenate_managers\u001b[49m\u001b[43m(\u001b[49m\n\u001b[1;32m    596\u001b[0m \u001b[43m    \u001b[49m\u001b[43mmgrs_indexers\u001b[49m\u001b[43m,\u001b[49m\u001b[43m \u001b[49m\u001b[38;5;28;43mself\u001b[39;49m\u001b[38;5;241;43m.\u001b[39;49m\u001b[43mnew_axes\u001b[49m\u001b[43m,\u001b[49m\u001b[43m \u001b[49m\u001b[43mconcat_axis\u001b[49m\u001b[38;5;241;43m=\u001b[39;49m\u001b[38;5;28;43mself\u001b[39;49m\u001b[38;5;241;43m.\u001b[39;49m\u001b[43mbm_axis\u001b[49m\u001b[43m,\u001b[49m\u001b[43m \u001b[49m\u001b[43mcopy\u001b[49m\u001b[38;5;241;43m=\u001b[39;49m\u001b[38;5;28;43mself\u001b[39;49m\u001b[38;5;241;43m.\u001b[39;49m\u001b[43mcopy\u001b[49m\n\u001b[1;32m    597\u001b[0m \u001b[43m\u001b[49m\u001b[43m)\u001b[49m\n\u001b[1;32m    598\u001b[0m \u001b[38;5;28;01mif\u001b[39;00m \u001b[38;5;129;01mnot\u001b[39;00m \u001b[38;5;28mself\u001b[39m\u001b[38;5;241m.\u001b[39mcopy:\n",
      "File \u001b[0;32m/Library/Frameworks/Python.framework/Versions/3.10/lib/python3.10/site-packages/pandas/core/internals/concat.py:242\u001b[0m, in \u001b[0;36mconcatenate_managers\u001b[0;34m(mgrs_indexers, axes, concat_axis, copy)\u001b[0m\n\u001b[1;32m    241\u001b[0m \u001b[38;5;28;01melse\u001b[39;00m:\n\u001b[0;32m--> 242\u001b[0m     values \u001b[38;5;241m=\u001b[39m \u001b[43m_concatenate_join_units\u001b[49m\u001b[43m(\u001b[49m\u001b[43mjoin_units\u001b[49m\u001b[43m,\u001b[49m\u001b[43m \u001b[49m\u001b[43mconcat_axis\u001b[49m\u001b[43m,\u001b[49m\u001b[43m \u001b[49m\u001b[43mcopy\u001b[49m\u001b[38;5;241;43m=\u001b[39;49m\u001b[43mcopy\u001b[49m\u001b[43m)\u001b[49m\n\u001b[1;32m    243\u001b[0m     fastpath \u001b[38;5;241m=\u001b[39m \u001b[38;5;28;01mFalse\u001b[39;00m\n",
      "File \u001b[0;32m/Library/Frameworks/Python.framework/Versions/3.10/lib/python3.10/site-packages/pandas/core/internals/concat.py:583\u001b[0m, in \u001b[0;36m_concatenate_join_units\u001b[0;34m(join_units, concat_axis, copy)\u001b[0m\n\u001b[1;32m    582\u001b[0m \u001b[38;5;28;01melse\u001b[39;00m:\n\u001b[0;32m--> 583\u001b[0m     concat_values \u001b[38;5;241m=\u001b[39m \u001b[43mconcat_compat\u001b[49m\u001b[43m(\u001b[49m\u001b[43mto_concat\u001b[49m\u001b[43m,\u001b[49m\u001b[43m \u001b[49m\u001b[43maxis\u001b[49m\u001b[38;5;241;43m=\u001b[39;49m\u001b[43mconcat_axis\u001b[49m\u001b[43m)\u001b[49m\n\u001b[1;32m    585\u001b[0m \u001b[38;5;28;01mreturn\u001b[39;00m concat_values\n",
      "File \u001b[0;32m/Library/Frameworks/Python.framework/Versions/3.10/lib/python3.10/site-packages/pandas/core/dtypes/concat.py:151\u001b[0m, in \u001b[0;36mconcat_compat\u001b[0;34m(to_concat, axis, ea_compat_axis)\u001b[0m\n\u001b[1;32m    149\u001b[0m             kinds \u001b[38;5;241m=\u001b[39m {\u001b[38;5;124m\"\u001b[39m\u001b[38;5;124mo\u001b[39m\u001b[38;5;124m\"\u001b[39m}\n\u001b[0;32m--> 151\u001b[0m result \u001b[38;5;241m=\u001b[39m \u001b[43mnp\u001b[49m\u001b[38;5;241;43m.\u001b[39;49m\u001b[43mconcatenate\u001b[49m\u001b[43m(\u001b[49m\u001b[43mto_concat\u001b[49m\u001b[43m,\u001b[49m\u001b[43m \u001b[49m\u001b[43maxis\u001b[49m\u001b[38;5;241;43m=\u001b[39;49m\u001b[43maxis\u001b[49m\u001b[43m)\u001b[49m\n\u001b[1;32m    152\u001b[0m \u001b[38;5;28;01mif\u001b[39;00m \u001b[38;5;124m\"\u001b[39m\u001b[38;5;124mb\u001b[39m\u001b[38;5;124m\"\u001b[39m \u001b[38;5;129;01min\u001b[39;00m kinds \u001b[38;5;129;01mand\u001b[39;00m result\u001b[38;5;241m.\u001b[39mdtype\u001b[38;5;241m.\u001b[39mkind \u001b[38;5;129;01min\u001b[39;00m [\u001b[38;5;124m\"\u001b[39m\u001b[38;5;124mi\u001b[39m\u001b[38;5;124m\"\u001b[39m, \u001b[38;5;124m\"\u001b[39m\u001b[38;5;124mu\u001b[39m\u001b[38;5;124m\"\u001b[39m, \u001b[38;5;124m\"\u001b[39m\u001b[38;5;124mf\u001b[39m\u001b[38;5;124m\"\u001b[39m]:\n\u001b[1;32m    153\u001b[0m     \u001b[38;5;66;03m# GH#39817\u001b[39;00m\n",
      "File \u001b[0;32m<__array_function__ internals>:180\u001b[0m, in \u001b[0;36mconcatenate\u001b[0;34m(*args, **kwargs)\u001b[0m\n",
      "\u001b[0;31mKeyboardInterrupt\u001b[0m: ",
      "\nDuring handling of the above exception, another exception occurred:\n",
      "\u001b[0;31mKeyboardInterrupt\u001b[0m                         Traceback (most recent call last)",
      "\u001b[0;31mKeyboardInterrupt\u001b[0m: "
     ]
    }
   ],
   "source": [
    "# create list of files to concat\n",
    "all_files = glob.glob('data/2021/*.csv')\n",
    "\n",
    "# create empty list\n",
    "li = []\n",
    "\n",
    "cols = ['STATION',\n",
    "          'SOURCE', \n",
    "          'DATE',\n",
    "          'LATITUDE',\n",
    "          'LONGITUDE',\n",
    "          'ELEVATION',\n",
    "          'NAME',\n",
    "          'REPORT_TYPE',\n",
    "          'CALL_SIGN',\n",
    "          'WND',\n",
    "          'CIG',\n",
    "          'VIS',\n",
    "          'TMP',\n",
    "          'DEW',\n",
    "          'SLP',\n",
    "          'REM']\n",
    "\n",
    "dtypes = {'STATION': object,\n",
    "          'SOURCE': object,\n",
    "          'LATITUDE': object,\n",
    "          'LONGITUDE': object,\n",
    "          'ELEVATION': object,\n",
    "          'NAME': object,\n",
    "          'REPORT_TYPE': object,\n",
    "          'CALL_SIGN': object,\n",
    "          'WND': object,\n",
    "          'CIG': object,\n",
    "          'VIS': object,\n",
    "          'TMP': object,\n",
    "          'DEW': object,\n",
    "          'SLP': object,\n",
    "          'REM': object\n",
    "            }\n",
    "\n",
    "for filename in all_files:\n",
    "    df = pd.read_csv(filename, \n",
    "                     parse_dates=['DATE'], \n",
    "                     index_col=None, \n",
    "                     header=0,\n",
    "                     usecols=lambda c: c in cols,\n",
    "                     dtype=dtypes\n",
    "                    )\n",
    "    li.append(df)\n",
    "df = pd.concat(li, axis=0, ignore_index=True)\n",
    "print('all rows =',df.shape)\n",
    "\n",
    "df = df[df['CALL_SIGN']!=99999]\n",
    "df = df[df['CALL_SIGN']!='99999']\n",
    "print('only call signs =',df.shape)\n",
    "\n",
    "df_15 = df[df['REPORT_TYPE']=='FM-15']\n",
    "df_16 = df[df['REPORT_TYPE']=='FM-16']\n",
    "print('FM_15 reports =',df_15.shape)\n",
    "print('FM_16 reports =',df_16.shape)\n",
    "\n",
    "wx_data = pd.concat([df_15, df_16], axis=0, ignore_index=True)\n",
    "print('combined rows =',wx_data.shape)"
   ]
  },
  {
   "cell_type": "code",
   "execution_count": 22,
   "id": "92a0fa92-4b69-4bb7-b4e2-131ee38d25c8",
   "metadata": {},
   "outputs": [
    {
     "ename": "NameError",
     "evalue": "name 'wx_data' is not defined",
     "output_type": "error",
     "traceback": [
      "\u001b[0;31m---------------------------------------------------------------------------\u001b[0m",
      "\u001b[0;31mNameError\u001b[0m                                 Traceback (most recent call last)",
      "Input \u001b[0;32mIn [22]\u001b[0m, in \u001b[0;36m<cell line: 1>\u001b[0;34m()\u001b[0m\n\u001b[0;32m----> 1\u001b[0m unique_stations \u001b[38;5;241m=\u001b[39m \u001b[43mwx_data\u001b[49m\u001b[38;5;241m.\u001b[39mCALL_SIGN\u001b[38;5;241m.\u001b[39munique()\n\u001b[1;32m      2\u001b[0m unique_stations\n",
      "\u001b[0;31mNameError\u001b[0m: name 'wx_data' is not defined"
     ]
    }
   ],
   "source": [
    "unique_stations = wx_data.CALL_SIGN.unique()\n",
    "unique_stations"
   ]
  },
  {
   "cell_type": "markdown",
   "id": "9cd7c51f-f5d2-4bb0-9a32-d1b9362db6c0",
   "metadata": {
    "tags": []
   },
   "source": [
    "## check that the data lengths match"
   ]
  },
  {
   "cell_type": "code",
   "execution_count": 4,
   "id": "c08e1ebf-a31f-485b-877b-0e4aa6f53452",
   "metadata": {
    "tags": []
   },
   "outputs": [
    {
     "data": {
      "text/plain": [
       "(10559, 16)"
      ]
     },
     "execution_count": 4,
     "metadata": {},
     "output_type": "execute_result"
    }
   ],
   "source": [
    "df.shape"
   ]
  },
  {
   "cell_type": "code",
   "execution_count": 5,
   "id": "9f950c01-6c97-4081-8800-c810a3122759",
   "metadata": {
    "tags": []
   },
   "outputs": [
    {
     "data": {
      "text/plain": [
       "(8754, 16)"
      ]
     },
     "execution_count": 5,
     "metadata": {},
     "output_type": "execute_result"
    }
   ],
   "source": [
    "df_15.shape"
   ]
  },
  {
   "cell_type": "code",
   "execution_count": 6,
   "id": "a82fbdfe-8f96-4f5d-ab71-a6a4a6e7e927",
   "metadata": {
    "tags": []
   },
   "outputs": [
    {
     "data": {
      "text/plain": [
       "(1426, 16)"
      ]
     },
     "execution_count": 6,
     "metadata": {},
     "output_type": "execute_result"
    }
   ],
   "source": [
    "df_16.shape"
   ]
  },
  {
   "cell_type": "code",
   "execution_count": 7,
   "id": "d3519a93-b1bc-4626-94ae-bf4e29e4251e",
   "metadata": {},
   "outputs": [
    {
     "data": {
      "text/plain": [
       "(10180, 16)"
      ]
     },
     "execution_count": 7,
     "metadata": {},
     "output_type": "execute_result"
    }
   ],
   "source": [
    "wx_data.shape"
   ]
  },
  {
   "cell_type": "markdown",
   "id": "11e95b28-3989-4ab8-92e1-f3336da30fa4",
   "metadata": {},
   "source": [
    "## expand cols with additional data and rename"
   ]
  },
  {
   "cell_type": "code",
   "execution_count": 8,
   "id": "85f11b15-1c93-4808-a211-b04a59e240bc",
   "metadata": {},
   "outputs": [],
   "source": [
    "wx_data = pd.concat([wx_data, wx_data.VIS.str.split(',', expand=True)], axis=1)\n",
    "wx_data = wx_data.rename(\n",
    "    columns={\n",
    "        0: 'VIS_METERS', \n",
    "        1: 'VIS_Q', \n",
    "        2: 'VIS_V', \n",
    "        3: 'VIS_QV'})\n",
    "wx_data.VIS_METERS = pd.to_numeric(wx_data.VIS_METERS)"
   ]
  },
  {
   "cell_type": "code",
   "execution_count": 9,
   "id": "75b21318-77a2-48ea-9cb5-b9df825ec6a3",
   "metadata": {},
   "outputs": [],
   "source": [
    "wx_data = pd.concat([wx_data, wx_data.WND.str.split(',', expand=True)], axis=1)\n",
    "wx_data = wx_data.rename(\n",
    "    columns={\n",
    "        0: 'WND_ANGLE', \n",
    "        1: 'WND_QC', \n",
    "        2: 'WND_TYPE', \n",
    "        3: 'WND_SPEED',\n",
    "        4: 'WND_SPEED_QC'})\n",
    "wx_data.WND_ANGLE = pd.to_numeric(wx_data.WND_ANGLE)\n",
    "wx_data.WND_SPEED = pd.to_numeric(wx_data.WND_SPEED)"
   ]
  },
  {
   "cell_type": "code",
   "execution_count": 10,
   "id": "39ecb1c6-a6e8-4d13-884a-e5afc4c5b60a",
   "metadata": {},
   "outputs": [],
   "source": [
    "wx_data = pd.concat([wx_data, wx_data.CIG.str.split(',', expand=True)], axis=1)\n",
    "wx_data = wx_data.rename(\n",
    "    columns={\n",
    "        0: 'CIG_HEIGHT', \n",
    "        1: 'CIG_QC', \n",
    "        2: 'CIG_DC', # Determination Code \n",
    "        3: 'CIG_CAVOK'})\n",
    "wx_data.CIG_HEIGHT = pd.to_numeric(wx_data.CIG_HEIGHT)"
   ]
  },
  {
   "cell_type": "code",
   "execution_count": 11,
   "id": "7e00eefb-c3fd-4fba-a5b7-901f8a35578a",
   "metadata": {},
   "outputs": [],
   "source": [
    "wx_data = pd.concat([wx_data, wx_data.TMP.str.split(',', expand=True)], axis=1)\n",
    "wx_data = wx_data.rename(\n",
    "    columns={\n",
    "        0: 'TMP_DEG_C', \n",
    "        1: 'TMP_QC'})"
   ]
  },
  {
   "cell_type": "code",
   "execution_count": 12,
   "id": "7f70e8c8-8c2f-4012-810b-bb1285b516b0",
   "metadata": {},
   "outputs": [],
   "source": [
    "wx_data = wx_data.rename(\n",
    "    columns={\n",
    "        0: 'TMP_DEG_C', \n",
    "        1: 'TMP_QC'})\n",
    "wx_data.TMP_DEG_C = pd.to_numeric(wx_data.TMP_DEG_C)"
   ]
  },
  {
   "cell_type": "code",
   "execution_count": 13,
   "id": "6dcc25b3-625d-4ac8-822c-00a8b6b90aca",
   "metadata": {},
   "outputs": [],
   "source": [
    "wx_data = pd.concat([wx_data, wx_data.DEW.str.split(',', expand=True)], axis=1)\n",
    "wx_data = wx_data.rename(\n",
    "    columns={\n",
    "        0: 'DEW_DEG_C', \n",
    "        1: 'DEW_QC'})\n",
    "wx_data.DEW_DEG_C = pd.to_numeric(wx_data.DEW_DEG_C)"
   ]
  },
  {
   "cell_type": "code",
   "execution_count": 14,
   "id": "6f98d2e6-1f9a-4f60-a88e-3a6551de21f8",
   "metadata": {},
   "outputs": [
    {
     "name": "stdout",
     "output_type": "stream",
     "text": [
      "<class 'pandas.core.frame.DataFrame'>\n",
      "RangeIndex: 10180 entries, 0 to 10179\n",
      "Data columns (total 33 columns):\n",
      " #   Column        Non-Null Count  Dtype         \n",
      "---  ------        --------------  -----         \n",
      " 0   STATION       10180 non-null  int64         \n",
      " 1   DATE          10180 non-null  datetime64[ns]\n",
      " 2   SOURCE        10180 non-null  int64         \n",
      " 3   LATITUDE      10180 non-null  float64       \n",
      " 4   LONGITUDE     10180 non-null  float64       \n",
      " 5   ELEVATION     10180 non-null  float64       \n",
      " 6   NAME          10180 non-null  object        \n",
      " 7   REPORT_TYPE   10180 non-null  object        \n",
      " 8   CALL_SIGN     10180 non-null  object        \n",
      " 9   WND           10180 non-null  object        \n",
      " 10  CIG           10180 non-null  object        \n",
      " 11  VIS           10180 non-null  object        \n",
      " 12  TMP           10180 non-null  object        \n",
      " 13  DEW           10180 non-null  object        \n",
      " 14  SLP           10180 non-null  object        \n",
      " 15  REM           10180 non-null  object        \n",
      " 16  VIS_METERS    10180 non-null  int64         \n",
      " 17  VIS_Q         10180 non-null  object        \n",
      " 18  VIS_V         10180 non-null  object        \n",
      " 19  VIS_QV        10180 non-null  object        \n",
      " 20  WND_ANGLE     10180 non-null  int64         \n",
      " 21  WND_QC        10180 non-null  object        \n",
      " 22  WND_TYPE      10180 non-null  object        \n",
      " 23  WND_SPEED     10180 non-null  int64         \n",
      " 24  WND_SPEED_QC  10180 non-null  object        \n",
      " 25  CIG_HEIGHT    10180 non-null  int64         \n",
      " 26  CIG_QC        10180 non-null  object        \n",
      " 27  CIG_DC        10180 non-null  object        \n",
      " 28  CIG_CAVOK     10180 non-null  object        \n",
      " 29  TMP_DEG_C     10180 non-null  int64         \n",
      " 30  TMP_QC        10180 non-null  object        \n",
      " 31  DEW_DEG_C     10180 non-null  int64         \n",
      " 32  DEW_QC        10180 non-null  object        \n",
      "dtypes: datetime64[ns](1), float64(3), int64(8), object(21)\n",
      "memory usage: 2.6+ MB\n"
     ]
    }
   ],
   "source": [
    "wx_data.info()"
   ]
  },
  {
   "cell_type": "code",
   "execution_count": 15,
   "id": "a0643fa4-9cba-4549-b8b3-26c6f26e5553",
   "metadata": {
    "tags": []
   },
   "outputs": [
    {
     "data": {
      "text/html": [
       "<div>\n",
       "<style scoped>\n",
       "    .dataframe tbody tr th:only-of-type {\n",
       "        vertical-align: middle;\n",
       "    }\n",
       "\n",
       "    .dataframe tbody tr th {\n",
       "        vertical-align: top;\n",
       "    }\n",
       "\n",
       "    .dataframe thead th {\n",
       "        text-align: right;\n",
       "    }\n",
       "</style>\n",
       "<table border=\"1\" class=\"dataframe\">\n",
       "  <thead>\n",
       "    <tr style=\"text-align: right;\">\n",
       "      <th></th>\n",
       "      <th>STATION</th>\n",
       "      <th>DATE</th>\n",
       "      <th>SOURCE</th>\n",
       "      <th>LATITUDE</th>\n",
       "      <th>LONGITUDE</th>\n",
       "      <th>ELEVATION</th>\n",
       "      <th>NAME</th>\n",
       "      <th>REPORT_TYPE</th>\n",
       "      <th>CALL_SIGN</th>\n",
       "      <th>WND</th>\n",
       "      <th>...</th>\n",
       "      <th>WND_SPEED</th>\n",
       "      <th>WND_SPEED_QC</th>\n",
       "      <th>CIG_HEIGHT</th>\n",
       "      <th>CIG_QC</th>\n",
       "      <th>CIG_DC</th>\n",
       "      <th>CIG_CAVOK</th>\n",
       "      <th>TMP_DEG_C</th>\n",
       "      <th>TMP_QC</th>\n",
       "      <th>DEW_DEG_C</th>\n",
       "      <th>DEW_QC</th>\n",
       "    </tr>\n",
       "  </thead>\n",
       "  <tbody>\n",
       "    <tr>\n",
       "      <th>0</th>\n",
       "      <td>72565003017</td>\n",
       "      <td>2021-01-01 00:53:00</td>\n",
       "      <td>7</td>\n",
       "      <td>39.84657</td>\n",
       "      <td>-104.65623</td>\n",
       "      <td>1647.2</td>\n",
       "      <td>DENVER INTERNATIONAL AIRPORT, CO US</td>\n",
       "      <td>FM-15</td>\n",
       "      <td>KDEN</td>\n",
       "      <td>340,5,N,0026,5</td>\n",
       "      <td>...</td>\n",
       "      <td>26</td>\n",
       "      <td>5</td>\n",
       "      <td>3353</td>\n",
       "      <td>5</td>\n",
       "      <td>M</td>\n",
       "      <td>N</td>\n",
       "      <td>0</td>\n",
       "      <td>5</td>\n",
       "      <td>-67</td>\n",
       "      <td>5</td>\n",
       "    </tr>\n",
       "    <tr>\n",
       "      <th>1</th>\n",
       "      <td>72565003017</td>\n",
       "      <td>2021-01-01 01:53:00</td>\n",
       "      <td>7</td>\n",
       "      <td>39.84657</td>\n",
       "      <td>-104.65623</td>\n",
       "      <td>1647.2</td>\n",
       "      <td>DENVER INTERNATIONAL AIRPORT, CO US</td>\n",
       "      <td>FM-15</td>\n",
       "      <td>KDEN</td>\n",
       "      <td>340,5,N,0026,5</td>\n",
       "      <td>...</td>\n",
       "      <td>26</td>\n",
       "      <td>5</td>\n",
       "      <td>3658</td>\n",
       "      <td>5</td>\n",
       "      <td>M</td>\n",
       "      <td>N</td>\n",
       "      <td>-6</td>\n",
       "      <td>5</td>\n",
       "      <td>-61</td>\n",
       "      <td>5</td>\n",
       "    </tr>\n",
       "    <tr>\n",
       "      <th>2</th>\n",
       "      <td>72565003017</td>\n",
       "      <td>2021-01-01 02:53:00</td>\n",
       "      <td>7</td>\n",
       "      <td>39.84657</td>\n",
       "      <td>-104.65623</td>\n",
       "      <td>1647.2</td>\n",
       "      <td>DENVER INTERNATIONAL AIRPORT, CO US</td>\n",
       "      <td>FM-15</td>\n",
       "      <td>KDEN</td>\n",
       "      <td>999,9,C,0000,5</td>\n",
       "      <td>...</td>\n",
       "      <td>0</td>\n",
       "      <td>5</td>\n",
       "      <td>3658</td>\n",
       "      <td>5</td>\n",
       "      <td>M</td>\n",
       "      <td>N</td>\n",
       "      <td>0</td>\n",
       "      <td>5</td>\n",
       "      <td>-78</td>\n",
       "      <td>5</td>\n",
       "    </tr>\n",
       "    <tr>\n",
       "      <th>3</th>\n",
       "      <td>72565003017</td>\n",
       "      <td>2021-01-01 03:53:00</td>\n",
       "      <td>7</td>\n",
       "      <td>39.84657</td>\n",
       "      <td>-104.65623</td>\n",
       "      <td>1647.2</td>\n",
       "      <td>DENVER INTERNATIONAL AIRPORT, CO US</td>\n",
       "      <td>FM-15</td>\n",
       "      <td>KDEN</td>\n",
       "      <td>999,9,C,0000,5</td>\n",
       "      <td>...</td>\n",
       "      <td>0</td>\n",
       "      <td>5</td>\n",
       "      <td>3658</td>\n",
       "      <td>5</td>\n",
       "      <td>M</td>\n",
       "      <td>N</td>\n",
       "      <td>0</td>\n",
       "      <td>5</td>\n",
       "      <td>-67</td>\n",
       "      <td>5</td>\n",
       "    </tr>\n",
       "    <tr>\n",
       "      <th>4</th>\n",
       "      <td>72565003017</td>\n",
       "      <td>2021-01-01 04:53:00</td>\n",
       "      <td>7</td>\n",
       "      <td>39.84657</td>\n",
       "      <td>-104.65623</td>\n",
       "      <td>1647.2</td>\n",
       "      <td>DENVER INTERNATIONAL AIRPORT, CO US</td>\n",
       "      <td>FM-15</td>\n",
       "      <td>KDEN</td>\n",
       "      <td>010,5,N,0015,5</td>\n",
       "      <td>...</td>\n",
       "      <td>15</td>\n",
       "      <td>5</td>\n",
       "      <td>6706</td>\n",
       "      <td>5</td>\n",
       "      <td>M</td>\n",
       "      <td>N</td>\n",
       "      <td>0</td>\n",
       "      <td>5</td>\n",
       "      <td>-89</td>\n",
       "      <td>5</td>\n",
       "    </tr>\n",
       "  </tbody>\n",
       "</table>\n",
       "<p>5 rows × 33 columns</p>\n",
       "</div>"
      ],
      "text/plain": [
       "       STATION                DATE  SOURCE  LATITUDE  LONGITUDE  ELEVATION  \\\n",
       "0  72565003017 2021-01-01 00:53:00       7  39.84657 -104.65623     1647.2   \n",
       "1  72565003017 2021-01-01 01:53:00       7  39.84657 -104.65623     1647.2   \n",
       "2  72565003017 2021-01-01 02:53:00       7  39.84657 -104.65623     1647.2   \n",
       "3  72565003017 2021-01-01 03:53:00       7  39.84657 -104.65623     1647.2   \n",
       "4  72565003017 2021-01-01 04:53:00       7  39.84657 -104.65623     1647.2   \n",
       "\n",
       "                                  NAME REPORT_TYPE CALL_SIGN             WND  \\\n",
       "0  DENVER INTERNATIONAL AIRPORT, CO US       FM-15     KDEN   340,5,N,0026,5   \n",
       "1  DENVER INTERNATIONAL AIRPORT, CO US       FM-15     KDEN   340,5,N,0026,5   \n",
       "2  DENVER INTERNATIONAL AIRPORT, CO US       FM-15     KDEN   999,9,C,0000,5   \n",
       "3  DENVER INTERNATIONAL AIRPORT, CO US       FM-15     KDEN   999,9,C,0000,5   \n",
       "4  DENVER INTERNATIONAL AIRPORT, CO US       FM-15     KDEN   010,5,N,0015,5   \n",
       "\n",
       "   ... WND_SPEED WND_SPEED_QC CIG_HEIGHT CIG_QC CIG_DC CIG_CAVOK  TMP_DEG_C  \\\n",
       "0  ...        26            5       3353      5      M         N          0   \n",
       "1  ...        26            5       3658      5      M         N         -6   \n",
       "2  ...         0            5       3658      5      M         N          0   \n",
       "3  ...         0            5       3658      5      M         N          0   \n",
       "4  ...        15            5       6706      5      M         N          0   \n",
       "\n",
       "  TMP_QC DEW_DEG_C DEW_QC  \n",
       "0      5       -67      5  \n",
       "1      5       -61      5  \n",
       "2      5       -78      5  \n",
       "3      5       -67      5  \n",
       "4      5       -89      5  \n",
       "\n",
       "[5 rows x 33 columns]"
      ]
     },
     "execution_count": 15,
     "metadata": {},
     "output_type": "execute_result"
    }
   ],
   "source": [
    "wx_data.head()"
   ]
  },
  {
   "cell_type": "code",
   "execution_count": 16,
   "id": "df27c4f5-486b-426d-b69a-d491bd1f2f92",
   "metadata": {},
   "outputs": [],
   "source": [
    "daily_average = wx_data.resample('d', on='DATE').mean().dropna(how='all')"
   ]
  },
  {
   "cell_type": "code",
   "execution_count": 17,
   "id": "d1d951d7-4a5c-4308-8bd9-ff4b3c62f6da",
   "metadata": {},
   "outputs": [
    {
     "name": "stdout",
     "output_type": "stream",
     "text": [
      "<class 'pandas.core.frame.DataFrame'>\n",
      "DatetimeIndex: 365 entries, 2021-01-01 to 2021-12-31\n",
      "Freq: D\n",
      "Data columns (total 11 columns):\n",
      " #   Column      Non-Null Count  Dtype  \n",
      "---  ------      --------------  -----  \n",
      " 0   STATION     365 non-null    float64\n",
      " 1   SOURCE      365 non-null    float64\n",
      " 2   LATITUDE    365 non-null    float64\n",
      " 3   LONGITUDE   365 non-null    float64\n",
      " 4   ELEVATION   365 non-null    float64\n",
      " 5   VIS_METERS  365 non-null    float64\n",
      " 6   WND_ANGLE   365 non-null    float64\n",
      " 7   WND_SPEED   365 non-null    float64\n",
      " 8   CIG_HEIGHT  365 non-null    float64\n",
      " 9   TMP_DEG_C   365 non-null    float64\n",
      " 10  DEW_DEG_C   365 non-null    float64\n",
      "dtypes: float64(11)\n",
      "memory usage: 34.2 KB\n"
     ]
    }
   ],
   "source": [
    "daily_average.info()"
   ]
  },
  {
   "cell_type": "code",
   "execution_count": 18,
   "id": "e22a1007-a213-483b-96d2-492649789c91",
   "metadata": {},
   "outputs": [
    {
     "data": {
      "text/html": [
       "<div>\n",
       "<style scoped>\n",
       "    .dataframe tbody tr th:only-of-type {\n",
       "        vertical-align: middle;\n",
       "    }\n",
       "\n",
       "    .dataframe tbody tr th {\n",
       "        vertical-align: top;\n",
       "    }\n",
       "\n",
       "    .dataframe thead th {\n",
       "        text-align: right;\n",
       "    }\n",
       "</style>\n",
       "<table border=\"1\" class=\"dataframe\">\n",
       "  <thead>\n",
       "    <tr style=\"text-align: right;\">\n",
       "      <th></th>\n",
       "      <th>STATION</th>\n",
       "      <th>SOURCE</th>\n",
       "      <th>LATITUDE</th>\n",
       "      <th>LONGITUDE</th>\n",
       "      <th>ELEVATION</th>\n",
       "      <th>VIS_METERS</th>\n",
       "      <th>WND_ANGLE</th>\n",
       "      <th>WND_SPEED</th>\n",
       "      <th>CIG_HEIGHT</th>\n",
       "      <th>TMP_DEG_C</th>\n",
       "      <th>DEW_DEG_C</th>\n",
       "    </tr>\n",
       "    <tr>\n",
       "      <th>DATE</th>\n",
       "      <th></th>\n",
       "      <th></th>\n",
       "      <th></th>\n",
       "      <th></th>\n",
       "      <th></th>\n",
       "      <th></th>\n",
       "      <th></th>\n",
       "      <th></th>\n",
       "      <th></th>\n",
       "      <th></th>\n",
       "      <th></th>\n",
       "    </tr>\n",
       "  </thead>\n",
       "  <tbody>\n",
       "    <tr>\n",
       "      <th>2021-01-01</th>\n",
       "      <td>7.256500e+10</td>\n",
       "      <td>7.0</td>\n",
       "      <td>39.84657</td>\n",
       "      <td>-104.65623</td>\n",
       "      <td>1647.2</td>\n",
       "      <td>16093.0</td>\n",
       "      <td>369.833333</td>\n",
       "      <td>21.291667</td>\n",
       "      <td>11186.083333</td>\n",
       "      <td>-6.916667</td>\n",
       "      <td>-74.541667</td>\n",
       "    </tr>\n",
       "    <tr>\n",
       "      <th>2021-01-02</th>\n",
       "      <td>7.256500e+10</td>\n",
       "      <td>7.0</td>\n",
       "      <td>39.84657</td>\n",
       "      <td>-104.65623</td>\n",
       "      <td>1647.2</td>\n",
       "      <td>16093.0</td>\n",
       "      <td>227.500000</td>\n",
       "      <td>43.958333</td>\n",
       "      <td>21311.916667</td>\n",
       "      <td>0.250000</td>\n",
       "      <td>-88.791667</td>\n",
       "    </tr>\n",
       "    <tr>\n",
       "      <th>2021-01-03</th>\n",
       "      <td>7.256500e+10</td>\n",
       "      <td>7.0</td>\n",
       "      <td>39.84657</td>\n",
       "      <td>-104.65623</td>\n",
       "      <td>1647.2</td>\n",
       "      <td>16093.0</td>\n",
       "      <td>347.791667</td>\n",
       "      <td>42.416667</td>\n",
       "      <td>19311.250000</td>\n",
       "      <td>30.291667</td>\n",
       "      <td>-98.541667</td>\n",
       "    </tr>\n",
       "    <tr>\n",
       "      <th>2021-01-04</th>\n",
       "      <td>7.256500e+10</td>\n",
       "      <td>7.0</td>\n",
       "      <td>39.84657</td>\n",
       "      <td>-104.65623</td>\n",
       "      <td>1647.2</td>\n",
       "      <td>16093.0</td>\n",
       "      <td>221.666667</td>\n",
       "      <td>45.750000</td>\n",
       "      <td>21235.750000</td>\n",
       "      <td>50.916667</td>\n",
       "      <td>-100.000000</td>\n",
       "    </tr>\n",
       "    <tr>\n",
       "      <th>2021-01-05</th>\n",
       "      <td>7.256500e+10</td>\n",
       "      <td>7.0</td>\n",
       "      <td>39.84657</td>\n",
       "      <td>-104.65623</td>\n",
       "      <td>1647.2</td>\n",
       "      <td>16093.0</td>\n",
       "      <td>217.200000</td>\n",
       "      <td>51.440000</td>\n",
       "      <td>17469.840000</td>\n",
       "      <td>46.480000</td>\n",
       "      <td>-76.280000</td>\n",
       "    </tr>\n",
       "  </tbody>\n",
       "</table>\n",
       "</div>"
      ],
      "text/plain": [
       "                 STATION  SOURCE  LATITUDE  LONGITUDE  ELEVATION  VIS_METERS  \\\n",
       "DATE                                                                           \n",
       "2021-01-01  7.256500e+10     7.0  39.84657 -104.65623     1647.2     16093.0   \n",
       "2021-01-02  7.256500e+10     7.0  39.84657 -104.65623     1647.2     16093.0   \n",
       "2021-01-03  7.256500e+10     7.0  39.84657 -104.65623     1647.2     16093.0   \n",
       "2021-01-04  7.256500e+10     7.0  39.84657 -104.65623     1647.2     16093.0   \n",
       "2021-01-05  7.256500e+10     7.0  39.84657 -104.65623     1647.2     16093.0   \n",
       "\n",
       "             WND_ANGLE  WND_SPEED    CIG_HEIGHT  TMP_DEG_C   DEW_DEG_C  \n",
       "DATE                                                                    \n",
       "2021-01-01  369.833333  21.291667  11186.083333  -6.916667  -74.541667  \n",
       "2021-01-02  227.500000  43.958333  21311.916667   0.250000  -88.791667  \n",
       "2021-01-03  347.791667  42.416667  19311.250000  30.291667  -98.541667  \n",
       "2021-01-04  221.666667  45.750000  21235.750000  50.916667 -100.000000  \n",
       "2021-01-05  217.200000  51.440000  17469.840000  46.480000  -76.280000  "
      ]
     },
     "execution_count": 18,
     "metadata": {},
     "output_type": "execute_result"
    }
   ],
   "source": [
    "daily_average.head()"
   ]
  },
  {
   "cell_type": "code",
   "execution_count": null,
   "id": "66513a8d-3e73-40ba-9114-8eebcd7d3e5b",
   "metadata": {},
   "outputs": [],
   "source": []
  }
 ],
 "metadata": {
  "kernelspec": {
   "display_name": "Python 3 (ipykernel)",
   "language": "python",
   "name": "python3"
  },
  "language_info": {
   "codemirror_mode": {
    "name": "ipython",
    "version": 3
   },
   "file_extension": ".py",
   "mimetype": "text/x-python",
   "name": "python",
   "nbconvert_exporter": "python",
   "pygments_lexer": "ipython3",
   "version": "3.10.4"
  }
 },
 "nbformat": 4,
 "nbformat_minor": 5
}
