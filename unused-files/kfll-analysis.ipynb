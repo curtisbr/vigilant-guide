{
 "cells": [
  {
   "cell_type": "code",
   "execution_count": 1,
   "id": "60e14334-1d1b-402b-a66d-b69797798139",
   "metadata": {},
   "outputs": [],
   "source": [
    "import pandas as pd\n",
    "import os\n",
    "import datetime as dt\n",
    "import numpy as np"
   ]
  },
  {
   "cell_type": "code",
   "execution_count": 2,
   "id": "38ad2ab9-6c63-4c22-97fe-99202009412d",
   "metadata": {},
   "outputs": [],
   "source": [
    "airport = 'FLL'\n",
    "station = 74783012849"
   ]
  },
  {
   "cell_type": "markdown",
   "id": "9d748350-44c3-431d-936b-d8c4cac3aaad",
   "metadata": {},
   "source": [
    "# flights"
   ]
  },
  {
   "cell_type": "code",
   "execution_count": 3,
   "id": "cdb0244c-64de-4166-aac6-12814d693f03",
   "metadata": {
    "tags": []
   },
   "outputs": [],
   "source": [
    "root = 'data/kfll/flights/'\n",
    "file_list = []\n",
    "csv_data = []"
   ]
  },
  {
   "cell_type": "code",
   "execution_count": 4,
   "id": "a3d11ac3-340c-41a9-b9cb-ff7ad710b901",
   "metadata": {
    "tags": []
   },
   "outputs": [],
   "source": [
    "for path, subdirs, files in os.walk(root):\n",
    "    for name in files:\n",
    "        if name.endswith('.csv'):\n",
    "            file_list.append(os.path.join(path, name))"
   ]
  },
  {
   "cell_type": "code",
   "execution_count": 5,
   "id": "393048c1-f3d8-4179-bd4a-7e5f0261a5ef",
   "metadata": {
    "tags": []
   },
   "outputs": [],
   "source": [
    "flight_cols = ['Ident', 'Registration', 'Aircraft Type', 'Origin', 'Destination', 'Schedule Block Out', 'Schedule Block In',\n",
    "               'Actual Block Out', 'Actual Block In', 'Actual Departure Time', 'Actual Arrival Time', 'Estimated Arrival Time',\n",
    "               'Enroute Time', 'Delay', 'Cancel', 'Diversion'\n",
    "       ]"
   ]
  },
  {
   "cell_type": "code",
   "execution_count": 6,
   "id": "2bd98c42-74f2-442c-8a8d-ce9d5962304c",
   "metadata": {
    "tags": []
   },
   "outputs": [
    {
     "data": {
      "text/plain": [
       "\"\\nflight_dtypes = {'Marketing_Airline_Network': object,\\n       'Flight_Number_Marketing_Airline': int,\\n       'Tail_Number': object,\\n       'Origin': object,\\n       'Dest': object,\\n       'CRSDepTime': int,\\n       'DepTime': int,\\n       'DepDelay': float,\\n       'TaxiOut': int,\\n       'WheelsOff': int,\\n       'WheelsOn': int,\\n       'TaxiIn': int,\\n       'CRSArrTime': int,\\n       'ArrTime': int,\\n       'ArrDelay': float,\\n        'Cancelled': int,\\n        'CancellationCode': object,\\n        'Diverted': int,\\n        'CarrierDelay': float,\\n        'WeatherDelay': float,\\n        'NASDelay': float,\\n        'SecurityDelay': float,\\n        'LateAircraftDelay': float}\\n        \""
      ]
     },
     "execution_count": 6,
     "metadata": {},
     "output_type": "execute_result"
    }
   ],
   "source": [
    "\"\"\"\n",
    "flight_dtypes = {'Marketing_Airline_Network': object,\n",
    "       'Flight_Number_Marketing_Airline': int,\n",
    "       'Tail_Number': object,\n",
    "       'Origin': object,\n",
    "       'Dest': object,\n",
    "       'CRSDepTime': int,\n",
    "       'DepTime': int,\n",
    "       'DepDelay': float,\n",
    "       'TaxiOut': int,\n",
    "       'WheelsOff': int,\n",
    "       'WheelsOn': int,\n",
    "       'TaxiIn': int,\n",
    "       'CRSArrTime': int,\n",
    "       'ArrTime': int,\n",
    "       'ArrDelay': float,\n",
    "        'Cancelled': int,\n",
    "        'CancellationCode': object,\n",
    "        'Diverted': int,\n",
    "        'CarrierDelay': float,\n",
    "        'WeatherDelay': float,\n",
    "        'NASDelay': float,\n",
    "        'SecurityDelay': float,\n",
    "        'LateAircraftDelay': float}\n",
    "        \"\"\""
   ]
  },
  {
   "cell_type": "code",
   "execution_count": 7,
   "id": "cd1eb5a0-4bb8-4624-9998-df2b1f4f1326",
   "metadata": {},
   "outputs": [
    {
     "name": "stdout",
     "output_type": "stream",
     "text": [
      "['data/kfll/flights/FlightAware_Aersale_KFLL_Sample_2022-11-23 (2).csv']\n"
     ]
    }
   ],
   "source": [
    "print(file_list)"
   ]
  },
  {
   "cell_type": "code",
   "execution_count": 8,
   "id": "bf2e3001-b3b1-40cb-beed-500b7d79dd88",
   "metadata": {},
   "outputs": [],
   "source": [
    "for file in sorted(file_list):\n",
    "    csv_file = pd.read_csv(file, usecols=lambda c: c in flight_cols, parse_dates=['Estimated Arrival Time'], encoding_errors='ignore', index_col=None, header=0, low_memory=False)\n",
    "    csv_data.append(csv_file)"
   ]
  },
  {
   "cell_type": "code",
   "execution_count": 16,
   "id": "a80a743c-40ab-4229-88b7-8b7aa2fb97c4",
   "metadata": {},
   "outputs": [],
   "source": [
    "flights = csv_file"
   ]
  },
  {
   "cell_type": "code",
   "execution_count": 10,
   "id": "640fbba9-b062-491a-bf42-76cd2339a492",
   "metadata": {
    "tags": []
   },
   "outputs": [],
   "source": [
    "#flights = flights[(flights.Dest == airport)]"
   ]
  },
  {
   "cell_type": "code",
   "execution_count": 11,
   "id": "a6e5bbe2-bf56-4967-b27a-f1acf01d0aa5",
   "metadata": {},
   "outputs": [],
   "source": [
    "#flights.CRSArrTime = flights.CRSArrTime.astype(str).str.zfill(4)"
   ]
  },
  {
   "cell_type": "code",
   "execution_count": 12,
   "id": "24d1d1b6-027a-4279-ba8a-ea50ae40986b",
   "metadata": {},
   "outputs": [],
   "source": [
    "#flights.CRSArrTime = pd.to_datetime(flights.CRSArrTime,format= '%H%M' ).dt.time"
   ]
  },
  {
   "cell_type": "code",
   "execution_count": 17,
   "id": "9b79139e-47fc-414f-9041-a7bf42e157c8",
   "metadata": {},
   "outputs": [
    {
     "name": "stdout",
     "output_type": "stream",
     "text": [
      "<class 'pandas.core.frame.DataFrame'>\n",
      "RangeIndex: 534 entries, 0 to 533\n",
      "Data columns (total 15 columns):\n",
      " #   Column                  Non-Null Count  Dtype  \n",
      "---  ------                  --------------  -----  \n",
      " 0   Ident                   534 non-null    object \n",
      " 1   Registration            534 non-null    object \n",
      " 2   Aircraft Type           534 non-null    object \n",
      " 3   Origin                  534 non-null    object \n",
      " 4   Destination             534 non-null    object \n",
      " 5   Schedule Block Out      531 non-null    object \n",
      " 6   Actual Block Out        511 non-null    object \n",
      " 7   Actual Block In         480 non-null    object \n",
      " 8   Actual Departure Time   527 non-null    object \n",
      " 9   Actual Arrival Time     0 non-null      float64\n",
      " 10  Estimated Arrival Time  534 non-null    object \n",
      " 11  Enroute Time            527 non-null    object \n",
      " 12  Delay                   527 non-null    object \n",
      " 13  Cancel                  7 non-null      object \n",
      " 14  Diversion               534 non-null    object \n",
      "dtypes: float64(1), object(14)\n",
      "memory usage: 62.7+ KB\n"
     ]
    }
   ],
   "source": [
    "flights.info()"
   ]
  },
  {
   "cell_type": "code",
   "execution_count": 18,
   "id": "eeecdb8d-a02d-4944-880a-01879fbcd0ae",
   "metadata": {},
   "outputs": [
    {
     "name": "stdout",
     "output_type": "stream",
     "text": [
      "0      11/23/22 15:46\n",
      "1      11/23/22 16:33\n",
      "2      11/23/22 22:18\n",
      "3       11/24/22 1:13\n",
      "4      11/23/22 15:54\n",
      "            ...      \n",
      "529    11/23/22 14:04\n",
      "530     11/23/22 3:11\n",
      "531     11/23/22 3:59\n",
      "532    11/23/22 17:32\n",
      "533    11/23/22 23:04\n",
      "Name: Estimated Arrival Time, Length: 534, dtype: object\n"
     ]
    }
   ],
   "source": [
    "print(flights[\"Estimated Arrival Time\"])"
   ]
  },
  {
   "cell_type": "code",
   "execution_count": 48,
   "id": "d61be3ee-41ae-4f2d-9bb6-b235248c432c",
   "metadata": {},
   "outputs": [],
   "source": [
    "flights[\"Estimated Arrival Time\"] = pd.to_datetime(flights[\"Estimated Arrival Time\"], errors=\"ignore\", format='%m-%d-%Y %H:%M:%S')"
   ]
  },
  {
   "cell_type": "code",
   "execution_count": 49,
   "id": "226555b6-9714-4df0-8307-d3f998d46545",
   "metadata": {},
   "outputs": [
    {
     "name": "stdout",
     "output_type": "stream",
     "text": [
      "0      11/23/22 15:46\n",
      "1      11/23/22 16:33\n",
      "2      11/23/22 22:18\n",
      "3       11/24/22 1:13\n",
      "4      11/23/22 15:54\n",
      "            ...      \n",
      "529    11/23/22 14:04\n",
      "530     11/23/22 3:11\n",
      "531     11/23/22 3:59\n",
      "532    11/23/22 17:32\n",
      "533    11/23/22 23:04\n",
      "Name: Estimated Arrival Time, Length: 534, dtype: object\n"
     ]
    }
   ],
   "source": [
    "print(flights[\"Estimated Arrival Time\"])"
   ]
  },
  {
   "cell_type": "code",
   "execution_count": 25,
   "id": "9155bb40-b7bc-4d38-8c76-cfd9eb3109b3",
   "metadata": {},
   "outputs": [
    {
     "ename": "AttributeError",
     "evalue": "Can only use .dt accessor with datetimelike values",
     "output_type": "error",
     "traceback": [
      "\u001b[1;31m---------------------------------------------------------------------------\u001b[0m",
      "\u001b[1;31mAttributeError\u001b[0m                            Traceback (most recent call last)",
      "Cell \u001b[1;32mIn[25], line 1\u001b[0m\n\u001b[1;32m----> 1\u001b[0m flights[\u001b[38;5;124m\"\u001b[39m\u001b[38;5;124mEstimated Arrival Time\u001b[39m\u001b[38;5;124m\"\u001b[39m] \u001b[38;5;241m=\u001b[39m \u001b[43mflights\u001b[49m\u001b[43m[\u001b[49m\u001b[38;5;124;43m\"\u001b[39;49m\u001b[38;5;124;43mEstimated Arrival Time\u001b[39;49m\u001b[38;5;124;43m\"\u001b[39;49m\u001b[43m]\u001b[49m\u001b[38;5;241;43m.\u001b[39;49m\u001b[43mdt\u001b[49m\u001b[38;5;241m.\u001b[39mtz_localize(\u001b[38;5;124m'\u001b[39m\u001b[38;5;124mUS/East\u001b[39m\u001b[38;5;124m'\u001b[39m, ambiguous\u001b[38;5;241m=\u001b[39mnp\u001b[38;5;241m.\u001b[39marray([\u001b[38;5;28;01mFalse\u001b[39;00m] \u001b[38;5;241m*\u001b[39m flights\u001b[38;5;241m.\u001b[39mshape[\u001b[38;5;241m0\u001b[39m]))\n\u001b[0;32m      2\u001b[0m \u001b[38;5;66;03m# all False -> every row considered DT, alternative is True to indicate DST.\u001b[39;00m\n",
      "File \u001b[1;32m~\\AppData\\Local\\Programs\\Python\\Python311\\Lib\\site-packages\\pandas\\core\\generic.py:5902\u001b[0m, in \u001b[0;36mNDFrame.__getattr__\u001b[1;34m(self, name)\u001b[0m\n\u001b[0;32m   5895\u001b[0m \u001b[38;5;28;01mif\u001b[39;00m (\n\u001b[0;32m   5896\u001b[0m     name \u001b[38;5;129;01mnot\u001b[39;00m \u001b[38;5;129;01min\u001b[39;00m \u001b[38;5;28mself\u001b[39m\u001b[38;5;241m.\u001b[39m_internal_names_set\n\u001b[0;32m   5897\u001b[0m     \u001b[38;5;129;01mand\u001b[39;00m name \u001b[38;5;129;01mnot\u001b[39;00m \u001b[38;5;129;01min\u001b[39;00m \u001b[38;5;28mself\u001b[39m\u001b[38;5;241m.\u001b[39m_metadata\n\u001b[0;32m   5898\u001b[0m     \u001b[38;5;129;01mand\u001b[39;00m name \u001b[38;5;129;01mnot\u001b[39;00m \u001b[38;5;129;01min\u001b[39;00m \u001b[38;5;28mself\u001b[39m\u001b[38;5;241m.\u001b[39m_accessors\n\u001b[0;32m   5899\u001b[0m     \u001b[38;5;129;01mand\u001b[39;00m \u001b[38;5;28mself\u001b[39m\u001b[38;5;241m.\u001b[39m_info_axis\u001b[38;5;241m.\u001b[39m_can_hold_identifiers_and_holds_name(name)\n\u001b[0;32m   5900\u001b[0m ):\n\u001b[0;32m   5901\u001b[0m     \u001b[38;5;28;01mreturn\u001b[39;00m \u001b[38;5;28mself\u001b[39m[name]\n\u001b[1;32m-> 5902\u001b[0m \u001b[38;5;28;01mreturn\u001b[39;00m \u001b[38;5;28;43mobject\u001b[39;49m\u001b[38;5;241;43m.\u001b[39;49m\u001b[38;5;21;43m__getattribute__\u001b[39;49m\u001b[43m(\u001b[49m\u001b[38;5;28;43mself\u001b[39;49m\u001b[43m,\u001b[49m\u001b[43m \u001b[49m\u001b[43mname\u001b[49m\u001b[43m)\u001b[49m\n",
      "File \u001b[1;32m~\\AppData\\Local\\Programs\\Python\\Python311\\Lib\\site-packages\\pandas\\core\\accessor.py:182\u001b[0m, in \u001b[0;36mCachedAccessor.__get__\u001b[1;34m(self, obj, cls)\u001b[0m\n\u001b[0;32m    179\u001b[0m \u001b[38;5;28;01mif\u001b[39;00m obj \u001b[38;5;129;01mis\u001b[39;00m \u001b[38;5;28;01mNone\u001b[39;00m:\n\u001b[0;32m    180\u001b[0m     \u001b[38;5;66;03m# we're accessing the attribute of the class, i.e., Dataset.geo\u001b[39;00m\n\u001b[0;32m    181\u001b[0m     \u001b[38;5;28;01mreturn\u001b[39;00m \u001b[38;5;28mself\u001b[39m\u001b[38;5;241m.\u001b[39m_accessor\n\u001b[1;32m--> 182\u001b[0m accessor_obj \u001b[38;5;241m=\u001b[39m \u001b[38;5;28;43mself\u001b[39;49m\u001b[38;5;241;43m.\u001b[39;49m\u001b[43m_accessor\u001b[49m\u001b[43m(\u001b[49m\u001b[43mobj\u001b[49m\u001b[43m)\u001b[49m\n\u001b[0;32m    183\u001b[0m \u001b[38;5;66;03m# Replace the property with the accessor object. Inspired by:\u001b[39;00m\n\u001b[0;32m    184\u001b[0m \u001b[38;5;66;03m# https://www.pydanny.com/cached-property.html\u001b[39;00m\n\u001b[0;32m    185\u001b[0m \u001b[38;5;66;03m# We need to use object.__setattr__ because we overwrite __setattr__ on\u001b[39;00m\n\u001b[0;32m    186\u001b[0m \u001b[38;5;66;03m# NDFrame\u001b[39;00m\n\u001b[0;32m    187\u001b[0m \u001b[38;5;28mobject\u001b[39m\u001b[38;5;241m.\u001b[39m\u001b[38;5;21m__setattr__\u001b[39m(obj, \u001b[38;5;28mself\u001b[39m\u001b[38;5;241m.\u001b[39m_name, accessor_obj)\n",
      "File \u001b[1;32m~\\AppData\\Local\\Programs\\Python\\Python311\\Lib\\site-packages\\pandas\\core\\indexes\\accessors.py:512\u001b[0m, in \u001b[0;36mCombinedDatetimelikeProperties.__new__\u001b[1;34m(cls, data)\u001b[0m\n\u001b[0;32m    509\u001b[0m \u001b[38;5;28;01melif\u001b[39;00m is_period_dtype(data\u001b[38;5;241m.\u001b[39mdtype):\n\u001b[0;32m    510\u001b[0m     \u001b[38;5;28;01mreturn\u001b[39;00m PeriodProperties(data, orig)\n\u001b[1;32m--> 512\u001b[0m \u001b[38;5;28;01mraise\u001b[39;00m \u001b[38;5;167;01mAttributeError\u001b[39;00m(\u001b[38;5;124m\"\u001b[39m\u001b[38;5;124mCan only use .dt accessor with datetimelike values\u001b[39m\u001b[38;5;124m\"\u001b[39m)\n",
      "\u001b[1;31mAttributeError\u001b[0m: Can only use .dt accessor with datetimelike values"
     ]
    }
   ],
   "source": [
    "flights[\"Estimated Arrival Time\"] = flights[\"Estimated Arrival Time\"].dt.tz_localize('US/East', ambiguous=np.array([False] * flights.shape[0]))\n",
    "# all False -> every row considered DT, alternative is True to indicate DST."
   ]
  },
  {
   "cell_type": "code",
   "execution_count": 14,
   "id": "ca9ec147-f74e-4bbb-92a7-400ef66fe115",
   "metadata": {},
   "outputs": [],
   "source": [
    "flights['CRSArrTimeUTC'] = flights.CRSArrTime.dt.tz_convert('UTC')"
   ]
  },
  {
   "cell_type": "code",
   "execution_count": 15,
   "id": "e61219c1-f8c1-478b-8115-8d4493f4e3cb",
   "metadata": {},
   "outputs": [],
   "source": [
    "# print(flights[['CRSArrTime', 'CRSArrTimeUTC']])"
   ]
  },
  {
   "cell_type": "code",
   "execution_count": 16,
   "id": "97dc8cf6-6ccc-4082-8710-a8ab79aeb6c0",
   "metadata": {},
   "outputs": [],
   "source": [
    "flights = flights.sort_values(by='CRSArrTimeUTC')"
   ]
  },
  {
   "cell_type": "markdown",
   "id": "9d8aba82-2ab9-4e94-ae2c-d558d3c6e098",
   "metadata": {},
   "source": [
    "# weather"
   ]
  },
  {
   "cell_type": "code",
   "execution_count": 34,
   "id": "ad5f1f33-69e0-4493-b2ee-e05b303277bd",
   "metadata": {},
   "outputs": [],
   "source": [
    "root = 'data/kfll/weather/'\n",
    "file_list = []\n",
    "csv_data = []"
   ]
  },
  {
   "cell_type": "code",
   "execution_count": 35,
   "id": "68f87620-e0b7-4a0b-8366-a1fc850a153c",
   "metadata": {},
   "outputs": [],
   "source": [
    "weather_cols = [\n",
    "    'DATE',\n",
    "    'REPORT_TYPE',\n",
    "    'CALL_SIGN',\n",
    "    'VIS',\n",
    "    'REM']"
   ]
  },
  {
   "cell_type": "code",
   "execution_count": 36,
   "id": "e313c506-fcd5-4321-9966-6f7ed1b44e0e",
   "metadata": {},
   "outputs": [],
   "source": [
    "for path, subdirs, files in os.walk(root):\n",
    "    for name in files:\n",
    "        if name.endswith('.csv'):\n",
    "            file_list.append(os.path.join(path, name))"
   ]
  },
  {
   "cell_type": "code",
   "execution_count": 37,
   "id": "e69f8d43-db60-4eb0-9639-45f829478c45",
   "metadata": {},
   "outputs": [],
   "source": [
    "for file in sorted(file_list):\n",
    "    csv_file = pd.read_csv(file, usecols=lambda c: c in weather_cols, parse_dates=['DATE'], encoding_errors='ignore', index_col=None, header=0, low_memory=False)\n",
    "    csv_data.append(csv_file)"
   ]
  },
  {
   "cell_type": "code",
   "execution_count": 38,
   "id": "a768b0ca-8f41-43ed-891c-71e1d180eb87",
   "metadata": {},
   "outputs": [],
   "source": [
    "weather = pd.concat(csv_data, ignore_index=True)"
   ]
  },
  {
   "cell_type": "code",
   "execution_count": 39,
   "id": "f43341ad-b9f6-40ec-add3-69ddf8f12e35",
   "metadata": {},
   "outputs": [],
   "source": [
    "weather = weather[(weather.REPORT_TYPE == 'FM-15') | (weather.REPORT_TYPE == 'FM-16')]"
   ]
  },
  {
   "cell_type": "code",
   "execution_count": 40,
   "id": "8756e780-7304-423f-bffc-ad252ce867c5",
   "metadata": {},
   "outputs": [],
   "source": [
    "weather = pd.concat([weather, weather.VIS.str.split(',', expand=True)], axis=1)\n",
    "weather = weather.rename(columns={0: 'VIS_METERS', 1: 'VIS_Q', 2: 'VIS_V', 3: 'VIS_QV'})\n",
    "weather = weather.drop(columns={'VIS', 'VIS_Q', 'VIS_QV'})\n",
    "weather.VIS_METERS = pd.to_numeric(weather.VIS_METERS)"
   ]
  },
  {
   "cell_type": "code",
   "execution_count": 41,
   "id": "37244b68-b361-4fb4-8339-55be2deb455a",
   "metadata": {},
   "outputs": [],
   "source": [
    "weather.DATE = pd.to_datetime(weather.DATE, utc='True')"
   ]
  },
  {
   "cell_type": "code",
   "execution_count": 42,
   "id": "5f6a624b-0908-4dba-94eb-63d6b9dcf5f5",
   "metadata": {},
   "outputs": [],
   "source": [
    "weather = weather[['DATE', 'VIS_METERS', 'REM']]"
   ]
  },
  {
   "cell_type": "code",
   "execution_count": 44,
   "id": "206002da-295b-48f2-8592-d49b89cf24a3",
   "metadata": {},
   "outputs": [
    {
     "name": "stdout",
     "output_type": "stream",
     "text": [
      "0      2022-01-01 00:53:00+00:00\n",
      "1      2022-01-01 01:53:00+00:00\n",
      "2      2022-01-01 02:53:00+00:00\n",
      "3      2022-01-01 03:53:00+00:00\n",
      "4      2022-01-01 04:53:00+00:00\n",
      "                  ...           \n",
      "9976   2022-12-12 04:53:00+00:00\n",
      "9978   2022-12-12 05:53:00+00:00\n",
      "9979   2022-12-12 06:53:00+00:00\n",
      "9980   2022-12-12 07:53:00+00:00\n",
      "9981   2022-12-12 08:53:00+00:00\n",
      "Name: DATE, Length: 9626, dtype: datetime64[ns, UTC]\n"
     ]
    }
   ],
   "source": [
    "print(weather.DATE)"
   ]
  },
  {
   "cell_type": "markdown",
   "id": "43e07563-5ce8-4df9-8b34-87856e08453c",
   "metadata": {},
   "source": [
    "# merge flights & weather"
   ]
  },
  {
   "cell_type": "code",
   "execution_count": 26,
   "id": "5fa7dc0b-17b5-4b85-a641-e07a0ce534c8",
   "metadata": {},
   "outputs": [],
   "source": [
    "data = pd.merge_asof(left=flights, right=weather, left_on='CRSArrTimeUTC', right_on='DATE', direction='nearest')"
   ]
  },
  {
   "cell_type": "code",
   "execution_count": 27,
   "id": "ead50b9c-9412-4947-b0fa-7ef8a16791e4",
   "metadata": {},
   "outputs": [
    {
     "name": "stdout",
     "output_type": "stream",
     "text": [
      "<class 'pandas.core.frame.DataFrame'>\n",
      "Int64Index: 274216 entries, 0 to 274215\n",
      "Data columns (total 29 columns):\n",
      " #   Column                           Non-Null Count   Dtype                      \n",
      "---  ------                           --------------   -----                      \n",
      " 0   FlightDate                       274216 non-null  datetime64[ns]             \n",
      " 1   Marketing_Airline_Network        274216 non-null  object                     \n",
      " 2   Flight_Number_Marketing_Airline  274216 non-null  int64                      \n",
      " 3   Tail_Number                      273016 non-null  object                     \n",
      " 4   Origin                           274216 non-null  object                     \n",
      " 5   Dest                             274216 non-null  object                     \n",
      " 6   CRSDepTime                       274216 non-null  int64                      \n",
      " 7   DepTime                          271876 non-null  float64                    \n",
      " 8   DepDelay                         271866 non-null  float64                    \n",
      " 9   TaxiOut                          271819 non-null  float64                    \n",
      " 10  WheelsOff                        271819 non-null  float64                    \n",
      " 11  WheelsOn                         271798 non-null  float64                    \n",
      " 12  TaxiIn                           271798 non-null  float64                    \n",
      " 13  CRSArrTime                       274216 non-null  datetime64[ns, US/Mountain]\n",
      " 14  ArrTime                          271798 non-null  float64                    \n",
      " 15  ArrDelay                         271007 non-null  float64                    \n",
      " 16  Cancelled                        274216 non-null  float64                    \n",
      " 17  CancellationCode                 2401 non-null    object                     \n",
      " 18  Diverted                         274216 non-null  float64                    \n",
      " 19  AirTime                          271007 non-null  float64                    \n",
      " 20  CarrierDelay                     45432 non-null   float64                    \n",
      " 21  WeatherDelay                     45432 non-null   float64                    \n",
      " 22  NASDelay                         45432 non-null   float64                    \n",
      " 23  SecurityDelay                    45432 non-null   float64                    \n",
      " 24  LateAircraftDelay                45432 non-null   float64                    \n",
      " 25  CRSArrTimeUTC                    274216 non-null  datetime64[ns, UTC]        \n",
      " 26  DATE                             274216 non-null  datetime64[ns, UTC]        \n",
      " 27  VIS_METERS                       274216 non-null  int64                      \n",
      " 28  REM                              274216 non-null  object                     \n",
      "dtypes: datetime64[ns, US/Mountain](1), datetime64[ns, UTC](2), datetime64[ns](1), float64(16), int64(3), object(6)\n",
      "memory usage: 62.8+ MB\n"
     ]
    }
   ],
   "source": [
    "data.info()"
   ]
  },
  {
   "cell_type": "code",
   "execution_count": 28,
   "id": "9df56ef6-688b-4d66-92c6-2f6d80cfefcd",
   "metadata": {},
   "outputs": [],
   "source": [
    "data.to_csv('outputs/test.csv')"
   ]
  }
 ],
 "metadata": {
  "kernelspec": {
   "display_name": "Python 3 (ipykernel)",
   "language": "python",
   "name": "python3"
  },
  "language_info": {
   "codemirror_mode": {
    "name": "ipython",
    "version": 3
   },
   "file_extension": ".py",
   "mimetype": "text/x-python",
   "name": "python",
   "nbconvert_exporter": "python",
   "pygments_lexer": "ipython3",
   "version": "3.11.1"
  }
 },
 "nbformat": 4,
 "nbformat_minor": 5
}
