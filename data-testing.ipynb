{
 "cells": [
  {
   "cell_type": "code",
   "execution_count": 1,
   "id": "6dfb07a7-6b4b-4113-b2b9-612426f0ece7",
   "metadata": {},
   "outputs": [],
   "source": [
    "import pandas as pd\n",
    "import tarfile"
   ]
  },
  {
   "cell_type": "code",
   "execution_count": 2,
   "id": "60578f0a-65ac-44d3-8354-f01333d72221",
   "metadata": {},
   "outputs": [],
   "source": [
    "weather_cols = [\n",
    "    'DATE',\n",
    "    'REPORT_TYPE',\n",
    "    'CALL_SIGN',\n",
    "    'VIS',\n",
    "    'REM']"
   ]
  },
  {
   "cell_type": "raw",
   "id": "9f7b4c71-bdfe-45d9-ae63-b5dee42ff04e",
   "metadata": {},
   "source": [
    "df = pd.read_csv('raw-data/2017.tar.gz', compression='gzip')"
   ]
  },
  {
   "cell_type": "code",
   "execution_count": 3,
   "id": "0749502f-02ee-4448-b2ed-7aa2c522fe18",
   "metadata": {},
   "outputs": [],
   "source": [
    "with tarfile.open('raw-data/2017.tar.gz', \"r:*\") as tar:\n",
    "    csv_path = '72565003017.csv'\n",
    "    df = pd.read_csv(tar.extractfile(csv_path),\n",
    "                     usecols=lambda c: c in weather_cols,\n",
    "                     parse_dates=['DATE'], encoding_errors='ignore', \n",
    "                     index_col=None, \n",
    "                     header=0, \n",
    "                     low_memory=False)"
   ]
  },
  {
   "cell_type": "code",
   "execution_count": 4,
   "id": "045cec27-2b37-4e86-a2de-9d0cc25b8a29",
   "metadata": {},
   "outputs": [
    {
     "name": "stdout",
     "output_type": "stream",
     "text": [
      "<class 'pandas.core.frame.DataFrame'>\n",
      "RangeIndex: 13891 entries, 0 to 13890\n",
      "Data columns (total 5 columns):\n",
      " #   Column       Non-Null Count  Dtype         \n",
      "---  ------       --------------  -----         \n",
      " 0   DATE         13891 non-null  datetime64[ns]\n",
      " 1   REPORT_TYPE  13891 non-null  object        \n",
      " 2   CALL_SIGN    13891 non-null  object        \n",
      " 3   VIS          13891 non-null  object        \n",
      " 4   REM          13890 non-null  object        \n",
      "dtypes: datetime64[ns](1), object(4)\n",
      "memory usage: 542.7+ KB\n"
     ]
    }
   ],
   "source": [
    "df.info()"
   ]
  },
  {
   "cell_type": "code",
   "execution_count": 5,
   "id": "eb9353b4-c827-43c7-ad96-9b8ed8ec9f0d",
   "metadata": {},
   "outputs": [
    {
     "data": {
      "text/html": [
       "<div>\n",
       "<style scoped>\n",
       "    .dataframe tbody tr th:only-of-type {\n",
       "        vertical-align: middle;\n",
       "    }\n",
       "\n",
       "    .dataframe tbody tr th {\n",
       "        vertical-align: top;\n",
       "    }\n",
       "\n",
       "    .dataframe thead th {\n",
       "        text-align: right;\n",
       "    }\n",
       "</style>\n",
       "<table border=\"1\" class=\"dataframe\">\n",
       "  <thead>\n",
       "    <tr style=\"text-align: right;\">\n",
       "      <th></th>\n",
       "      <th>DATE</th>\n",
       "      <th>REPORT_TYPE</th>\n",
       "      <th>CALL_SIGN</th>\n",
       "      <th>VIS</th>\n",
       "      <th>REM</th>\n",
       "    </tr>\n",
       "  </thead>\n",
       "  <tbody>\n",
       "    <tr>\n",
       "      <th>0</th>\n",
       "      <td>2017-01-01 00:00:00</td>\n",
       "      <td>FM-12</td>\n",
       "      <td>99999</td>\n",
       "      <td>016000,1,9,9</td>\n",
       "      <td>SYN08072565 32966 20306 11011 21061 38253 4008...</td>\n",
       "    </tr>\n",
       "    <tr>\n",
       "      <th>1</th>\n",
       "      <td>2017-01-01 00:53:00</td>\n",
       "      <td>FM-15</td>\n",
       "      <td>KDEN</td>\n",
       "      <td>016093,5,N,5</td>\n",
       "      <td>MET10112/31/16 17:53:03 METAR KDEN 010053Z 020...</td>\n",
       "    </tr>\n",
       "    <tr>\n",
       "      <th>2</th>\n",
       "      <td>2017-01-01 01:53:00</td>\n",
       "      <td>FM-15</td>\n",
       "      <td>KDEN</td>\n",
       "      <td>016093,5,N,5</td>\n",
       "      <td>MET09812/31/16 18:53:03 METAR KDEN 010153Z 010...</td>\n",
       "    </tr>\n",
       "    <tr>\n",
       "      <th>3</th>\n",
       "      <td>2017-01-01 02:53:00</td>\n",
       "      <td>FM-15</td>\n",
       "      <td>KDEN</td>\n",
       "      <td>016093,5,N,5</td>\n",
       "      <td>MET10412/31/16 19:53:03 METAR KDEN 010253Z 000...</td>\n",
       "    </tr>\n",
       "    <tr>\n",
       "      <th>4</th>\n",
       "      <td>2017-01-01 03:00:00</td>\n",
       "      <td>FM-12</td>\n",
       "      <td>99999</td>\n",
       "      <td>016000,1,9,9</td>\n",
       "      <td>SYN06472565 32966 00000 11028 21072 38259 4010...</td>\n",
       "    </tr>\n",
       "  </tbody>\n",
       "</table>\n",
       "</div>"
      ],
      "text/plain": [
       "                 DATE REPORT_TYPE CALL_SIGN           VIS  \\\n",
       "0 2017-01-01 00:00:00       FM-12     99999  016000,1,9,9   \n",
       "1 2017-01-01 00:53:00       FM-15     KDEN   016093,5,N,5   \n",
       "2 2017-01-01 01:53:00       FM-15     KDEN   016093,5,N,5   \n",
       "3 2017-01-01 02:53:00       FM-15     KDEN   016093,5,N,5   \n",
       "4 2017-01-01 03:00:00       FM-12     99999  016000,1,9,9   \n",
       "\n",
       "                                                 REM  \n",
       "0  SYN08072565 32966 20306 11011 21061 38253 4008...  \n",
       "1  MET10112/31/16 17:53:03 METAR KDEN 010053Z 020...  \n",
       "2  MET09812/31/16 18:53:03 METAR KDEN 010153Z 010...  \n",
       "3  MET10412/31/16 19:53:03 METAR KDEN 010253Z 000...  \n",
       "4  SYN06472565 32966 00000 11028 21072 38259 4010...  "
      ]
     },
     "execution_count": 5,
     "metadata": {},
     "output_type": "execute_result"
    }
   ],
   "source": [
    "df.head()"
   ]
  },
  {
   "cell_type": "code",
   "execution_count": 6,
   "id": "b077c154-8355-4ba8-beed-d51f3af9be36",
   "metadata": {},
   "outputs": [
    {
     "data": {
      "text/plain": [
       "(13891, 5)"
      ]
     },
     "execution_count": 6,
     "metadata": {},
     "output_type": "execute_result"
    }
   ],
   "source": [
    "df.shape"
   ]
  },
  {
   "cell_type": "code",
   "execution_count": 7,
   "id": "2381bb0f-2acb-4216-86bf-e7b5926989b9",
   "metadata": {},
   "outputs": [],
   "source": [
    "df.to_csv('outputs/weather-test.csv')"
   ]
  }
 ],
 "metadata": {
  "kernelspec": {
   "display_name": "Python 3 (ipykernel)",
   "language": "python",
   "name": "python3"
  },
  "language_info": {
   "codemirror_mode": {
    "name": "ipython",
    "version": 3
   },
   "file_extension": ".py",
   "mimetype": "text/x-python",
   "name": "python",
   "nbconvert_exporter": "python",
   "pygments_lexer": "ipython3",
   "version": "3.11.1"
  }
 },
 "nbformat": 4,
 "nbformat_minor": 5
}
