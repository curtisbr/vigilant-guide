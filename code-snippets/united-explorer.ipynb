{
 "cells": [
  {
   "cell_type": "markdown",
   "id": "b501414d-70ca-4bf6-94c4-e78468bd65ef",
   "metadata": {},
   "source": [
    "# UNITED AIRLINES DATA EXPLORER"
   ]
  },
  {
   "cell_type": "code",
   "execution_count": 1,
   "id": "052c9924-1ed0-4c5a-b833-8265575ae92a",
   "metadata": {},
   "outputs": [],
   "source": [
    "import pandas as pd"
   ]
  },
  {
   "cell_type": "markdown",
   "id": "04008232-9d80-456c-b075-278d4173648a",
   "metadata": {},
   "source": [
    "**LOAD NOAA STATION METARS. CSV FILE IS ALREADY PRE-FILTERED FOR STATIONIDS THAT ARE IN UNITED'S REPORT**"
   ]
  },
  {
   "cell_type": "code",
   "execution_count": 2,
   "id": "7554314d-2610-4ad5-b39a-9a88eea94b3c",
   "metadata": {},
   "outputs": [],
   "source": [
    "metar = pd.read_csv('data/united/united-metar-data.csv', dtype={0: str})\n",
    "\n",
    "metar['DATE'] = pd.to_datetime(metar['DATE'], utc='True')\n",
    "\n",
    "metar['STATION'] = metar['STATION'].str.zfill(11)\n",
    "\n",
    "metar = metar.sort_values(by='DATE')\n",
    "\n",
    "metar = pd.concat([metar, metar.VIS.str.split(',', expand=True)], axis=1)\n",
    "metar = metar.drop([1, 2, 3], axis=1)\n",
    "\n",
    "metar = metar.rename(\n",
    "    columns={\n",
    "        0: 'VIS_METERS'})\n",
    "\n",
    "metar.VIS_METERS = pd.to_numeric(metar.VIS_METERS)\n",
    "\n",
    "metar = metar.drop(columns=['WND', 'CIG', 'VIS', 'TMP', 'DEW', 'SLP'])"
   ]
  },
  {
   "cell_type": "code",
   "execution_count": 3,
   "id": "cb2680ba-1ecb-4a84-b9ab-dd7914fa4a2a",
   "metadata": {},
   "outputs": [
    {
     "name": "stdout",
     "output_type": "stream",
     "text": [
      "<class 'pandas.core.frame.DataFrame'>\n",
      "Int64Index: 4388321 entries, 530059 to 3809503\n",
      "Data columns (total 5 columns):\n",
      " #   Column       Dtype              \n",
      "---  ------       -----              \n",
      " 0   STATION      object             \n",
      " 1   DATE         datetime64[ns, UTC]\n",
      " 2   REPORT_TYPE  object             \n",
      " 3   REM          object             \n",
      " 4   VIS_METERS   int64              \n",
      "dtypes: datetime64[ns, UTC](1), int64(1), object(3)\n",
      "memory usage: 200.9+ MB\n"
     ]
    }
   ],
   "source": [
    "metar.info()"
   ]
  },
  {
   "cell_type": "markdown",
   "id": "3db6ddcb-41be-4839-a006-42fc63f0e6da",
   "metadata": {},
   "source": [
    "**LOAD CROSS REFERENCE OF AIRPORT CODES & STATIONID THAT OCCUR IN UNITED DATA**"
   ]
  },
  {
   "cell_type": "code",
   "execution_count": 4,
   "id": "6cc16720-1e4b-463d-8ab5-022db5735d9e",
   "metadata": {
    "tags": []
   },
   "outputs": [
    {
     "name": "stdout",
     "output_type": "stream",
     "text": [
      "<class 'pandas.core.frame.DataFrame'>\n",
      "RangeIndex: 184 entries, 0 to 183\n",
      "Data columns (total 2 columns):\n",
      " #   Column   Non-Null Count  Dtype \n",
      "---  ------   --------------  ----- \n",
      " 0   AIRPORT  184 non-null    object\n",
      " 1   STATION  184 non-null    object\n",
      "dtypes: object(2)\n",
      "memory usage: 3.0+ KB\n"
     ]
    }
   ],
   "source": [
    "stations = pd.read_csv('data/united/station-list.csv', header=None, dtype={0: str, 1: str}, names=['AIRPORT', 'STATION'])\n",
    "\n",
    "stations['STATION'] = stations['STATION'].str.zfill(11)\n",
    "\n",
    "stations.info()"
   ]
  },
  {
   "cell_type": "markdown",
   "id": "a0644e95-d87d-4ebd-97d0-8998b55bc12c",
   "metadata": {},
   "source": [
    "**LOAD UNITED FLIGHT DATA**"
   ]
  },
  {
   "cell_type": "code",
   "execution_count": 5,
   "id": "2d3401f5-70de-4347-85b6-c10acaad4cdf",
   "metadata": {},
   "outputs": [],
   "source": [
    "flights = pd.read_csv('data/united/united-flights.csv')"
   ]
  },
  {
   "cell_type": "code",
   "execution_count": 6,
   "id": "bea71454-778d-4b02-bfe1-a55118d5ac4b",
   "metadata": {},
   "outputs": [],
   "source": [
    "flights['DEST'] = flights['DEST'].str.replace(' ', '')\n",
    "\n",
    "flights['ORIGIN'] = flights['ORIGIN'].str.replace(' ', '')\n",
    "\n",
    "flights = flights.rename(columns={'Unnamed: 0': 'INDEX'})"
   ]
  },
  {
   "cell_type": "code",
   "execution_count": 7,
   "id": "2f0ef96b-d197-4a02-b3f2-86e6c8b32e1d",
   "metadata": {},
   "outputs": [],
   "source": [
    "flights['DESTOBSERVATIONTIME'] = pd.to_datetime(flights['DESTOBSERVATIONTIME'], utc='True', errors='coerce')\n",
    "\n",
    "flights['ORIGINOBSERVATIONTIME'] = pd.to_datetime(flights['ORIGINOBSERVATIONTIME'], utc='True', errors='coerce')\n",
    "\n",
    "flights['DEPARTUREDATE_ZULU'] = pd.to_datetime(flights['DEPARTUREDATE_ZULU'], utc='True', errors='coerce')\n",
    "\n",
    "flights['ARRIVALDATE_ZULU'] = pd.to_datetime(flights['ARRIVALDATE_ZULU'], utc='True', errors='coerce')\n",
    "\n",
    "flights['OUT_ZULU'] = pd.to_datetime(flights['OUT_ZULU'], utc='True', errors='coerce')\n",
    "\n",
    "flights['IN_ZULU'] = pd.to_datetime(flights['IN_ZULU'], utc='True', errors='coerce')"
   ]
  },
  {
   "cell_type": "code",
   "execution_count": 8,
   "id": "5528e2bb-a58a-4fa5-883a-6583d5078e87",
   "metadata": {},
   "outputs": [
    {
     "name": "stdout",
     "output_type": "stream",
     "text": [
      "<class 'pandas.core.frame.DataFrame'>\n",
      "RangeIndex: 5769 entries, 0 to 5768\n",
      "Data columns (total 11 columns):\n",
      " #   Column                 Non-Null Count  Dtype              \n",
      "---  ------                 --------------  -----              \n",
      " 0   INDEX                  5769 non-null   int64              \n",
      " 1   FLIGHTDATE             5769 non-null   int64              \n",
      " 2   FLIGHTNO               5769 non-null   int64              \n",
      " 3   ORIGIN                 5769 non-null   object             \n",
      " 4   DEST                   5769 non-null   object             \n",
      " 5   DEPARTUREDATE_ZULU     5769 non-null   datetime64[ns, UTC]\n",
      " 6   ARRIVALDATE_ZULU       5769 non-null   datetime64[ns, UTC]\n",
      " 7   ORIGINOBSERVATIONTIME  5593 non-null   datetime64[ns, UTC]\n",
      " 8   DESTOBSERVATIONTIME    5769 non-null   datetime64[ns, UTC]\n",
      " 9   OUT_ZULU               5764 non-null   datetime64[ns, UTC]\n",
      " 10  IN_ZULU                5745 non-null   datetime64[ns, UTC]\n",
      "dtypes: datetime64[ns, UTC](6), int64(3), object(2)\n",
      "memory usage: 495.9+ KB\n"
     ]
    }
   ],
   "source": [
    "flights.info()"
   ]
  },
  {
   "cell_type": "markdown",
   "id": "7f02c544-2c94-4a4f-9ec7-aefa6f6e71d0",
   "metadata": {},
   "source": [
    "**CROSS REFERENCE AIRPORT CODE AND MERGE STATIONID INTO DATAFRAME**"
   ]
  },
  {
   "cell_type": "code",
   "execution_count": 9,
   "id": "f406a39b-c48c-400c-af4d-33332d5adb47",
   "metadata": {},
   "outputs": [],
   "source": [
    "flights = pd.merge(flights, stations, how='left', left_on=['DEST'], right_on=['AIRPORT'])"
   ]
  },
  {
   "cell_type": "code",
   "execution_count": 10,
   "id": "e16eddae-1510-4440-8fcb-cfd7de68d83f",
   "metadata": {},
   "outputs": [],
   "source": [
    "flights = flights.rename(\n",
    "    columns={\n",
    "        'STATION': 'DEST_STATION'})\n",
    "\n",
    "flights = flights.drop(columns=['AIRPORT'])\n",
    "\n",
    "flights = pd.merge(flights, stations, how='left', left_on=['ORIGIN'], right_on=['AIRPORT'])\n",
    "\n",
    "flights = flights.drop(columns=['AIRPORT'])\n",
    "\n",
    "flights = flights.rename(\n",
    "    columns={\n",
    "        'STATION': 'ORIGIN_STATION'})"
   ]
  },
  {
   "cell_type": "code",
   "execution_count": 11,
   "id": "80e68809-7f9e-403d-9035-2bc44485b3ae",
   "metadata": {},
   "outputs": [
    {
     "name": "stdout",
     "output_type": "stream",
     "text": [
      "<class 'pandas.core.frame.DataFrame'>\n",
      "Int64Index: 5769 entries, 0 to 5768\n",
      "Data columns (total 13 columns):\n",
      " #   Column                 Non-Null Count  Dtype              \n",
      "---  ------                 --------------  -----              \n",
      " 0   INDEX                  5769 non-null   int64              \n",
      " 1   FLIGHTDATE             5769 non-null   int64              \n",
      " 2   FLIGHTNO               5769 non-null   int64              \n",
      " 3   ORIGIN                 5769 non-null   object             \n",
      " 4   DEST                   5769 non-null   object             \n",
      " 5   DEPARTUREDATE_ZULU     5769 non-null   datetime64[ns, UTC]\n",
      " 6   ARRIVALDATE_ZULU       5769 non-null   datetime64[ns, UTC]\n",
      " 7   ORIGINOBSERVATIONTIME  5593 non-null   datetime64[ns, UTC]\n",
      " 8   DESTOBSERVATIONTIME    5769 non-null   datetime64[ns, UTC]\n",
      " 9   OUT_ZULU               5764 non-null   datetime64[ns, UTC]\n",
      " 10  IN_ZULU                5745 non-null   datetime64[ns, UTC]\n",
      " 11  DEST_STATION           5769 non-null   object             \n",
      " 12  ORIGIN_STATION         5769 non-null   object             \n",
      "dtypes: datetime64[ns, UTC](6), int64(3), object(4)\n",
      "memory usage: 631.0+ KB\n"
     ]
    }
   ],
   "source": [
    "flights.info()"
   ]
  },
  {
   "cell_type": "markdown",
   "id": "c5f6c0e9-0486-4791-b925-9eed333f2053",
   "metadata": {},
   "source": [
    "**CREATE NEW DATAFRAMES FOR EACH TIMESTAMP COLUMN. PRESERVE INDEX.**"
   ]
  },
  {
   "cell_type": "code",
   "execution_count": 12,
   "id": "b2c7f8c0-eafb-4f6f-a20f-44c23a893138",
   "metadata": {},
   "outputs": [],
   "source": [
    "ddz = flights[['INDEX', 'FLIGHTDATE', 'FLIGHTNO', 'ORIGIN', 'ORIGIN_STATION', 'DEPARTUREDATE_ZULU']]\n",
    "#ddz.info()\n",
    "\n",
    "ddz = ddz.dropna(subset=['DEPARTUREDATE_ZULU'])\n",
    "ddz = ddz.sort_values(by='DEPARTUREDATE_ZULU')\n",
    "#ddz.shape"
   ]
  },
  {
   "cell_type": "code",
   "execution_count": 13,
   "id": "1fbf04e2-f2af-4312-a53e-5ebf0110f947",
   "metadata": {},
   "outputs": [],
   "source": [
    "adz = flights[['INDEX', 'FLIGHTDATE', 'FLIGHTNO', 'DEST', 'DEST_STATION', 'ARRIVALDATE_ZULU']]\n",
    "#adz.info()\n",
    "\n",
    "adz = adz.dropna(subset='ARRIVALDATE_ZULU')\n",
    "adz = adz.sort_values(by='ARRIVALDATE_ZULU')\n",
    "#adz.shape"
   ]
  },
  {
   "cell_type": "code",
   "execution_count": 14,
   "id": "a377e37b-c49c-449b-ad40-1246f3c9a65f",
   "metadata": {},
   "outputs": [],
   "source": [
    "oot = flights[['INDEX', 'FLIGHTDATE', 'FLIGHTNO', 'ORIGIN', 'ORIGIN_STATION', 'ORIGINOBSERVATIONTIME']]\n",
    "#oot.info()\n",
    "\n",
    "oot = oot.dropna(subset='ORIGINOBSERVATIONTIME')\n",
    "oot = oot.sort_values(by='ORIGINOBSERVATIONTIME')\n",
    "#oot.shape"
   ]
  },
  {
   "cell_type": "code",
   "execution_count": 15,
   "id": "f0135d49-792c-44b1-b35e-96c58239febd",
   "metadata": {},
   "outputs": [],
   "source": [
    "dot = flights[['INDEX', 'FLIGHTDATE', 'FLIGHTNO', 'DEST', 'DEST_STATION', 'DESTOBSERVATIONTIME']]\n",
    "#dot.info()\n",
    "\n",
    "dot = dot.dropna(subset='DESTOBSERVATIONTIME')\n",
    "dot = dot.sort_values(by='DESTOBSERVATIONTIME')\n",
    "#dot.shape"
   ]
  },
  {
   "cell_type": "code",
   "execution_count": 16,
   "id": "9300d274-804f-4261-bc3d-51ac83d404af",
   "metadata": {
    "tags": []
   },
   "outputs": [],
   "source": [
    "otz = flights[['INDEX', 'FLIGHTDATE', 'FLIGHTNO', 'ORIGIN', 'ORIGIN_STATION', 'OUT_ZULU']]\n",
    "#otz.info()\n",
    "\n",
    "otz = otz.dropna(subset='OUT_ZULU')\n",
    "otz = otz.sort_values(by='OUT_ZULU')\n",
    "#otz.shape"
   ]
  },
  {
   "cell_type": "code",
   "execution_count": 17,
   "id": "ce196acf-1c96-4149-94b6-dc2ead4e464f",
   "metadata": {},
   "outputs": [],
   "source": [
    "inz = flights[['INDEX', 'FLIGHTDATE', 'FLIGHTNO', 'DEST', 'DEST_STATION', 'IN_ZULU']]\n",
    "#inz.info()\n",
    "\n",
    "inz = inz.dropna(subset='IN_ZULU')\n",
    "inz = inz.sort_values(by='IN_ZULU')\n",
    "#inz.shape"
   ]
  },
  {
   "cell_type": "markdown",
   "id": "2cba8ad0-8186-4da2-a1c2-832433c07e74",
   "metadata": {
    "tags": []
   },
   "source": [
    "**MERGE METAR DATA BY: 'DESTOBSERVATIONTIME'**"
   ]
  },
  {
   "cell_type": "code",
   "execution_count": 18,
   "id": "c0fcd07f-12b0-4c8b-a30f-34d231407125",
   "metadata": {},
   "outputs": [],
   "source": [
    "dot1 = pd.merge_asof(\n",
    "    left=dot, \n",
    "    right=metar, \n",
    "    left_on='DESTOBSERVATIONTIME', \n",
    "    right_on='DATE', \n",
    "    direction='nearest', \n",
    "    left_by='DEST_STATION', \n",
    "    right_by='STATION')\n",
    "\n",
    "dot1 = dot1.rename(\n",
    "    columns={\n",
    "        'REM': 'DEST_UA_OBS'})"
   ]
  },
  {
   "cell_type": "markdown",
   "id": "8436106b-d30d-4345-9705-42c7cce30f51",
   "metadata": {},
   "source": [
    "**MERGE METAR DATA BY 'ORIGINOBSERVATIONTIME'**"
   ]
  },
  {
   "cell_type": "code",
   "execution_count": 19,
   "id": "54f71cd8-041a-42d1-a7b9-ca6e51407716",
   "metadata": {},
   "outputs": [],
   "source": [
    "oot1 = pd.merge_asof(\n",
    "    left=oot, \n",
    "    right=metar, \n",
    "    left_on='ORIGINOBSERVATIONTIME', \n",
    "    right_on='DATE', \n",
    "    direction='nearest', \n",
    "    left_by='ORIGIN_STATION', \n",
    "    right_by='STATION')\n",
    "\n",
    "oot1 = oot1.rename(\n",
    "    columns={\n",
    "        'REM': 'ORIGIN_UA_OBS'})"
   ]
  },
  {
   "cell_type": "markdown",
   "id": "ff8177fd-2b39-403b-9efd-023ab2eac3ef",
   "metadata": {},
   "source": [
    "**MERGE METAR DATA BY 'DEPARTUREDATE_ZULU'**"
   ]
  },
  {
   "cell_type": "code",
   "execution_count": 20,
   "id": "1416c838-d070-45b6-a134-19250376d72d",
   "metadata": {},
   "outputs": [],
   "source": [
    "ddz1 = pd.merge_asof(\n",
    "    left=ddz, \n",
    "    right=metar, \n",
    "    left_on='DEPARTUREDATE_ZULU', \n",
    "    right_on='DATE', \n",
    "    direction='nearest', \n",
    "    left_by='ORIGIN_STATION', \n",
    "    right_by='STATION')\n",
    "\n",
    "ddz1 = ddz1.rename(\n",
    "    columns={\n",
    "        'REM': 'SCH_DEPARTURE'})"
   ]
  },
  {
   "cell_type": "markdown",
   "id": "137fdb3e-7e69-43c9-a08e-8807542ad134",
   "metadata": {},
   "source": [
    "**MERGE METAR DATA BY 'ARRIVALDATE_ZULU'**"
   ]
  },
  {
   "cell_type": "code",
   "execution_count": 21,
   "id": "45729870-10b6-47c6-9a58-7646c7029d04",
   "metadata": {},
   "outputs": [],
   "source": [
    "adz1 = pd.merge_asof(\n",
    "    left=adz, \n",
    "    right=metar, \n",
    "    left_on='ARRIVALDATE_ZULU', \n",
    "    right_on='DATE', \n",
    "    direction='nearest', \n",
    "    left_by='DEST_STATION', \n",
    "    right_by='STATION')\n",
    "\n",
    "adz1 = adz1.rename(\n",
    "    columns={\n",
    "        'REM': 'SCH_ARRIVAL'})"
   ]
  },
  {
   "cell_type": "markdown",
   "id": "4f8e3ae3-f241-4b3f-bc1d-54478bf5dd85",
   "metadata": {},
   "source": [
    "**MERGE METAR DATA BY 'OUT_ZULU'**"
   ]
  },
  {
   "cell_type": "code",
   "execution_count": 22,
   "id": "cb1a50d4-05d0-473a-baa7-c10defa7acb6",
   "metadata": {},
   "outputs": [],
   "source": [
    "otz1 = pd.merge_asof(\n",
    "    left=otz, \n",
    "    right=metar, \n",
    "    left_on='OUT_ZULU', \n",
    "    right_on='DATE', \n",
    "    direction='nearest', \n",
    "    left_by='ORIGIN_STATION', \n",
    "    right_by='STATION')\n",
    "\n",
    "otz1 = otz1.rename(\n",
    "    columns={\n",
    "        'REM': 'ACT_DEPARTURE'})\n",
    "#otz1.info()"
   ]
  },
  {
   "cell_type": "markdown",
   "id": "d851303f-2780-4859-9641-afadcc448b7b",
   "metadata": {},
   "source": [
    "**MERGE METAR DATA BY 'IN_ZULU'**"
   ]
  },
  {
   "cell_type": "code",
   "execution_count": 23,
   "id": "2e49ae18-0f96-4d82-bf13-5c85e8185476",
   "metadata": {},
   "outputs": [],
   "source": [
    "inz1 = pd.merge_asof(\n",
    "    left=inz, \n",
    "    right=metar, \n",
    "    left_on='IN_ZULU', \n",
    "    right_on='DATE', \n",
    "    direction='nearest', \n",
    "    left_by='DEST_STATION', \n",
    "    right_by='STATION')\n",
    "\n",
    "inz1 = inz1.rename(\n",
    "    columns={\n",
    "        'REM': 'ACT_ARRIVAL'})"
   ]
  },
  {
   "cell_type": "raw",
   "id": "553e159a-026c-4939-a33f-2c4210d20da9",
   "metadata": {},
   "source": [
    "dot1.to_csv('data/united/united-flights-metar-dot.csv', index=False) # DEST OBSERVATION TIME\n",
    "\n",
    "oot1.to_csv('data/united/united-flights-metar-oot.csv', index=False) # ORIGIN OBSERVATION TIME\n",
    "\n",
    "ddz1.to_csv('data/united/united-flights-metar-ddz.csv', index=False) # DEPARTURE (ORIGIN) DATE ZULU\n",
    "\n",
    "adz1.to_csv('data/united/united-flights-metar-adz.csv', index=False) # ARRIVAL (DEST) DATE ZULU\n",
    "\n",
    "otz1.to_csv('data/united/united-flights-metar-otz.csv', index=False) # OUT ZULU\n",
    "\n",
    "inz1.to_csv('data/united/united-flights-metar-inz.csv', index=False) # IN ZULU"
   ]
  },
  {
   "cell_type": "code",
   "execution_count": null,
   "id": "3e0a54d6-d910-43c9-aa9f-f886f765c3b3",
   "metadata": {},
   "outputs": [],
   "source": []
  }
 ],
 "metadata": {
  "kernelspec": {
   "display_name": "Python 3 (ipykernel)",
   "language": "python",
   "name": "python3"
  },
  "language_info": {
   "codemirror_mode": {
    "name": "ipython",
    "version": 3
   },
   "file_extension": ".py",
   "mimetype": "text/x-python",
   "name": "python",
   "nbconvert_exporter": "python",
   "pygments_lexer": "ipython3",
   "version": "3.11.1"
  }
 },
 "nbformat": 4,
 "nbformat_minor": 5
}
